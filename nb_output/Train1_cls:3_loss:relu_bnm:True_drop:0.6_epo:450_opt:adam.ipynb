{
 "cells": [
  {
   "cell_type": "code",
   "execution_count": 1,
   "metadata": {
    "jupyter": {
     "source_hidden": true
    },
    "papermill": {
     "duration": 0.017755,
     "end_time": "2019-11-24T02:54:59.841353",
     "exception": false,
     "start_time": "2019-11-24T02:54:59.823598",
     "status": "completed"
    },
    "tags": [
     "injected-parameters"
    ]
   },
   "outputs": [],
   "source": [
    "# Parameters\n",
    "classes = 3\n",
    "lossfn = \"relu\"\n",
    "BATCH = True\n",
    "EPOCHS = 450\n",
    "DROPRATE = 0.6\n",
    "optim = \"adam\"\n"
   ]
  },
  {
   "cell_type": "code",
   "execution_count": 2,
   "metadata": {
    "jupyter": {
     "source_hidden": true
    },
    "papermill": {
     "duration": 0.36292,
     "end_time": "2019-11-24T02:55:00.213715",
     "exception": false,
     "start_time": "2019-11-24T02:54:59.850795",
     "status": "completed"
    },
    "tags": []
   },
   "outputs": [],
   "source": [
    "import numpy as np\n",
    "import pandas as pd\n",
    "import matplotlib.pyplot as plt\n",
    "import os\n",
    "import os.path as osp\n",
    "from datetime import datetime"
   ]
  },
  {
   "cell_type": "code",
   "execution_count": 3,
   "metadata": {
    "jupyter": {
     "source_hidden": true
    },
    "papermill": {
     "duration": 1.118943,
     "end_time": "2019-11-24T02:55:01.341170",
     "exception": false,
     "start_time": "2019-11-24T02:55:00.222227",
     "status": "completed"
    },
    "tags": []
   },
   "outputs": [
    {
     "name": "stderr",
     "output_type": "stream",
     "text": [
      "Using TensorFlow backend.\n"
     ]
    }
   ],
   "source": [
    "import matplotlib.pyplot as plt\n",
    "%matplotlib inline\n",
    "from matplotlib import style\n",
    "style.use('ggplot')\n",
    "import keras.backend as K\n",
    "import keras as keras\n",
    "from keras.models import Sequential,Model\n",
    "from keras.metrics import mae, categorical_accuracy\n",
    "\n",
    "from keras.layers import MaxPooling1D, Dense, Dropout, Flatten, Input, Conv1D, LeakyReLU, BatchNormalization, Softmax\n"
   ]
  },
  {
   "cell_type": "code",
   "execution_count": 4,
   "metadata": {
    "jupyter": {
     "source_hidden": true
    },
    "papermill": {
     "duration": 0.014086,
     "end_time": "2019-11-24T02:55:01.364672",
     "exception": false,
     "start_time": "2019-11-24T02:55:01.350586",
     "status": "completed"
    },
    "tags": []
   },
   "outputs": [],
   "source": [
    "# # curr_path = os.getcwd()\n",
    "# # curr_path\n",
    "# # lossfn = LeakyReLU(alpha=0.02)\n",
    "# optim = 'adam'\n",
    "# lossfn = 'relu'\n",
    "# BATCH = False\n",
    "# EPOCHS = 500\n",
    "# DROPRATE = 0.4\n",
    "# classes = 4"
   ]
  },
  {
   "cell_type": "code",
   "execution_count": 5,
   "metadata": {
    "jupyter": {
     "source_hidden": true
    },
    "papermill": {
     "duration": 0.014591,
     "end_time": "2019-11-24T02:55:01.387663",
     "exception": false,
     "start_time": "2019-11-24T02:55:01.373072",
     "status": "completed"
    },
    "tags": []
   },
   "outputs": [],
   "source": [
    "fold_dict = {}\n",
    "if classes == 4:\n",
    "    fold_dict = {\"O\":[0, 0,0,1],\"F\":[0, 0,1,0], 'S':[0, 1,0,0], \"N\":[1, 0,0,0]}\n",
    "elif classes == 3:\n",
    "    fold_dict = {\"O\":[0,0,1],\"F\":[0,1,0], 'S':[1,0,0]}\n",
    "# out_len = len(fold_dict.keys())"
   ]
  },
  {
   "cell_type": "code",
   "execution_count": 6,
   "metadata": {
    "jupyter": {
     "source_hidden": true
    },
    "papermill": {
     "duration": 0.015143,
     "end_time": "2019-11-24T02:55:01.411030",
     "exception": false,
     "start_time": "2019-11-24T02:55:01.395887",
     "status": "completed"
    },
    "tags": []
   },
   "outputs": [
    {
     "data": {
      "text/plain": [
       "'cls:3_loss:relu_bnm:True_drop:0.6_epo:450_opt:adam'"
      ]
     },
     "execution_count": 6,
     "metadata": {},
     "output_type": "execute_result"
    }
   ],
   "source": [
    "TEST_ID = \"cls:{}_loss:{}_bnm:{}_drop:{}_epo:{}_opt:{}\".format(classes, lossfn, BATCH, DROPRATE, EPOCHS, optim)\n",
    "TEST_ID"
   ]
  },
  {
   "cell_type": "code",
   "execution_count": 7,
   "metadata": {
    "jupyter": {
     "source_hidden": true
    },
    "papermill": {
     "duration": 0.013652,
     "end_time": "2019-11-24T02:55:01.433129",
     "exception": false,
     "start_time": "2019-11-24T02:55:01.419477",
     "status": "completed"
    },
    "tags": []
   },
   "outputs": [],
   "source": [
    "data_dir = 'data'\n",
    "chk_dir = 'checkpoints'\n",
    "plot_dir = 'plots'\n",
    "logdir = \"logs/scalars/\" + TEST_ID\n",
    "logdir = osp.join(logdir, datetime.now().strftime(\"%Y%m%d-%H%M%S\"))\n",
    "tb_callback = keras.callbacks.TensorBoard(log_dir=logdir)"
   ]
  },
  {
   "cell_type": "code",
   "execution_count": 8,
   "metadata": {
    "jupyter": {
     "source_hidden": true
    },
    "papermill": {
     "duration": 0.015593,
     "end_time": "2019-11-24T02:55:01.457069",
     "exception": false,
     "start_time": "2019-11-24T02:55:01.441476",
     "status": "completed"
    },
    "tags": []
   },
   "outputs": [],
   "source": [
    "def extract(fold,label):\n",
    "    fold_arr = []\n",
    "    labels_arr = []\n",
    "    files = []\n",
    "    for f in os.listdir(fold):\n",
    "        files.append(osp.join(fold, f))\n",
    "\n",
    "\n",
    "    for f in files:\n",
    "\n",
    "        lines = []\n",
    "        with open(f, 'r') as fw:\n",
    "            for i, line in enumerate(fw):\n",
    "                lines.append(int(line.split()[0]))\n",
    "        lines_arr = np.array(lines)\n",
    "        lines_arr=(lines_arr-np.mean(lines_arr))/np.var(lines_arr)\n",
    "        fold_arr.append(lines_arr)\n",
    "        labels_arr.append(label)\n",
    "    return fold_arr,labels_arr"
   ]
  },
  {
   "cell_type": "code",
   "execution_count": 9,
   "metadata": {
    "jupyter": {
     "source_hidden": true
    },
    "papermill": {
     "duration": 0.563352,
     "end_time": "2019-11-24T02:55:02.029701",
     "exception": false,
     "start_time": "2019-11-24T02:55:01.466349",
     "status": "completed"
    },
    "tags": []
   },
   "outputs": [],
   "source": [
    "fin_list = []\n",
    "train_X = []\n",
    "train_Y = []\n",
    "for key,val in fold_dict.items():\n",
    "    x,y = extract(osp.join(data_dir,key),val)\n",
    "    train_X.extend(x)\n",
    "    train_Y.extend(y)"
   ]
  },
  {
   "cell_type": "code",
   "execution_count": 10,
   "metadata": {
    "jupyter": {
     "source_hidden": true
    },
    "papermill": {
     "duration": 0.014427,
     "end_time": "2019-11-24T02:55:02.052382",
     "exception": false,
     "start_time": "2019-11-24T02:55:02.037955",
     "status": "completed"
    },
    "tags": []
   },
   "outputs": [
    {
     "data": {
      "text/plain": [
       "(300, 300)"
      ]
     },
     "execution_count": 10,
     "metadata": {},
     "output_type": "execute_result"
    }
   ],
   "source": [
    "len(train_X),len(train_Y)"
   ]
  },
  {
   "cell_type": "code",
   "execution_count": 11,
   "metadata": {
    "jupyter": {
     "source_hidden": true
    },
    "papermill": {
     "duration": 0.885007,
     "end_time": "2019-11-24T02:55:02.946865",
     "exception": false,
     "start_time": "2019-11-24T02:55:02.061858",
     "status": "completed"
    },
    "tags": []
   },
   "outputs": [
    {
     "name": "stdout",
     "output_type": "stream",
     "text": [
      "WARNING:tensorflow:Large dropout rate: 0.6 (>0.5). In TensorFlow 2.x, dropout() uses dropout rate instead of keep_prob. Please ensure that this is intended.\n"
     ]
    },
    {
     "name": "stdout",
     "output_type": "stream",
     "text": [
      "WARNING:tensorflow:Large dropout rate: 0.6 (>0.5). In TensorFlow 2.x, dropout() uses dropout rate instead of keep_prob. Please ensure that this is intended.\n"
     ]
    },
    {
     "name": "stdout",
     "output_type": "stream",
     "text": [
      "WARNING:tensorflow:Large dropout rate: 0.6 (>0.5). In TensorFlow 2.x, dropout() uses dropout rate instead of keep_prob. Please ensure that this is intended.\n"
     ]
    }
   ],
   "source": [
    "in_lay = Input((4097,1))\n",
    "\n",
    "\n",
    "l1 = Conv1D(4, kernel_size = 6, strides=1, padding = 'same',activation = lossfn)(in_lay)\n",
    "ml1 = MaxPooling1D(pool_size=2, strides=2)(l1)\n",
    "if BATCH: ml1 = BatchNormalization()(ml1)\n",
    "\n",
    "l1 = Conv1D(4, kernel_size = 5, strides=1, padding = 'same',activation = lossfn)(ml1)\n",
    "ml1 = MaxPooling1D(pool_size=2, strides=2)(l1)\n",
    "if BATCH: ml1 = BatchNormalization()(ml1)\n",
    "\n",
    "l1 = Conv1D(10, kernel_size = 4, strides=1, padding = 'same',activation = lossfn)(ml1)\n",
    "ml1 = MaxPooling1D(pool_size=2, strides=2)(l1)\n",
    "if BATCH: ml1 = BatchNormalization()(ml1)\n",
    "\n",
    "l1 = Conv1D(10, kernel_size = 4, strides=1, padding = 'same',activation = lossfn)(ml1)\n",
    "ml1 = MaxPooling1D(pool_size=2, strides=2)(l1)\n",
    "if BATCH: ml1 = BatchNormalization()(ml1)\n",
    "\n",
    "l1 = Conv1D(15, kernel_size = 4, strides=1, padding = 'same',activation = lossfn)(ml1)\n",
    "ml1 = MaxPooling1D(pool_size=2, strides=2)(l1)\n",
    "if BATCH: ml1 = BatchNormalization()(ml1)\n",
    "\n",
    "l1 = Conv1D(15, kernel_size = 4, strides=1, padding = 'same',activation = lossfn)(ml1)\n",
    "ml1 = MaxPooling1D(pool_size=2, strides=2)(l1)\n",
    "if BATCH: ml1 = BatchNormalization()(ml1)\n",
    "    \n",
    "l1 = Conv1D(20, kernel_size = 3, strides=1, padding = 'same',activation = lossfn)(ml1)\n",
    "ml1 = MaxPooling1D(pool_size=2, strides=2)(l1)\n",
    "if BATCH: ml1 = BatchNormalization()(ml1)\n",
    "\n",
    "flat = Flatten()(ml1)\n",
    "flat = Dropout(DROPRATE)(flat)\n",
    "\n",
    "flat = Dense(50)(flat)\n",
    "flat = Dropout(DROPRATE)(flat)\n",
    "\n",
    "flat = Dense(20)(flat)\n",
    "flat = Dropout(DROPRATE)(flat)\n",
    "\n",
    "flat = Dense(classes)(flat)\n",
    "\n",
    "flat = Softmax()(flat)\n",
    "\n",
    "model=Model(inputs = [in_lay], outputs = [flat])\n",
    "model.compile(optimizer = optim, \n",
    "              loss = 'categorical_crossentropy', \n",
    "              metrics=['accuracy'])\n",
    "#                                                                              , mae, categorical_accuracy])\n",
    "# model.summary()"
   ]
  },
  {
   "cell_type": "code",
   "execution_count": 12,
   "metadata": {
    "jupyter": {
     "source_hidden": true
    },
    "papermill": {
     "duration": 0.015215,
     "end_time": "2019-11-24T02:55:02.970759",
     "exception": false,
     "start_time": "2019-11-24T02:55:02.955544",
     "status": "completed"
    },
    "tags": []
   },
   "outputs": [],
   "source": [
    "from keras.callbacks import ModelCheckpoint, LearningRateScheduler, EarlyStopping, ReduceLROnPlateau\n",
    "weight_path = osp.join(chk_dir, \n",
    "                       \"{}_{}_weights.best.hdf5\".format('epilepsy', \n",
    "                                                        TEST_ID))\n",
    "\n",
    "checkpoint = ModelCheckpoint(weight_path, monitor='val_loss', verbose=1, \n",
    "                             save_best_only=True, mode='min', save_weights_only = True)\n",
    "\n",
    "\n",
    "reduceLROnPlat = ReduceLROnPlateau(monitor='val_loss', \n",
    "                                   factor=0.998, \n",
    "                                   patience=10, \n",
    "                                   verbose=1, \n",
    "                                   mode='auto', \n",
    "                                   min_delta=0.0001, \n",
    "                                   cooldown=5, \n",
    "                                   min_lr=0.0000001)\n",
    "early = EarlyStopping(monitor=\"val_loss\", \n",
    "                      mode=\"min\", \n",
    "                      patience=150)\n",
    "callbacks_list = [checkpoint, early, reduceLROnPlat, tb_callback]"
   ]
  },
  {
   "cell_type": "code",
   "execution_count": 13,
   "metadata": {
    "jupyter": {
     "source_hidden": true
    },
    "papermill": {
     "duration": 0.017889,
     "end_time": "2019-11-24T02:55:02.998231",
     "exception": false,
     "start_time": "2019-11-24T02:55:02.980342",
     "status": "completed"
    },
    "tags": []
   },
   "outputs": [],
   "source": [
    "DATA = np.array(train_X)\n",
    "LABEL = np.array(train_Y)\n",
    "\n",
    "DATA = DATA.reshape((DATA.shape[0], DATA.shape[1], 1))\n",
    "# LABEL = LABEL.reshape((LABEL.shape[0], LABEL.shape[1], 1))\n",
    "\n",
    "# DATA.shape, LABEL.shape"
   ]
  },
  {
   "cell_type": "code",
   "execution_count": 14,
   "metadata": {
    "jupyter": {
     "source_hidden": true
    },
    "papermill": {
     "duration": 24.329923,
     "end_time": "2019-11-24T02:55:27.337088",
     "exception": false,
     "start_time": "2019-11-24T02:55:03.007165",
     "status": "completed"
    },
    "tags": []
   },
   "outputs": [
    {
     "name": "stdout",
     "output_type": "stream",
     "text": [
      "\n",
      "Epoch 00001: val_loss improved from inf to 1.11878, saving model to checkpoints/epilepsy_cls:3_loss:relu_bnm:True_drop:0.6_epo:450_opt:adam_weights.best.hdf5\n",
      "\n",
      "Epoch 00002: val_loss did not improve from 1.11878\n"
     ]
    },
    {
     "name": "stdout",
     "output_type": "stream",
     "text": [
      "\n",
      "Epoch 00003: val_loss did not improve from 1.11878\n",
      "\n",
      "Epoch 00004: val_loss did not improve from 1.11878\n",
      "\n",
      "Epoch 00005: val_loss improved from 1.11878 to 1.10761, saving model to checkpoints/epilepsy_cls:3_loss:relu_bnm:True_drop:0.6_epo:450_opt:adam_weights.best.hdf5\n"
     ]
    },
    {
     "name": "stdout",
     "output_type": "stream",
     "text": [
      "\n",
      "Epoch 00006: val_loss improved from 1.10761 to 1.08222, saving model to checkpoints/epilepsy_cls:3_loss:relu_bnm:True_drop:0.6_epo:450_opt:adam_weights.best.hdf5\n",
      "\n",
      "Epoch 00007: val_loss improved from 1.08222 to 1.05305, saving model to checkpoints/epilepsy_cls:3_loss:relu_bnm:True_drop:0.6_epo:450_opt:adam_weights.best.hdf5\n",
      "\n",
      "Epoch 00008: val_loss improved from 1.05305 to 1.02260, saving model to checkpoints/epilepsy_cls:3_loss:relu_bnm:True_drop:0.6_epo:450_opt:adam_weights.best.hdf5\n"
     ]
    },
    {
     "name": "stdout",
     "output_type": "stream",
     "text": [
      "\n",
      "Epoch 00009: val_loss improved from 1.02260 to 0.98905, saving model to checkpoints/epilepsy_cls:3_loss:relu_bnm:True_drop:0.6_epo:450_opt:adam_weights.best.hdf5\n",
      "\n",
      "Epoch 00010: val_loss improved from 0.98905 to 0.95615, saving model to checkpoints/epilepsy_cls:3_loss:relu_bnm:True_drop:0.6_epo:450_opt:adam_weights.best.hdf5\n",
      "\n",
      "Epoch 00011: val_loss improved from 0.95615 to 0.92072, saving model to checkpoints/epilepsy_cls:3_loss:relu_bnm:True_drop:0.6_epo:450_opt:adam_weights.best.hdf5\n"
     ]
    },
    {
     "name": "stdout",
     "output_type": "stream",
     "text": [
      "\n",
      "Epoch 00012: val_loss improved from 0.92072 to 0.88542, saving model to checkpoints/epilepsy_cls:3_loss:relu_bnm:True_drop:0.6_epo:450_opt:adam_weights.best.hdf5\n",
      "\n",
      "Epoch 00013: val_loss improved from 0.88542 to 0.85163, saving model to checkpoints/epilepsy_cls:3_loss:relu_bnm:True_drop:0.6_epo:450_opt:adam_weights.best.hdf5\n",
      "\n",
      "Epoch 00014: val_loss improved from 0.85163 to 0.81727, saving model to checkpoints/epilepsy_cls:3_loss:relu_bnm:True_drop:0.6_epo:450_opt:adam_weights.best.hdf5\n"
     ]
    },
    {
     "name": "stdout",
     "output_type": "stream",
     "text": [
      "\n",
      "Epoch 00015: val_loss improved from 0.81727 to 0.78825, saving model to checkpoints/epilepsy_cls:3_loss:relu_bnm:True_drop:0.6_epo:450_opt:adam_weights.best.hdf5\n",
      "\n",
      "Epoch 00016: val_loss improved from 0.78825 to 0.76331, saving model to checkpoints/epilepsy_cls:3_loss:relu_bnm:True_drop:0.6_epo:450_opt:adam_weights.best.hdf5\n",
      "\n",
      "Epoch 00017: val_loss improved from 0.76331 to 0.74247, saving model to checkpoints/epilepsy_cls:3_loss:relu_bnm:True_drop:0.6_epo:450_opt:adam_weights.best.hdf5\n"
     ]
    },
    {
     "name": "stdout",
     "output_type": "stream",
     "text": [
      "\n",
      "Epoch 00018: val_loss improved from 0.74247 to 0.72364, saving model to checkpoints/epilepsy_cls:3_loss:relu_bnm:True_drop:0.6_epo:450_opt:adam_weights.best.hdf5\n",
      "\n",
      "Epoch 00019: val_loss improved from 0.72364 to 0.70912, saving model to checkpoints/epilepsy_cls:3_loss:relu_bnm:True_drop:0.6_epo:450_opt:adam_weights.best.hdf5\n",
      "\n",
      "Epoch 00020: val_loss improved from 0.70912 to 0.69930, saving model to checkpoints/epilepsy_cls:3_loss:relu_bnm:True_drop:0.6_epo:450_opt:adam_weights.best.hdf5\n"
     ]
    },
    {
     "name": "stdout",
     "output_type": "stream",
     "text": [
      "\n",
      "Epoch 00021: val_loss improved from 0.69930 to 0.69096, saving model to checkpoints/epilepsy_cls:3_loss:relu_bnm:True_drop:0.6_epo:450_opt:adam_weights.best.hdf5\n",
      "\n",
      "Epoch 00022: val_loss improved from 0.69096 to 0.68491, saving model to checkpoints/epilepsy_cls:3_loss:relu_bnm:True_drop:0.6_epo:450_opt:adam_weights.best.hdf5\n",
      "\n",
      "Epoch 00023: val_loss improved from 0.68491 to 0.68368, saving model to checkpoints/epilepsy_cls:3_loss:relu_bnm:True_drop:0.6_epo:450_opt:adam_weights.best.hdf5\n"
     ]
    },
    {
     "name": "stdout",
     "output_type": "stream",
     "text": [
      "\n",
      "Epoch 00024: val_loss did not improve from 0.68368\n",
      "\n",
      "Epoch 00025: val_loss did not improve from 0.68368\n",
      "\n",
      "Epoch 00026: val_loss did not improve from 0.68368\n",
      "\n",
      "Epoch 00027: val_loss did not improve from 0.68368\n"
     ]
    },
    {
     "name": "stdout",
     "output_type": "stream",
     "text": [
      "\n",
      "Epoch 00028: val_loss did not improve from 0.68368\n",
      "\n",
      "Epoch 00029: val_loss did not improve from 0.68368\n",
      "\n",
      "Epoch 00030: val_loss did not improve from 0.68368\n",
      "\n",
      "Epoch 00031: val_loss did not improve from 0.68368\n"
     ]
    },
    {
     "name": "stdout",
     "output_type": "stream",
     "text": [
      "\n",
      "Epoch 00032: val_loss did not improve from 0.68368\n",
      "\n",
      "Epoch 00033: val_loss did not improve from 0.68368\n",
      "\n",
      "Epoch 00033: ReduceLROnPlateau reducing learning rate to 0.0009980000474024565.\n",
      "\n",
      "Epoch 00034: val_loss did not improve from 0.68368\n",
      "\n",
      "Epoch 00035: val_loss did not improve from 0.68368\n"
     ]
    },
    {
     "name": "stdout",
     "output_type": "stream",
     "text": [
      "\n",
      "Epoch 00036: val_loss did not improve from 0.68368\n",
      "\n",
      "Epoch 00037: val_loss did not improve from 0.68368\n",
      "\n",
      "Epoch 00038: val_loss improved from 0.68368 to 0.67107, saving model to checkpoints/epilepsy_cls:3_loss:relu_bnm:True_drop:0.6_epo:450_opt:adam_weights.best.hdf5\n"
     ]
    },
    {
     "name": "stdout",
     "output_type": "stream",
     "text": [
      "\n",
      "Epoch 00039: val_loss improved from 0.67107 to 0.65634, saving model to checkpoints/epilepsy_cls:3_loss:relu_bnm:True_drop:0.6_epo:450_opt:adam_weights.best.hdf5\n",
      "\n",
      "Epoch 00040: val_loss improved from 0.65634 to 0.64383, saving model to checkpoints/epilepsy_cls:3_loss:relu_bnm:True_drop:0.6_epo:450_opt:adam_weights.best.hdf5\n",
      "\n",
      "Epoch 00041: val_loss improved from 0.64383 to 0.62822, saving model to checkpoints/epilepsy_cls:3_loss:relu_bnm:True_drop:0.6_epo:450_opt:adam_weights.best.hdf5\n"
     ]
    },
    {
     "name": "stdout",
     "output_type": "stream",
     "text": [
      "\n",
      "Epoch 00042: val_loss improved from 0.62822 to 0.62601, saving model to checkpoints/epilepsy_cls:3_loss:relu_bnm:True_drop:0.6_epo:450_opt:adam_weights.best.hdf5\n",
      "\n",
      "Epoch 00043: val_loss did not improve from 0.62601\n",
      "\n",
      "Epoch 00044: val_loss did not improve from 0.62601\n"
     ]
    },
    {
     "name": "stdout",
     "output_type": "stream",
     "text": [
      "\n",
      "Epoch 00045: val_loss improved from 0.62601 to 0.62582, saving model to checkpoints/epilepsy_cls:3_loss:relu_bnm:True_drop:0.6_epo:450_opt:adam_weights.best.hdf5\n",
      "\n",
      "Epoch 00046: val_loss improved from 0.62582 to 0.61554, saving model to checkpoints/epilepsy_cls:3_loss:relu_bnm:True_drop:0.6_epo:450_opt:adam_weights.best.hdf5\n",
      "\n",
      "Epoch 00047: val_loss improved from 0.61554 to 0.59730, saving model to checkpoints/epilepsy_cls:3_loss:relu_bnm:True_drop:0.6_epo:450_opt:adam_weights.best.hdf5\n"
     ]
    },
    {
     "name": "stdout",
     "output_type": "stream",
     "text": [
      "\n",
      "Epoch 00048: val_loss improved from 0.59730 to 0.57869, saving model to checkpoints/epilepsy_cls:3_loss:relu_bnm:True_drop:0.6_epo:450_opt:adam_weights.best.hdf5\n",
      "\n",
      "Epoch 00049: val_loss improved from 0.57869 to 0.55533, saving model to checkpoints/epilepsy_cls:3_loss:relu_bnm:True_drop:0.6_epo:450_opt:adam_weights.best.hdf5\n",
      "\n",
      "Epoch 00050: val_loss improved from 0.55533 to 0.53619, saving model to checkpoints/epilepsy_cls:3_loss:relu_bnm:True_drop:0.6_epo:450_opt:adam_weights.best.hdf5\n"
     ]
    },
    {
     "name": "stdout",
     "output_type": "stream",
     "text": [
      "\n",
      "Epoch 00051: val_loss improved from 0.53619 to 0.52512, saving model to checkpoints/epilepsy_cls:3_loss:relu_bnm:True_drop:0.6_epo:450_opt:adam_weights.best.hdf5\n",
      "\n",
      "Epoch 00052: val_loss improved from 0.52512 to 0.51398, saving model to checkpoints/epilepsy_cls:3_loss:relu_bnm:True_drop:0.6_epo:450_opt:adam_weights.best.hdf5\n",
      "\n",
      "Epoch 00053: val_loss improved from 0.51398 to 0.50506, saving model to checkpoints/epilepsy_cls:3_loss:relu_bnm:True_drop:0.6_epo:450_opt:adam_weights.best.hdf5\n"
     ]
    },
    {
     "name": "stdout",
     "output_type": "stream",
     "text": [
      "\n",
      "Epoch 00054: val_loss improved from 0.50506 to 0.49206, saving model to checkpoints/epilepsy_cls:3_loss:relu_bnm:True_drop:0.6_epo:450_opt:adam_weights.best.hdf5\n",
      "\n",
      "Epoch 00055: val_loss improved from 0.49206 to 0.48210, saving model to checkpoints/epilepsy_cls:3_loss:relu_bnm:True_drop:0.6_epo:450_opt:adam_weights.best.hdf5\n",
      "\n",
      "Epoch 00056: val_loss improved from 0.48210 to 0.46634, saving model to checkpoints/epilepsy_cls:3_loss:relu_bnm:True_drop:0.6_epo:450_opt:adam_weights.best.hdf5\n"
     ]
    },
    {
     "name": "stdout",
     "output_type": "stream",
     "text": [
      "\n",
      "Epoch 00057: val_loss improved from 0.46634 to 0.44997, saving model to checkpoints/epilepsy_cls:3_loss:relu_bnm:True_drop:0.6_epo:450_opt:adam_weights.best.hdf5\n",
      "\n",
      "Epoch 00058: val_loss improved from 0.44997 to 0.43544, saving model to checkpoints/epilepsy_cls:3_loss:relu_bnm:True_drop:0.6_epo:450_opt:adam_weights.best.hdf5\n",
      "\n",
      "Epoch 00059: val_loss improved from 0.43544 to 0.41725, saving model to checkpoints/epilepsy_cls:3_loss:relu_bnm:True_drop:0.6_epo:450_opt:adam_weights.best.hdf5\n"
     ]
    },
    {
     "name": "stdout",
     "output_type": "stream",
     "text": [
      "\n",
      "Epoch 00060: val_loss improved from 0.41725 to 0.40564, saving model to checkpoints/epilepsy_cls:3_loss:relu_bnm:True_drop:0.6_epo:450_opt:adam_weights.best.hdf5\n",
      "\n",
      "Epoch 00061: val_loss improved from 0.40564 to 0.40009, saving model to checkpoints/epilepsy_cls:3_loss:relu_bnm:True_drop:0.6_epo:450_opt:adam_weights.best.hdf5\n",
      "\n",
      "Epoch 00062: val_loss improved from 0.40009 to 0.38723, saving model to checkpoints/epilepsy_cls:3_loss:relu_bnm:True_drop:0.6_epo:450_opt:adam_weights.best.hdf5\n"
     ]
    },
    {
     "name": "stdout",
     "output_type": "stream",
     "text": [
      "\n",
      "Epoch 00063: val_loss improved from 0.38723 to 0.38438, saving model to checkpoints/epilepsy_cls:3_loss:relu_bnm:True_drop:0.6_epo:450_opt:adam_weights.best.hdf5\n",
      "\n",
      "Epoch 00064: val_loss improved from 0.38438 to 0.38170, saving model to checkpoints/epilepsy_cls:3_loss:relu_bnm:True_drop:0.6_epo:450_opt:adam_weights.best.hdf5\n",
      "\n",
      "Epoch 00065: val_loss improved from 0.38170 to 0.37888, saving model to checkpoints/epilepsy_cls:3_loss:relu_bnm:True_drop:0.6_epo:450_opt:adam_weights.best.hdf5\n"
     ]
    },
    {
     "name": "stdout",
     "output_type": "stream",
     "text": [
      "\n",
      "Epoch 00066: val_loss improved from 0.37888 to 0.36475, saving model to checkpoints/epilepsy_cls:3_loss:relu_bnm:True_drop:0.6_epo:450_opt:adam_weights.best.hdf5\n",
      "\n",
      "Epoch 00067: val_loss improved from 0.36475 to 0.34812, saving model to checkpoints/epilepsy_cls:3_loss:relu_bnm:True_drop:0.6_epo:450_opt:adam_weights.best.hdf5\n",
      "\n",
      "Epoch 00068: val_loss improved from 0.34812 to 0.32783, saving model to checkpoints/epilepsy_cls:3_loss:relu_bnm:True_drop:0.6_epo:450_opt:adam_weights.best.hdf5\n"
     ]
    },
    {
     "name": "stdout",
     "output_type": "stream",
     "text": [
      "\n",
      "Epoch 00069: val_loss improved from 0.32783 to 0.31477, saving model to checkpoints/epilepsy_cls:3_loss:relu_bnm:True_drop:0.6_epo:450_opt:adam_weights.best.hdf5\n",
      "\n",
      "Epoch 00070: val_loss improved from 0.31477 to 0.30737, saving model to checkpoints/epilepsy_cls:3_loss:relu_bnm:True_drop:0.6_epo:450_opt:adam_weights.best.hdf5\n",
      "\n",
      "Epoch 00071: val_loss improved from 0.30737 to 0.30231, saving model to checkpoints/epilepsy_cls:3_loss:relu_bnm:True_drop:0.6_epo:450_opt:adam_weights.best.hdf5\n"
     ]
    },
    {
     "name": "stdout",
     "output_type": "stream",
     "text": [
      "\n",
      "Epoch 00072: val_loss improved from 0.30231 to 0.29853, saving model to checkpoints/epilepsy_cls:3_loss:relu_bnm:True_drop:0.6_epo:450_opt:adam_weights.best.hdf5\n",
      "\n",
      "Epoch 00073: val_loss did not improve from 0.29853\n",
      "\n",
      "Epoch 00074: val_loss improved from 0.29853 to 0.29719, saving model to checkpoints/epilepsy_cls:3_loss:relu_bnm:True_drop:0.6_epo:450_opt:adam_weights.best.hdf5\n"
     ]
    },
    {
     "name": "stdout",
     "output_type": "stream",
     "text": [
      "\n",
      "Epoch 00075: val_loss did not improve from 0.29719\n",
      "\n",
      "Epoch 00076: val_loss did not improve from 0.29719\n",
      "\n",
      "Epoch 00077: val_loss did not improve from 0.29719\n",
      "\n",
      "Epoch 00078: val_loss did not improve from 0.29719\n"
     ]
    },
    {
     "name": "stdout",
     "output_type": "stream",
     "text": [
      "\n",
      "Epoch 00079: val_loss did not improve from 0.29719\n",
      "\n",
      "Epoch 00080: val_loss did not improve from 0.29719\n",
      "\n",
      "Epoch 00081: val_loss did not improve from 0.29719\n"
     ]
    },
    {
     "name": "stdout",
     "output_type": "stream",
     "text": [
      "\n",
      "Epoch 00082: val_loss did not improve from 0.29719\n",
      "\n",
      "Epoch 00083: val_loss did not improve from 0.29719\n",
      "\n",
      "Epoch 00084: val_loss did not improve from 0.29719\n",
      "\n",
      "Epoch 00084: ReduceLROnPlateau reducing learning rate to 0.0009960040322039277.\n",
      "\n",
      "Epoch 00085: val_loss did not improve from 0.29719\n"
     ]
    },
    {
     "name": "stdout",
     "output_type": "stream",
     "text": [
      "\n",
      "Epoch 00086: val_loss improved from 0.29719 to 0.29632, saving model to checkpoints/epilepsy_cls:3_loss:relu_bnm:True_drop:0.6_epo:450_opt:adam_weights.best.hdf5\n",
      "\n",
      "Epoch 00087: val_loss improved from 0.29632 to 0.28660, saving model to checkpoints/epilepsy_cls:3_loss:relu_bnm:True_drop:0.6_epo:450_opt:adam_weights.best.hdf5\n",
      "\n",
      "Epoch 00088: val_loss improved from 0.28660 to 0.27633, saving model to checkpoints/epilepsy_cls:3_loss:relu_bnm:True_drop:0.6_epo:450_opt:adam_weights.best.hdf5\n"
     ]
    },
    {
     "name": "stdout",
     "output_type": "stream",
     "text": [
      "\n",
      "Epoch 00089: val_loss did not improve from 0.27633\n",
      "\n",
      "Epoch 00090: val_loss did not improve from 0.27633\n",
      "\n",
      "Epoch 00091: val_loss improved from 0.27633 to 0.26979, saving model to checkpoints/epilepsy_cls:3_loss:relu_bnm:True_drop:0.6_epo:450_opt:adam_weights.best.hdf5\n"
     ]
    },
    {
     "name": "stdout",
     "output_type": "stream",
     "text": [
      "\n",
      "Epoch 00092: val_loss improved from 0.26979 to 0.26330, saving model to checkpoints/epilepsy_cls:3_loss:relu_bnm:True_drop:0.6_epo:450_opt:adam_weights.best.hdf5\n",
      "\n",
      "Epoch 00093: val_loss improved from 0.26330 to 0.25718, saving model to checkpoints/epilepsy_cls:3_loss:relu_bnm:True_drop:0.6_epo:450_opt:adam_weights.best.hdf5\n",
      "\n",
      "Epoch 00094: val_loss did not improve from 0.25718\n"
     ]
    },
    {
     "name": "stdout",
     "output_type": "stream",
     "text": [
      "\n",
      "Epoch 00095: val_loss did not improve from 0.25718\n",
      "\n",
      "Epoch 00096: val_loss did not improve from 0.25718\n",
      "\n",
      "Epoch 00097: val_loss did not improve from 0.25718\n",
      "\n",
      "Epoch 00098: val_loss did not improve from 0.25718\n"
     ]
    },
    {
     "name": "stdout",
     "output_type": "stream",
     "text": [
      "\n",
      "Epoch 00099: val_loss did not improve from 0.25718\n",
      "\n",
      "Epoch 00100: val_loss did not improve from 0.25718\n",
      "\n",
      "Epoch 00101: val_loss did not improve from 0.25718\n",
      "\n",
      "Epoch 00102: val_loss did not improve from 0.25718\n"
     ]
    },
    {
     "name": "stdout",
     "output_type": "stream",
     "text": [
      "\n",
      "Epoch 00103: val_loss did not improve from 0.25718\n",
      "\n",
      "Epoch 00103: ReduceLROnPlateau reducing learning rate to 0.000994011967210099.\n",
      "\n",
      "Epoch 00104: val_loss did not improve from 0.25718\n",
      "\n",
      "Epoch 00105: val_loss did not improve from 0.25718\n",
      "\n",
      "Epoch 00106: val_loss did not improve from 0.25718\n"
     ]
    },
    {
     "name": "stdout",
     "output_type": "stream",
     "text": [
      "\n",
      "Epoch 00107: val_loss did not improve from 0.25718\n",
      "\n",
      "Epoch 00108: val_loss did not improve from 0.25718\n",
      "\n",
      "Epoch 00109: val_loss did not improve from 0.25718\n",
      "\n",
      "Epoch 00110: val_loss did not improve from 0.25718\n"
     ]
    },
    {
     "name": "stdout",
     "output_type": "stream",
     "text": [
      "\n",
      "Epoch 00111: val_loss did not improve from 0.25718\n",
      "\n",
      "Epoch 00112: val_loss did not improve from 0.25718\n",
      "\n",
      "Epoch 00113: val_loss did not improve from 0.25718\n",
      "\n",
      "Epoch 00114: val_loss did not improve from 0.25718\n"
     ]
    },
    {
     "name": "stdout",
     "output_type": "stream",
     "text": [
      "\n",
      "Epoch 00115: val_loss did not improve from 0.25718\n",
      "\n",
      "Epoch 00116: val_loss did not improve from 0.25718\n",
      "\n",
      "Epoch 00117: val_loss did not improve from 0.25718\n",
      "\n",
      "Epoch 00117: ReduceLROnPlateau reducing learning rate to 0.000992023968603462.\n",
      "\n",
      "Epoch 00118: val_loss did not improve from 0.25718\n"
     ]
    },
    {
     "name": "stdout",
     "output_type": "stream",
     "text": [
      "\n",
      "Epoch 00119: val_loss did not improve from 0.25718\n",
      "\n",
      "Epoch 00120: val_loss did not improve from 0.25718\n",
      "\n",
      "Epoch 00121: val_loss did not improve from 0.25718\n",
      "\n",
      "Epoch 00122: val_loss did not improve from 0.25718\n"
     ]
    },
    {
     "name": "stdout",
     "output_type": "stream",
     "text": [
      "\n",
      "Epoch 00123: val_loss did not improve from 0.25718\n",
      "\n",
      "Epoch 00124: val_loss did not improve from 0.25718\n",
      "\n",
      "Epoch 00125: val_loss did not improve from 0.25718\n",
      "\n",
      "Epoch 00126: val_loss did not improve from 0.25718\n"
     ]
    },
    {
     "name": "stdout",
     "output_type": "stream",
     "text": [
      "\n",
      "Epoch 00127: val_loss did not improve from 0.25718\n",
      "\n",
      "Epoch 00128: val_loss did not improve from 0.25718\n",
      "\n",
      "Epoch 00129: val_loss did not improve from 0.25718\n",
      "\n",
      "Epoch 00130: val_loss did not improve from 0.25718\n"
     ]
    },
    {
     "name": "stdout",
     "output_type": "stream",
     "text": [
      "\n",
      "Epoch 00131: val_loss did not improve from 0.25718\n",
      "\n",
      "Epoch 00131: ReduceLROnPlateau reducing learning rate to 0.000990039920201525.\n",
      "\n",
      "Epoch 00132: val_loss did not improve from 0.25718\n",
      "\n",
      "Epoch 00133: val_loss did not improve from 0.25718\n",
      "\n",
      "Epoch 00134: val_loss did not improve from 0.25718\n"
     ]
    },
    {
     "name": "stdout",
     "output_type": "stream",
     "text": [
      "\n",
      "Epoch 00135: val_loss did not improve from 0.25718\n",
      "\n",
      "Epoch 00136: val_loss did not improve from 0.25718\n",
      "\n",
      "Epoch 00137: val_loss did not improve from 0.25718\n",
      "\n",
      "Epoch 00138: val_loss did not improve from 0.25718\n"
     ]
    },
    {
     "name": "stdout",
     "output_type": "stream",
     "text": [
      "\n",
      "Epoch 00139: val_loss did not improve from 0.25718\n",
      "\n",
      "Epoch 00140: val_loss did not improve from 0.25718\n",
      "\n",
      "Epoch 00141: val_loss did not improve from 0.25718\n",
      "\n",
      "Epoch 00142: val_loss did not improve from 0.25718\n"
     ]
    },
    {
     "name": "stdout",
     "output_type": "stream",
     "text": [
      "\n",
      "Epoch 00143: val_loss did not improve from 0.25718\n",
      "\n",
      "Epoch 00144: val_loss did not improve from 0.25718\n",
      "\n",
      "Epoch 00145: val_loss did not improve from 0.25718\n",
      "\n",
      "Epoch 00145: ReduceLROnPlateau reducing learning rate to 0.0009880598220042885.\n",
      "\n",
      "Epoch 00146: val_loss did not improve from 0.25718\n"
     ]
    },
    {
     "name": "stdout",
     "output_type": "stream",
     "text": [
      "\n",
      "Epoch 00147: val_loss did not improve from 0.25718\n",
      "\n",
      "Epoch 00148: val_loss did not improve from 0.25718\n",
      "\n",
      "Epoch 00149: val_loss did not improve from 0.25718\n",
      "\n",
      "Epoch 00150: val_loss did not improve from 0.25718\n"
     ]
    },
    {
     "name": "stdout",
     "output_type": "stream",
     "text": [
      "\n",
      "Epoch 00151: val_loss did not improve from 0.25718\n",
      "\n",
      "Epoch 00152: val_loss did not improve from 0.25718\n",
      "\n",
      "Epoch 00153: val_loss did not improve from 0.25718\n",
      "\n",
      "Epoch 00154: val_loss did not improve from 0.25718\n"
     ]
    },
    {
     "name": "stdout",
     "output_type": "stream",
     "text": [
      "\n",
      "Epoch 00155: val_loss did not improve from 0.25718\n",
      "\n",
      "Epoch 00156: val_loss did not improve from 0.25718\n",
      "\n",
      "Epoch 00157: val_loss did not improve from 0.25718\n"
     ]
    },
    {
     "name": "stdout",
     "output_type": "stream",
     "text": [
      "\n",
      "Epoch 00158: val_loss did not improve from 0.25718\n",
      "\n",
      "Epoch 00159: val_loss did not improve from 0.25718\n",
      "\n",
      "Epoch 00159: ReduceLROnPlateau reducing learning rate to 0.000986083674011752.\n",
      "\n",
      "Epoch 00160: val_loss did not improve from 0.25718\n",
      "\n",
      "Epoch 00161: val_loss did not improve from 0.25718\n"
     ]
    },
    {
     "name": "stdout",
     "output_type": "stream",
     "text": [
      "\n",
      "Epoch 00162: val_loss did not improve from 0.25718\n",
      "\n",
      "Epoch 00163: val_loss did not improve from 0.25718\n",
      "\n",
      "Epoch 00164: val_loss did not improve from 0.25718\n",
      "\n",
      "Epoch 00165: val_loss did not improve from 0.25718\n"
     ]
    },
    {
     "name": "stdout",
     "output_type": "stream",
     "text": [
      "\n",
      "Epoch 00166: val_loss did not improve from 0.25718\n",
      "\n",
      "Epoch 00167: val_loss did not improve from 0.25718\n",
      "\n",
      "Epoch 00168: val_loss did not improve from 0.25718\n",
      "\n",
      "Epoch 00169: val_loss did not improve from 0.25718\n"
     ]
    },
    {
     "name": "stdout",
     "output_type": "stream",
     "text": [
      "\n",
      "Epoch 00170: val_loss did not improve from 0.25718\n",
      "\n",
      "Epoch 00171: val_loss did not improve from 0.25718\n",
      "\n",
      "Epoch 00172: val_loss did not improve from 0.25718\n",
      "\n",
      "Epoch 00173: val_loss did not improve from 0.25718\n",
      "\n",
      "Epoch 00173: ReduceLROnPlateau reducing learning rate to 0.0009841114762239157.\n"
     ]
    },
    {
     "name": "stdout",
     "output_type": "stream",
     "text": [
      "\n",
      "Epoch 00174: val_loss did not improve from 0.25718\n",
      "\n",
      "Epoch 00175: val_loss did not improve from 0.25718\n",
      "\n",
      "Epoch 00176: val_loss did not improve from 0.25718\n",
      "\n",
      "Epoch 00177: val_loss did not improve from 0.25718\n"
     ]
    },
    {
     "name": "stdout",
     "output_type": "stream",
     "text": [
      "\n",
      "Epoch 00178: val_loss did not improve from 0.25718\n",
      "\n",
      "Epoch 00179: val_loss did not improve from 0.25718\n",
      "\n",
      "Epoch 00180: val_loss did not improve from 0.25718\n",
      "\n",
      "Epoch 00181: val_loss did not improve from 0.25718\n"
     ]
    },
    {
     "name": "stdout",
     "output_type": "stream",
     "text": [
      "\n",
      "Epoch 00182: val_loss did not improve from 0.25718\n",
      "\n",
      "Epoch 00183: val_loss did not improve from 0.25718\n",
      "\n",
      "Epoch 00184: val_loss did not improve from 0.25718\n",
      "\n",
      "Epoch 00185: val_loss did not improve from 0.25718\n"
     ]
    },
    {
     "name": "stdout",
     "output_type": "stream",
     "text": [
      "\n",
      "Epoch 00186: val_loss did not improve from 0.25718\n",
      "\n",
      "Epoch 00187: val_loss did not improve from 0.25718\n",
      "\n",
      "Epoch 00187: ReduceLROnPlateau reducing learning rate to 0.00098214322864078.\n",
      "\n",
      "Epoch 00188: val_loss did not improve from 0.25718\n",
      "\n",
      "Epoch 00189: val_loss did not improve from 0.25718\n"
     ]
    },
    {
     "name": "stdout",
     "output_type": "stream",
     "text": [
      "\n",
      "Epoch 00190: val_loss did not improve from 0.25718\n",
      "\n",
      "Epoch 00191: val_loss did not improve from 0.25718\n",
      "\n",
      "Epoch 00192: val_loss did not improve from 0.25718\n",
      "\n",
      "Epoch 00193: val_loss did not improve from 0.25718\n"
     ]
    },
    {
     "name": "stdout",
     "output_type": "stream",
     "text": [
      "\n",
      "Epoch 00194: val_loss did not improve from 0.25718\n",
      "\n",
      "Epoch 00195: val_loss did not improve from 0.25718\n",
      "\n",
      "Epoch 00196: val_loss did not improve from 0.25718\n",
      "\n",
      "Epoch 00197: val_loss did not improve from 0.25718\n"
     ]
    },
    {
     "name": "stdout",
     "output_type": "stream",
     "text": [
      "\n",
      "Epoch 00198: val_loss did not improve from 0.25718\n",
      "\n",
      "Epoch 00199: val_loss did not improve from 0.25718\n",
      "\n",
      "Epoch 00200: val_loss did not improve from 0.25718\n",
      "\n",
      "Epoch 00201: val_loss did not improve from 0.25718\n",
      "\n",
      "Epoch 00201: ReduceLROnPlateau reducing learning rate to 0.000980178931262344.\n"
     ]
    },
    {
     "name": "stdout",
     "output_type": "stream",
     "text": [
      "\n",
      "Epoch 00202: val_loss did not improve from 0.25718\n",
      "\n",
      "Epoch 00203: val_loss did not improve from 0.25718\n",
      "\n",
      "Epoch 00204: val_loss did not improve from 0.25718\n",
      "\n",
      "Epoch 00205: val_loss did not improve from 0.25718\n"
     ]
    },
    {
     "name": "stdout",
     "output_type": "stream",
     "text": [
      "\n",
      "Epoch 00206: val_loss did not improve from 0.25718\n",
      "\n",
      "Epoch 00207: val_loss did not improve from 0.25718\n",
      "\n",
      "Epoch 00208: val_loss did not improve from 0.25718\n",
      "\n",
      "Epoch 00209: val_loss did not improve from 0.25718\n"
     ]
    },
    {
     "name": "stdout",
     "output_type": "stream",
     "text": [
      "\n",
      "Epoch 00210: val_loss did not improve from 0.25718\n",
      "\n",
      "Epoch 00211: val_loss did not improve from 0.25718\n",
      "\n",
      "Epoch 00212: val_loss did not improve from 0.25718\n",
      "\n",
      "Epoch 00213: val_loss did not improve from 0.25718\n"
     ]
    },
    {
     "name": "stdout",
     "output_type": "stream",
     "text": [
      "\n",
      "Epoch 00214: val_loss did not improve from 0.25718\n",
      "\n",
      "Epoch 00215: val_loss did not improve from 0.25718\n",
      "\n",
      "Epoch 00215: ReduceLROnPlateau reducing learning rate to 0.0009782185840886085.\n",
      "\n",
      "Epoch 00216: val_loss did not improve from 0.25718\n",
      "\n",
      "Epoch 00217: val_loss did not improve from 0.25718\n"
     ]
    },
    {
     "name": "stdout",
     "output_type": "stream",
     "text": [
      "\n",
      "Epoch 00218: val_loss did not improve from 0.25718\n",
      "\n",
      "Epoch 00219: val_loss did not improve from 0.25718\n",
      "\n",
      "Epoch 00220: val_loss did not improve from 0.25718\n",
      "\n",
      "Epoch 00221: val_loss did not improve from 0.25718\n"
     ]
    },
    {
     "name": "stdout",
     "output_type": "stream",
     "text": [
      "\n",
      "Epoch 00222: val_loss did not improve from 0.25718\n",
      "\n",
      "Epoch 00223: val_loss did not improve from 0.25718\n",
      "\n",
      "Epoch 00224: val_loss did not improve from 0.25718\n",
      "\n",
      "Epoch 00225: val_loss did not improve from 0.25718\n"
     ]
    },
    {
     "name": "stdout",
     "output_type": "stream",
     "text": [
      "\n",
      "Epoch 00226: val_loss did not improve from 0.25718\n",
      "\n",
      "Epoch 00227: val_loss did not improve from 0.25718\n",
      "\n",
      "Epoch 00228: val_loss did not improve from 0.25718\n",
      "\n",
      "Epoch 00229: val_loss did not improve from 0.25718\n",
      "\n",
      "Epoch 00229: ReduceLROnPlateau reducing learning rate to 0.0009762621871195734.\n"
     ]
    },
    {
     "name": "stdout",
     "output_type": "stream",
     "text": [
      "\n",
      "Epoch 00230: val_loss did not improve from 0.25718\n",
      "\n",
      "Epoch 00231: val_loss did not improve from 0.25718\n",
      "\n",
      "Epoch 00232: val_loss did not improve from 0.25718\n",
      "\n",
      "Epoch 00233: val_loss did not improve from 0.25718\n"
     ]
    },
    {
     "name": "stdout",
     "output_type": "stream",
     "text": [
      "\n",
      "Epoch 00234: val_loss did not improve from 0.25718\n",
      "\n",
      "Epoch 00235: val_loss did not improve from 0.25718\n",
      "\n",
      "Epoch 00236: val_loss did not improve from 0.25718\n",
      "\n",
      "Epoch 00237: val_loss did not improve from 0.25718\n"
     ]
    },
    {
     "name": "stdout",
     "output_type": "stream",
     "text": [
      "\n",
      "Epoch 00238: val_loss did not improve from 0.25718\n",
      "\n",
      "Epoch 00239: val_loss did not improve from 0.25718\n",
      "\n",
      "Epoch 00240: val_loss did not improve from 0.25718\n",
      "\n",
      "Epoch 00241: val_loss did not improve from 0.25718\n"
     ]
    },
    {
     "name": "stdout",
     "output_type": "stream",
     "text": [
      "\n",
      "Epoch 00242: val_loss did not improve from 0.25718\n",
      "\n",
      "Epoch 00243: val_loss did not improve from 0.25718\n",
      "\n",
      "Epoch 00243: ReduceLROnPlateau reducing learning rate to 0.0009743096822639927.\n"
     ]
    }
   ],
   "source": [
    "hist=model.fit(DATA,LABEL, \n",
    "               batch_size=900,\n",
    "               validation_split=0.1,\n",
    "               callbacks = callbacks_list,\n",
    "               epochs=EPOCHS, \n",
    "               shuffle=True,\n",
    "               verbose=0\n",
    "              )"
   ]
  },
  {
   "cell_type": "code",
   "execution_count": 15,
   "metadata": {
    "jupyter": {
     "source_hidden": true
    },
    "papermill": {
     "duration": 0.194375,
     "end_time": "2019-11-24T02:55:27.556362",
     "exception": false,
     "start_time": "2019-11-24T02:55:27.361987",
     "status": "completed"
    },
    "tags": []
   },
   "outputs": [
    {
     "data": {
      "image/png": "[encoded data removed]",
      "text/plain": [
       "<Figure size 432x288 with 1 Axes>"
      ]
     },
     "metadata": {},
     "output_type": "display_data"
    }
   ],
   "source": [
    "plt.plot(hist.history['accuracy'])\n",
    "plt.plot(hist.history['val_accuracy'])\n",
    "plt.title('model accuracy')\n",
    "plt.ylabel('accuracy')\n",
    "plt.xlabel('epoch')\n",
    "plt.legend(['train', 'test'], loc='lower right')\n",
    "plt.savefig('{}/acc_{}.png'.format(plot_dir, TEST_ID))\n",
    "plt.show()"
   ]
  },
  {
   "cell_type": "code",
   "execution_count": 16,
   "metadata": {
    "jupyter": {
     "source_hidden": true
    },
    "papermill": {
     "duration": 0.197161,
     "end_time": "2019-11-24T02:55:27.779637",
     "exception": false,
     "start_time": "2019-11-24T02:55:27.582476",
     "status": "completed"
    },
    "tags": []
   },
   "outputs": [
    {
     "data": {
      "image/png": "[encoded data removed]",
      "text/plain": [
       "<Figure size 432x288 with 1 Axes>"
      ]
     },
     "metadata": {},
     "output_type": "display_data"
    }
   ],
   "source": [
    "plt.plot(hist.history['loss'])\n",
    "plt.plot(hist.history['val_loss'])\n",
    "plt.title('model loss')\n",
    "plt.ylabel('loss')\n",
    "plt.xlabel('epoch')\n",
    "plt.legend(['train', 'test'], loc='upper right')\n",
    "plt.savefig('{}/loss_{}.png'.format(plot_dir, TEST_ID))\n",
    "plt.show()"
   ]
  },
  {
   "cell_type": "code",
   "execution_count": 17,
   "metadata": {
    "jupyter": {
     "source_hidden": true
    },
    "papermill": {
     "duration": 0.031477,
     "end_time": "2019-11-24T02:55:27.836225",
     "exception": false,
     "start_time": "2019-11-24T02:55:27.804748",
     "status": "completed"
    },
    "tags": []
   },
   "outputs": [
    {
     "data": {
      "text/plain": [
       "(0.98888886, 1.0)"
      ]
     },
     "execution_count": 17,
     "metadata": {},
     "output_type": "execute_result"
    }
   ],
   "source": [
    "max(hist.history['accuracy']), max(hist.history['val_accuracy']) "
   ]
  },
  {
   "cell_type": "code",
   "execution_count": 18,
   "metadata": {
    "jupyter": {
     "source_hidden": true
    },
    "papermill": {
     "duration": 0.032835,
     "end_time": "2019-11-24T02:55:27.893234",
     "exception": false,
     "start_time": "2019-11-24T02:55:27.860399",
     "status": "completed"
    },
    "tags": []
   },
   "outputs": [
    {
     "data": {
      "text/plain": [
       "(0.028532536700367928, 0.2571823298931122)"
      ]
     },
     "execution_count": 18,
     "metadata": {},
     "output_type": "execute_result"
    }
   ],
   "source": [
    "min(hist.history['loss']), min(hist.history['val_loss']) "
   ]
  }
 ],
 "metadata": {
  "kernelspec": {
   "display_name": "Python 3",
   "language": "python",
   "name": "python3"
  },
  "language_info": {
   "codemirror_mode": {
    "name": "ipython",
    "version": 3
   },
   "file_extension": ".py",
   "mimetype": "text/x-python",
   "name": "python",
   "nbconvert_exporter": "python",
   "pygments_lexer": "ipython3",
   "version": "3.8.0"
  },
  "papermill": {
   "duration": 29.875431,
   "end_time": "2019-11-24T02:55:29.127806",
   "environment_variables": {},
   "exception": null,
   "input_path": "Train1.ipynb",
   "output_path": "nb_output/Train1_cls:3_loss:relu_bnm:True_drop:0.6_epo:450_opt:adam.ipynb",
   "parameters": {
    "BATCH": true,
    "DROPRATE": 0.6,
    "EPOCHS": 450,
    "classes": 3,
    "lossfn": "relu",
    "optim": "adam"
   },
   "start_time": "2019-11-24T02:54:59.252375",
   "version": "1.2.1"
  }
 },
 "nbformat": 4,
 "nbformat_minor": 4
}