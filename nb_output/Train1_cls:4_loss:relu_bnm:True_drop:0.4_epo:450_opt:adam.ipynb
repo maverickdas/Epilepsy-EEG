{
 "cells": [
  {
   "cell_type": "code",
   "execution_count": 1,
   "metadata": {
    "jupyter": {
     "source_hidden": true
    },
    "papermill": {
     "duration": 0.017134,
     "end_time": "2019-11-24T02:48:02.734303",
     "exception": false,
     "start_time": "2019-11-24T02:48:02.717169",
     "status": "completed"
    },
    "tags": [
     "injected-parameters"
    ]
   },
   "outputs": [],
   "source": [
    "# Parameters\n",
    "classes = 4\n",
    "lossfn = \"relu\"\n",
    "BATCH = True\n",
    "EPOCHS = 450\n",
    "DROPRATE = 0.4\n",
    "optim = \"adam\"\n"
   ]
  },
  {
   "cell_type": "code",
   "execution_count": 2,
   "metadata": {
    "jupyter": {
     "source_hidden": true
    },
    "papermill": {
     "duration": 0.323315,
     "end_time": "2019-11-24T02:48:03.066314",
     "exception": false,
     "start_time": "2019-11-24T02:48:02.742999",
     "status": "completed"
    },
    "tags": []
   },
   "outputs": [],
   "source": [
    "import numpy as np\n",
    "import pandas as pd\n",
    "import matplotlib.pyplot as plt\n",
    "import os\n",
    "import os.path as osp\n",
    "from datetime import datetime"
   ]
  },
  {
   "cell_type": "code",
   "execution_count": 3,
   "metadata": {
    "jupyter": {
     "source_hidden": true
    },
    "papermill": {
     "duration": 0.954758,
     "end_time": "2019-11-24T02:48:04.029554",
     "exception": false,
     "start_time": "2019-11-24T02:48:03.074796",
     "status": "completed"
    },
    "tags": []
   },
   "outputs": [
    {
     "name": "stderr",
     "output_type": "stream",
     "text": [
      "Using TensorFlow backend.\n"
     ]
    }
   ],
   "source": [
    "import matplotlib.pyplot as plt\n",
    "%matplotlib inline\n",
    "from matplotlib import style\n",
    "style.use('ggplot')\n",
    "import keras.backend as K\n",
    "import keras as keras\n",
    "from keras.models import Sequential,Model\n",
    "from keras.metrics import mae, categorical_accuracy\n",
    "\n",
    "from keras.layers import MaxPooling1D, Dense, Dropout, Flatten, Input, Conv1D, LeakyReLU, BatchNormalization, Softmax\n"
   ]
  },
  {
   "cell_type": "code",
   "execution_count": 4,
   "metadata": {
    "jupyter": {
     "source_hidden": true
    },
    "papermill": {
     "duration": 0.012821,
     "end_time": "2019-11-24T02:48:04.050963",
     "exception": false,
     "start_time": "2019-11-24T02:48:04.038142",
     "status": "completed"
    },
    "tags": []
   },
   "outputs": [],
   "source": [
    "# # curr_path = os.getcwd()\n",
    "# # curr_path\n",
    "# # lossfn = LeakyReLU(alpha=0.02)\n",
    "# optim = 'adam'\n",
    "# lossfn = 'relu'\n",
    "# BATCH = False\n",
    "# EPOCHS = 500\n",
    "# DROPRATE = 0.4\n",
    "# classes = 4"
   ]
  },
  {
   "cell_type": "code",
   "execution_count": 5,
   "metadata": {
    "jupyter": {
     "source_hidden": true
    },
    "papermill": {
     "duration": 0.013562,
     "end_time": "2019-11-24T02:48:04.072396",
     "exception": false,
     "start_time": "2019-11-24T02:48:04.058834",
     "status": "completed"
    },
    "tags": []
   },
   "outputs": [],
   "source": [
    "fold_dict = {}\n",
    "if classes == 4:\n",
    "    fold_dict = {\"O\":[0, 0,0,1],\"F\":[0, 0,1,0], 'S':[0, 1,0,0], \"N\":[1, 0,0,0]}\n",
    "elif classes == 3:\n",
    "    fold_dict = {\"O\":[0,0,1],\"F\":[0,1,0], 'S':[1,0,0]}\n",
    "# out_len = len(fold_dict.keys())"
   ]
  },
  {
   "cell_type": "code",
   "execution_count": 6,
   "metadata": {
    "jupyter": {
     "source_hidden": true
    },
    "papermill": {
     "duration": 0.014816,
     "end_time": "2019-11-24T02:48:04.095031",
     "exception": false,
     "start_time": "2019-11-24T02:48:04.080215",
     "status": "completed"
    },
    "tags": []
   },
   "outputs": [
    {
     "data": {
      "text/plain": [
       "'cls:4_loss:relu_bnm:True_drop:0.4_epo:450_opt:adam'"
      ]
     },
     "execution_count": 6,
     "metadata": {},
     "output_type": "execute_result"
    }
   ],
   "source": [
    "TEST_ID = \"cls:{}_loss:{}_bnm:{}_drop:{}_epo:{}_opt:{}\".format(classes, lossfn, BATCH, DROPRATE, EPOCHS, optim)\n",
    "TEST_ID"
   ]
  },
  {
   "cell_type": "code",
   "execution_count": 7,
   "metadata": {
    "jupyter": {
     "source_hidden": true
    },
    "papermill": {
     "duration": 0.013236,
     "end_time": "2019-11-24T02:48:04.116316",
     "exception": false,
     "start_time": "2019-11-24T02:48:04.103080",
     "status": "completed"
    },
    "tags": []
   },
   "outputs": [],
   "source": [
    "data_dir = 'data'\n",
    "chk_dir = 'checkpoints'\n",
    "plot_dir = 'plots'\n",
    "logdir = \"logs/scalars/\" + TEST_ID\n",
    "logdir = osp.join(logdir, datetime.now().strftime(\"%Y%m%d-%H%M%S\"))\n",
    "tb_callback = keras.callbacks.TensorBoard(log_dir=logdir)"
   ]
  },
  {
   "cell_type": "code",
   "execution_count": 8,
   "metadata": {
    "jupyter": {
     "source_hidden": true
    },
    "papermill": {
     "duration": 0.014193,
     "end_time": "2019-11-24T02:48:04.138380",
     "exception": false,
     "start_time": "2019-11-24T02:48:04.124187",
     "status": "completed"
    },
    "tags": []
   },
   "outputs": [],
   "source": [
    "def extract(fold,label):\n",
    "    fold_arr = []\n",
    "    labels_arr = []\n",
    "    files = []\n",
    "    for f in os.listdir(fold):\n",
    "        files.append(osp.join(fold, f))\n",
    "\n",
    "\n",
    "    for f in files:\n",
    "\n",
    "        lines = []\n",
    "        with open(f, 'r') as fw:\n",
    "            for i, line in enumerate(fw):\n",
    "                lines.append(int(line.split()[0]))\n",
    "        lines_arr = np.array(lines)\n",
    "        lines_arr=(lines_arr-np.mean(lines_arr))/np.var(lines_arr)\n",
    "        fold_arr.append(lines_arr)\n",
    "        labels_arr.append(label)\n",
    "    return fold_arr,labels_arr"
   ]
  },
  {
   "cell_type": "code",
   "execution_count": 9,
   "metadata": {
    "jupyter": {
     "source_hidden": true
    },
    "papermill": {
     "duration": 0.660802,
     "end_time": "2019-11-24T02:48:04.808040",
     "exception": false,
     "start_time": "2019-11-24T02:48:04.147238",
     "status": "completed"
    },
    "tags": []
   },
   "outputs": [],
   "source": [
    "fin_list = []\n",
    "train_X = []\n",
    "train_Y = []\n",
    "for key,val in fold_dict.items():\n",
    "    x,y = extract(osp.join(data_dir,key),val)\n",
    "    train_X.extend(x)\n",
    "    train_Y.extend(y)"
   ]
  },
  {
   "cell_type": "code",
   "execution_count": 10,
   "metadata": {
    "jupyter": {
     "source_hidden": true
    },
    "papermill": {
     "duration": 0.014038,
     "end_time": "2019-11-24T02:48:04.835761",
     "exception": false,
     "start_time": "2019-11-24T02:48:04.821723",
     "status": "completed"
    },
    "tags": []
   },
   "outputs": [
    {
     "data": {
      "text/plain": [
       "(400, 400)"
      ]
     },
     "execution_count": 10,
     "metadata": {},
     "output_type": "execute_result"
    }
   ],
   "source": [
    "len(train_X),len(train_Y)"
   ]
  },
  {
   "cell_type": "code",
   "execution_count": 11,
   "metadata": {
    "jupyter": {
     "source_hidden": true
    },
    "papermill": {
     "duration": 0.862281,
     "end_time": "2019-11-24T02:48:05.707007",
     "exception": false,
     "start_time": "2019-11-24T02:48:04.844726",
     "status": "completed"
    },
    "tags": []
   },
   "outputs": [],
   "source": [
    "in_lay = Input((4097,1))\n",
    "\n",
    "\n",
    "l1 = Conv1D(4, kernel_size = 6, strides=1, padding = 'same',activation = lossfn)(in_lay)\n",
    "ml1 = MaxPooling1D(pool_size=2, strides=2)(l1)\n",
    "if BATCH: ml1 = BatchNormalization()(ml1)\n",
    "\n",
    "l1 = Conv1D(4, kernel_size = 5, strides=1, padding = 'same',activation = lossfn)(ml1)\n",
    "ml1 = MaxPooling1D(pool_size=2, strides=2)(l1)\n",
    "if BATCH: ml1 = BatchNormalization()(ml1)\n",
    "\n",
    "l1 = Conv1D(10, kernel_size = 4, strides=1, padding = 'same',activation = lossfn)(ml1)\n",
    "ml1 = MaxPooling1D(pool_size=2, strides=2)(l1)\n",
    "if BATCH: ml1 = BatchNormalization()(ml1)\n",
    "\n",
    "l1 = Conv1D(10, kernel_size = 4, strides=1, padding = 'same',activation = lossfn)(ml1)\n",
    "ml1 = MaxPooling1D(pool_size=2, strides=2)(l1)\n",
    "if BATCH: ml1 = BatchNormalization()(ml1)\n",
    "\n",
    "l1 = Conv1D(15, kernel_size = 4, strides=1, padding = 'same',activation = lossfn)(ml1)\n",
    "ml1 = MaxPooling1D(pool_size=2, strides=2)(l1)\n",
    "if BATCH: ml1 = BatchNormalization()(ml1)\n",
    "\n",
    "l1 = Conv1D(15, kernel_size = 4, strides=1, padding = 'same',activation = lossfn)(ml1)\n",
    "ml1 = MaxPooling1D(pool_size=2, strides=2)(l1)\n",
    "if BATCH: ml1 = BatchNormalization()(ml1)\n",
    "    \n",
    "l1 = Conv1D(20, kernel_size = 3, strides=1, padding = 'same',activation = lossfn)(ml1)\n",
    "ml1 = MaxPooling1D(pool_size=2, strides=2)(l1)\n",
    "if BATCH: ml1 = BatchNormalization()(ml1)\n",
    "\n",
    "flat = Flatten()(ml1)\n",
    "flat = Dropout(DROPRATE)(flat)\n",
    "\n",
    "flat = Dense(50)(flat)\n",
    "flat = Dropout(DROPRATE)(flat)\n",
    "\n",
    "flat = Dense(20)(flat)\n",
    "flat = Dropout(DROPRATE)(flat)\n",
    "\n",
    "flat = Dense(classes)(flat)\n",
    "\n",
    "flat = Softmax()(flat)\n",
    "\n",
    "model=Model(inputs = [in_lay], outputs = [flat])\n",
    "model.compile(optimizer = optim, \n",
    "              loss = 'categorical_crossentropy', \n",
    "              metrics=['accuracy'])\n",
    "#                                                                              , mae, categorical_accuracy])\n",
    "# model.summary()"
   ]
  },
  {
   "cell_type": "code",
   "execution_count": 12,
   "metadata": {
    "jupyter": {
     "source_hidden": true
    },
    "papermill": {
     "duration": 0.01474,
     "end_time": "2019-11-24T02:48:05.730013",
     "exception": false,
     "start_time": "2019-11-24T02:48:05.715273",
     "status": "completed"
    },
    "tags": []
   },
   "outputs": [],
   "source": [
    "from keras.callbacks import ModelCheckpoint, LearningRateScheduler, EarlyStopping, ReduceLROnPlateau\n",
    "weight_path = osp.join(chk_dir, \n",
    "                       \"{}_{}_weights.best.hdf5\".format('epilepsy', \n",
    "                                                        TEST_ID))\n",
    "\n",
    "checkpoint = ModelCheckpoint(weight_path, monitor='val_loss', verbose=1, \n",
    "                             save_best_only=True, mode='min', save_weights_only = True)\n",
    "\n",
    "\n",
    "reduceLROnPlat = ReduceLROnPlateau(monitor='val_loss', \n",
    "                                   factor=0.998, \n",
    "                                   patience=10, \n",
    "                                   verbose=1, \n",
    "                                   mode='auto', \n",
    "                                   min_delta=0.0001, \n",
    "                                   cooldown=5, \n",
    "                                   min_lr=0.0000001)\n",
    "early = EarlyStopping(monitor=\"val_loss\", \n",
    "                      mode=\"min\", \n",
    "                      patience=150)\n",
    "callbacks_list = [checkpoint, early, reduceLROnPlat, tb_callback]"
   ]
  },
  {
   "cell_type": "code",
   "execution_count": 13,
   "metadata": {
    "jupyter": {
     "source_hidden": true
    },
    "papermill": {
     "duration": 0.017514,
     "end_time": "2019-11-24T02:48:05.756570",
     "exception": false,
     "start_time": "2019-11-24T02:48:05.739056",
     "status": "completed"
    },
    "tags": []
   },
   "outputs": [],
   "source": [
    "DATA = np.array(train_X)\n",
    "LABEL = np.array(train_Y)\n",
    "\n",
    "DATA = DATA.reshape((DATA.shape[0], DATA.shape[1], 1))\n",
    "# LABEL = LABEL.reshape((LABEL.shape[0], LABEL.shape[1], 1))\n",
    "\n",
    "# DATA.shape, LABEL.shape"
   ]
  },
  {
   "cell_type": "code",
   "execution_count": 14,
   "metadata": {
    "jupyter": {
     "source_hidden": true
    },
    "papermill": {
     "duration": 19.524018,
     "end_time": "2019-11-24T02:48:25.288939",
     "exception": false,
     "start_time": "2019-11-24T02:48:05.764921",
     "status": "completed"
    },
    "tags": []
   },
   "outputs": [
    {
     "name": "stdout",
     "output_type": "stream",
     "text": [
      "\n",
      "Epoch 00001: val_loss improved from inf to 1.40605, saving model to checkpoints/epilepsy_cls:4_loss:relu_bnm:True_drop:0.4_epo:450_opt:adam_weights.best.hdf5\n",
      "\n",
      "Epoch 00002: val_loss did not improve from 1.40605\n"
     ]
    },
    {
     "name": "stdout",
     "output_type": "stream",
     "text": [
      "\n",
      "Epoch 00003: val_loss did not improve from 1.40605\n",
      "\n",
      "Epoch 00004: val_loss did not improve from 1.40605\n",
      "\n",
      "Epoch 00005: val_loss did not improve from 1.40605\n"
     ]
    },
    {
     "name": "stdout",
     "output_type": "stream",
     "text": [
      "\n",
      "Epoch 00006: val_loss did not improve from 1.40605\n",
      "\n",
      "Epoch 00007: val_loss did not improve from 1.40605\n",
      "\n",
      "Epoch 00008: val_loss did not improve from 1.40605\n"
     ]
    },
    {
     "name": "stdout",
     "output_type": "stream",
     "text": [
      "\n",
      "Epoch 00009: val_loss did not improve from 1.40605\n",
      "\n",
      "Epoch 00010: val_loss did not improve from 1.40605\n",
      "\n",
      "Epoch 00011: val_loss did not improve from 1.40605\n",
      "\n",
      "Epoch 00011: ReduceLROnPlateau reducing learning rate to 0.0009980000474024565.\n"
     ]
    },
    {
     "name": "stdout",
     "output_type": "stream",
     "text": [
      "\n",
      "Epoch 00012: val_loss did not improve from 1.40605\n",
      "\n",
      "Epoch 00013: val_loss did not improve from 1.40605\n",
      "\n",
      "Epoch 00014: val_loss did not improve from 1.40605\n"
     ]
    },
    {
     "name": "stdout",
     "output_type": "stream",
     "text": [
      "\n",
      "Epoch 00015: val_loss did not improve from 1.40605\n",
      "\n",
      "Epoch 00016: val_loss did not improve from 1.40605\n",
      "\n",
      "Epoch 00017: val_loss did not improve from 1.40605\n"
     ]
    },
    {
     "name": "stdout",
     "output_type": "stream",
     "text": [
      "\n",
      "Epoch 00018: val_loss did not improve from 1.40605\n",
      "\n",
      "Epoch 00019: val_loss did not improve from 1.40605\n",
      "\n",
      "Epoch 00020: val_loss did not improve from 1.40605\n"
     ]
    },
    {
     "name": "stdout",
     "output_type": "stream",
     "text": [
      "\n",
      "Epoch 00021: val_loss did not improve from 1.40605\n",
      "\n",
      "Epoch 00022: val_loss did not improve from 1.40605\n",
      "\n",
      "Epoch 00023: val_loss did not improve from 1.40605\n"
     ]
    },
    {
     "name": "stdout",
     "output_type": "stream",
     "text": [
      "\n",
      "Epoch 00024: val_loss did not improve from 1.40605\n",
      "\n",
      "Epoch 00025: val_loss did not improve from 1.40605\n",
      "\n",
      "Epoch 00025: ReduceLROnPlateau reducing learning rate to 0.0009960040322039277.\n",
      "\n",
      "Epoch 00026: val_loss did not improve from 1.40605\n"
     ]
    },
    {
     "name": "stdout",
     "output_type": "stream",
     "text": [
      "\n",
      "Epoch 00027: val_loss did not improve from 1.40605\n",
      "\n",
      "Epoch 00028: val_loss did not improve from 1.40605\n",
      "\n",
      "Epoch 00029: val_loss did not improve from 1.40605\n"
     ]
    },
    {
     "name": "stdout",
     "output_type": "stream",
     "text": [
      "\n",
      "Epoch 00030: val_loss did not improve from 1.40605\n",
      "\n",
      "Epoch 00031: val_loss did not improve from 1.40605\n",
      "\n",
      "Epoch 00032: val_loss did not improve from 1.40605\n"
     ]
    },
    {
     "name": "stdout",
     "output_type": "stream",
     "text": [
      "\n",
      "Epoch 00033: val_loss did not improve from 1.40605\n",
      "\n",
      "Epoch 00034: val_loss did not improve from 1.40605\n"
     ]
    },
    {
     "name": "stdout",
     "output_type": "stream",
     "text": [
      "\n",
      "Epoch 00035: val_loss did not improve from 1.40605\n",
      "\n",
      "Epoch 00036: val_loss did not improve from 1.40605\n",
      "\n",
      "Epoch 00037: val_loss did not improve from 1.40605\n"
     ]
    },
    {
     "name": "stdout",
     "output_type": "stream",
     "text": [
      "\n",
      "Epoch 00038: val_loss did not improve from 1.40605\n",
      "\n",
      "Epoch 00039: val_loss did not improve from 1.40605\n",
      "\n",
      "Epoch 00039: ReduceLROnPlateau reducing learning rate to 0.000994011967210099.\n",
      "\n",
      "Epoch 00040: val_loss did not improve from 1.40605\n"
     ]
    },
    {
     "name": "stdout",
     "output_type": "stream",
     "text": [
      "\n",
      "Epoch 00041: val_loss did not improve from 1.40605\n",
      "\n",
      "Epoch 00042: val_loss did not improve from 1.40605\n",
      "\n",
      "Epoch 00043: val_loss did not improve from 1.40605\n"
     ]
    },
    {
     "name": "stdout",
     "output_type": "stream",
     "text": [
      "\n",
      "Epoch 00044: val_loss did not improve from 1.40605\n",
      "\n",
      "Epoch 00045: val_loss did not improve from 1.40605\n",
      "\n",
      "Epoch 00046: val_loss did not improve from 1.40605\n"
     ]
    },
    {
     "name": "stdout",
     "output_type": "stream",
     "text": [
      "\n",
      "Epoch 00047: val_loss did not improve from 1.40605\n",
      "\n",
      "Epoch 00048: val_loss did not improve from 1.40605\n",
      "\n",
      "Epoch 00049: val_loss did not improve from 1.40605\n"
     ]
    },
    {
     "name": "stdout",
     "output_type": "stream",
     "text": [
      "\n",
      "Epoch 00050: val_loss did not improve from 1.40605\n",
      "\n",
      "Epoch 00051: val_loss did not improve from 1.40605\n",
      "\n",
      "Epoch 00052: val_loss did not improve from 1.40605\n"
     ]
    },
    {
     "name": "stdout",
     "output_type": "stream",
     "text": [
      "\n",
      "Epoch 00053: val_loss did not improve from 1.40605\n",
      "\n",
      "Epoch 00053: ReduceLROnPlateau reducing learning rate to 0.000992023968603462.\n",
      "\n",
      "Epoch 00054: val_loss did not improve from 1.40605\n",
      "\n",
      "Epoch 00055: val_loss did not improve from 1.40605\n"
     ]
    },
    {
     "name": "stdout",
     "output_type": "stream",
     "text": [
      "\n",
      "Epoch 00056: val_loss did not improve from 1.40605\n",
      "\n",
      "Epoch 00057: val_loss did not improve from 1.40605\n",
      "\n",
      "Epoch 00058: val_loss did not improve from 1.40605\n"
     ]
    },
    {
     "name": "stdout",
     "output_type": "stream",
     "text": [
      "\n",
      "Epoch 00059: val_loss did not improve from 1.40605\n",
      "\n",
      "Epoch 00060: val_loss did not improve from 1.40605\n",
      "\n",
      "Epoch 00061: val_loss did not improve from 1.40605\n"
     ]
    },
    {
     "name": "stdout",
     "output_type": "stream",
     "text": [
      "\n",
      "Epoch 00062: val_loss did not improve from 1.40605\n",
      "\n",
      "Epoch 00063: val_loss did not improve from 1.40605\n",
      "\n",
      "Epoch 00064: val_loss did not improve from 1.40605\n"
     ]
    },
    {
     "name": "stdout",
     "output_type": "stream",
     "text": [
      "\n",
      "Epoch 00065: val_loss did not improve from 1.40605\n",
      "\n",
      "Epoch 00066: val_loss did not improve from 1.40605\n",
      "\n",
      "Epoch 00067: val_loss did not improve from 1.40605\n",
      "\n",
      "Epoch 00067: ReduceLROnPlateau reducing learning rate to 0.000990039920201525.\n"
     ]
    },
    {
     "name": "stdout",
     "output_type": "stream",
     "text": [
      "\n",
      "Epoch 00068: val_loss did not improve from 1.40605\n",
      "\n",
      "Epoch 00069: val_loss did not improve from 1.40605\n",
      "\n",
      "Epoch 00070: val_loss did not improve from 1.40605\n"
     ]
    },
    {
     "name": "stdout",
     "output_type": "stream",
     "text": [
      "\n",
      "Epoch 00071: val_loss did not improve from 1.40605\n",
      "\n",
      "Epoch 00072: val_loss did not improve from 1.40605\n",
      "\n",
      "Epoch 00073: val_loss did not improve from 1.40605\n"
     ]
    },
    {
     "name": "stdout",
     "output_type": "stream",
     "text": [
      "\n",
      "Epoch 00074: val_loss did not improve from 1.40605\n",
      "\n",
      "Epoch 00075: val_loss did not improve from 1.40605\n",
      "\n",
      "Epoch 00076: val_loss did not improve from 1.40605\n"
     ]
    },
    {
     "name": "stdout",
     "output_type": "stream",
     "text": [
      "\n",
      "Epoch 00077: val_loss did not improve from 1.40605\n",
      "\n",
      "Epoch 00078: val_loss did not improve from 1.40605\n",
      "\n",
      "Epoch 00079: val_loss did not improve from 1.40605\n"
     ]
    },
    {
     "name": "stdout",
     "output_type": "stream",
     "text": [
      "\n",
      "Epoch 00080: val_loss did not improve from 1.40605\n",
      "\n",
      "Epoch 00081: val_loss did not improve from 1.40605\n",
      "\n",
      "Epoch 00081: ReduceLROnPlateau reducing learning rate to 0.0009880598220042885.\n",
      "\n",
      "Epoch 00082: val_loss did not improve from 1.40605\n"
     ]
    },
    {
     "name": "stdout",
     "output_type": "stream",
     "text": [
      "\n",
      "Epoch 00083: val_loss did not improve from 1.40605\n",
      "\n",
      "Epoch 00084: val_loss did not improve from 1.40605\n",
      "\n",
      "Epoch 00085: val_loss did not improve from 1.40605\n"
     ]
    },
    {
     "name": "stdout",
     "output_type": "stream",
     "text": [
      "\n",
      "Epoch 00086: val_loss did not improve from 1.40605\n",
      "\n",
      "Epoch 00087: val_loss did not improve from 1.40605\n",
      "\n",
      "Epoch 00088: val_loss did not improve from 1.40605\n"
     ]
    },
    {
     "name": "stdout",
     "output_type": "stream",
     "text": [
      "\n",
      "Epoch 00089: val_loss did not improve from 1.40605\n",
      "\n",
      "Epoch 00090: val_loss did not improve from 1.40605\n",
      "\n",
      "Epoch 00091: val_loss did not improve from 1.40605\n"
     ]
    },
    {
     "name": "stdout",
     "output_type": "stream",
     "text": [
      "\n",
      "Epoch 00092: val_loss did not improve from 1.40605\n",
      "\n",
      "Epoch 00093: val_loss did not improve from 1.40605\n",
      "\n",
      "Epoch 00094: val_loss did not improve from 1.40605\n"
     ]
    },
    {
     "name": "stdout",
     "output_type": "stream",
     "text": [
      "\n",
      "Epoch 00095: val_loss did not improve from 1.40605\n",
      "\n",
      "Epoch 00095: ReduceLROnPlateau reducing learning rate to 0.000986083674011752.\n",
      "\n",
      "Epoch 00096: val_loss did not improve from 1.40605\n",
      "\n",
      "Epoch 00097: val_loss did not improve from 1.40605\n"
     ]
    },
    {
     "name": "stdout",
     "output_type": "stream",
     "text": [
      "\n",
      "Epoch 00098: val_loss did not improve from 1.40605\n",
      "\n",
      "Epoch 00099: val_loss did not improve from 1.40605\n",
      "\n",
      "Epoch 00100: val_loss did not improve from 1.40605\n"
     ]
    },
    {
     "name": "stdout",
     "output_type": "stream",
     "text": [
      "\n",
      "Epoch 00101: val_loss did not improve from 1.40605\n",
      "\n",
      "Epoch 00102: val_loss did not improve from 1.40605\n",
      "\n",
      "Epoch 00103: val_loss did not improve from 1.40605\n"
     ]
    },
    {
     "name": "stdout",
     "output_type": "stream",
     "text": [
      "\n",
      "Epoch 00104: val_loss did not improve from 1.40605\n",
      "\n",
      "Epoch 00105: val_loss did not improve from 1.40605\n",
      "\n",
      "Epoch 00106: val_loss did not improve from 1.40605\n"
     ]
    },
    {
     "name": "stdout",
     "output_type": "stream",
     "text": [
      "\n",
      "Epoch 00107: val_loss did not improve from 1.40605\n",
      "\n",
      "Epoch 00108: val_loss did not improve from 1.40605\n",
      "\n",
      "Epoch 00109: val_loss did not improve from 1.40605\n",
      "\n",
      "Epoch 00109: ReduceLROnPlateau reducing learning rate to 0.0009841114762239157.\n"
     ]
    },
    {
     "name": "stdout",
     "output_type": "stream",
     "text": [
      "\n",
      "Epoch 00110: val_loss did not improve from 1.40605\n",
      "\n",
      "Epoch 00111: val_loss did not improve from 1.40605\n",
      "\n",
      "Epoch 00112: val_loss did not improve from 1.40605\n"
     ]
    },
    {
     "name": "stdout",
     "output_type": "stream",
     "text": [
      "\n",
      "Epoch 00113: val_loss did not improve from 1.40605\n",
      "\n",
      "Epoch 00114: val_loss did not improve from 1.40605\n",
      "\n",
      "Epoch 00115: val_loss did not improve from 1.40605\n"
     ]
    },
    {
     "name": "stdout",
     "output_type": "stream",
     "text": [
      "\n",
      "Epoch 00116: val_loss did not improve from 1.40605\n",
      "\n",
      "Epoch 00117: val_loss did not improve from 1.40605\n",
      "\n",
      "Epoch 00118: val_loss did not improve from 1.40605\n"
     ]
    },
    {
     "name": "stdout",
     "output_type": "stream",
     "text": [
      "\n",
      "Epoch 00119: val_loss did not improve from 1.40605\n",
      "\n",
      "Epoch 00120: val_loss did not improve from 1.40605\n",
      "\n",
      "Epoch 00121: val_loss did not improve from 1.40605\n"
     ]
    },
    {
     "name": "stdout",
     "output_type": "stream",
     "text": [
      "\n",
      "Epoch 00122: val_loss did not improve from 1.40605\n",
      "\n",
      "Epoch 00123: val_loss did not improve from 1.40605\n",
      "\n",
      "Epoch 00123: ReduceLROnPlateau reducing learning rate to 0.00098214322864078.\n",
      "\n",
      "Epoch 00124: val_loss did not improve from 1.40605\n"
     ]
    },
    {
     "name": "stdout",
     "output_type": "stream",
     "text": [
      "\n",
      "Epoch 00125: val_loss did not improve from 1.40605\n",
      "\n",
      "Epoch 00126: val_loss did not improve from 1.40605\n",
      "\n",
      "Epoch 00127: val_loss did not improve from 1.40605\n"
     ]
    },
    {
     "name": "stdout",
     "output_type": "stream",
     "text": [
      "\n",
      "Epoch 00128: val_loss did not improve from 1.40605\n",
      "\n",
      "Epoch 00129: val_loss did not improve from 1.40605\n",
      "\n",
      "Epoch 00130: val_loss did not improve from 1.40605\n"
     ]
    },
    {
     "name": "stdout",
     "output_type": "stream",
     "text": [
      "\n",
      "Epoch 00131: val_loss did not improve from 1.40605\n",
      "\n",
      "Epoch 00132: val_loss did not improve from 1.40605\n",
      "\n",
      "Epoch 00133: val_loss did not improve from 1.40605\n"
     ]
    },
    {
     "name": "stdout",
     "output_type": "stream",
     "text": [
      "\n",
      "Epoch 00134: val_loss did not improve from 1.40605\n",
      "\n",
      "Epoch 00135: val_loss did not improve from 1.40605\n",
      "\n",
      "Epoch 00136: val_loss did not improve from 1.40605\n"
     ]
    },
    {
     "name": "stdout",
     "output_type": "stream",
     "text": [
      "\n",
      "Epoch 00137: val_loss did not improve from 1.40605\n",
      "\n",
      "Epoch 00137: ReduceLROnPlateau reducing learning rate to 0.000980178931262344.\n",
      "\n",
      "Epoch 00138: val_loss did not improve from 1.40605\n",
      "\n",
      "Epoch 00139: val_loss did not improve from 1.40605\n"
     ]
    },
    {
     "name": "stdout",
     "output_type": "stream",
     "text": [
      "\n",
      "Epoch 00140: val_loss did not improve from 1.40605\n",
      "\n",
      "Epoch 00141: val_loss did not improve from 1.40605\n",
      "\n",
      "Epoch 00142: val_loss did not improve from 1.40605\n"
     ]
    },
    {
     "name": "stdout",
     "output_type": "stream",
     "text": [
      "\n",
      "Epoch 00143: val_loss did not improve from 1.40605\n",
      "\n",
      "Epoch 00144: val_loss did not improve from 1.40605\n",
      "\n",
      "Epoch 00145: val_loss did not improve from 1.40605\n"
     ]
    },
    {
     "name": "stdout",
     "output_type": "stream",
     "text": [
      "\n",
      "Epoch 00146: val_loss did not improve from 1.40605\n",
      "\n",
      "Epoch 00147: val_loss did not improve from 1.40605\n",
      "\n",
      "Epoch 00148: val_loss did not improve from 1.40605\n"
     ]
    },
    {
     "name": "stdout",
     "output_type": "stream",
     "text": [
      "\n",
      "Epoch 00149: val_loss did not improve from 1.40605\n",
      "\n",
      "Epoch 00150: val_loss did not improve from 1.40605\n",
      "\n",
      "Epoch 00151: val_loss did not improve from 1.40605\n",
      "\n",
      "Epoch 00151: ReduceLROnPlateau reducing learning rate to 0.0009782185840886085.\n"
     ]
    }
   ],
   "source": [
    "hist=model.fit(DATA,LABEL, \n",
    "               batch_size=900,\n",
    "               validation_split=0.1,\n",
    "               callbacks = callbacks_list,\n",
    "               epochs=EPOCHS, \n",
    "               shuffle=True,\n",
    "               verbose=0\n",
    "              )"
   ]
  },
  {
   "cell_type": "code",
   "execution_count": 15,
   "metadata": {
    "jupyter": {
     "source_hidden": true
    },
    "papermill": {
     "duration": 0.177671,
     "end_time": "2019-11-24T02:48:25.487044",
     "exception": false,
     "start_time": "2019-11-24T02:48:25.309373",
     "status": "completed"
    },
    "tags": []
   },
   "outputs": [
    {
     "data": {
      "image/png": "[encoded data removed]",
      "text/plain": [
       "<Figure size 432x288 with 1 Axes>"
      ]
     },
     "metadata": {},
     "output_type": "display_data"
    }
   ],
   "source": [
    "plt.plot(hist.history['accuracy'])\n",
    "plt.plot(hist.history['val_accuracy'])\n",
    "plt.title('model accuracy')\n",
    "plt.ylabel('accuracy')\n",
    "plt.xlabel('epoch')\n",
    "plt.legend(['train', 'test'], loc='lower right')\n",
    "plt.savefig('{}/acc_{}.png'.format(plot_dir, TEST_ID))\n",
    "plt.show()"
   ]
  },
  {
   "cell_type": "code",
   "execution_count": 16,
   "metadata": {
    "jupyter": {
     "source_hidden": true
    },
    "papermill": {
     "duration": 0.184748,
     "end_time": "2019-11-24T02:48:25.691444",
     "exception": false,
     "start_time": "2019-11-24T02:48:25.506696",
     "status": "completed"
    },
    "tags": []
   },
   "outputs": [
    {
     "data": {
      "image/png": "[encoded data removed]",
      "text/plain": [
       "<Figure size 432x288 with 1 Axes>"
      ]
     },
     "metadata": {},
     "output_type": "display_data"
    }
   ],
   "source": [
    "plt.plot(hist.history['loss'])\n",
    "plt.plot(hist.history['val_loss'])\n",
    "plt.title('model loss')\n",
    "plt.ylabel('loss')\n",
    "plt.xlabel('epoch')\n",
    "plt.legend(['train', 'test'], loc='upper right')\n",
    "plt.savefig('{}/loss_{}.png'.format(plot_dir, TEST_ID))\n",
    "plt.show()"
   ]
  },
  {
   "cell_type": "code",
   "execution_count": 17,
   "metadata": {
    "jupyter": {
     "source_hidden": true
    },
    "papermill": {
     "duration": 0.026588,
     "end_time": "2019-11-24T02:48:25.737933",
     "exception": false,
     "start_time": "2019-11-24T02:48:25.711345",
     "status": "completed"
    },
    "tags": []
   },
   "outputs": [
    {
     "data": {
      "text/plain": [
       "(0.9861111, 0.0)"
      ]
     },
     "execution_count": 17,
     "metadata": {},
     "output_type": "execute_result"
    }
   ],
   "source": [
    "max(hist.history['accuracy']), max(hist.history['val_accuracy']) "
   ]
  },
  {
   "cell_type": "code",
   "execution_count": 18,
   "metadata": {
    "jupyter": {
     "source_hidden": true
    },
    "papermill": {
     "duration": 0.024751,
     "end_time": "2019-11-24T02:48:25.781500",
     "exception": false,
     "start_time": "2019-11-24T02:48:25.756749",
     "status": "completed"
    },
    "tags": []
   },
   "outputs": [
    {
     "data": {
      "text/plain": [
       "(0.044546909630298615, 1.406052589416504)"
      ]
     },
     "execution_count": 18,
     "metadata": {},
     "output_type": "execute_result"
    }
   ],
   "source": [
    "min(hist.history['loss']), min(hist.history['val_loss']) "
   ]
  }
 ],
 "metadata": {
  "kernelspec": {
   "display_name": "Python 3",
   "language": "python",
   "name": "python3"
  },
  "language_info": {
   "codemirror_mode": {
    "name": "ipython",
    "version": 3
   },
   "file_extension": ".py",
   "mimetype": "text/x-python",
   "name": "python",
   "nbconvert_exporter": "python",
   "pygments_lexer": "ipython3",
   "version": "3.8.0"
  },
  "papermill": {
   "duration": 24.816822,
   "end_time": "2019-11-24T02:48:27.008203",
   "environment_variables": {},
   "exception": null,
   "input_path": "Train1.ipynb",
   "output_path": "nb_output/Train1_cls:4_loss:relu_bnm:True_drop:0.4_epo:450_opt:adam.ipynb",
   "parameters": {
    "BATCH": true,
    "DROPRATE": 0.4,
    "EPOCHS": 450,
    "classes": 4,
    "lossfn": "relu",
    "optim": "adam"
   },
   "start_time": "2019-11-24T02:48:02.191381",
   "version": "1.2.1"
  }
 },
 "nbformat": 4,
 "nbformat_minor": 4
}