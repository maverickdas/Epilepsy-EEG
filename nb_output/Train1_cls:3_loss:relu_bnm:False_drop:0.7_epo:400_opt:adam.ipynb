{
 "cells": [
  {
   "cell_type": "code",
   "execution_count": 1,
   "metadata": {
    "jupyter": {
     "source_hidden": true
    },
    "papermill": {
     "duration": 0.016437,
     "end_time": "2019-11-24T03:39:03.378613",
     "exception": false,
     "start_time": "2019-11-24T03:39:03.362176",
     "status": "completed"
    },
    "tags": [
     "injected-parameters"
    ]
   },
   "outputs": [],
   "source": [
    "# Parameters\n",
    "classes = 3\n",
    "lossfn = \"relu\"\n",
    "BATCH = False\n",
    "EPOCHS = 400\n",
    "DROPRATE = 0.7\n",
    "optim = \"adam\"\n"
   ]
  },
  {
   "cell_type": "code",
   "execution_count": 2,
   "metadata": {
    "jupyter": {
     "source_hidden": true
    },
    "papermill": {
     "duration": 0.47051,
     "end_time": "2019-11-24T03:39:03.858936",
     "exception": false,
     "start_time": "2019-11-24T03:39:03.388426",
     "status": "completed"
    },
    "tags": []
   },
   "outputs": [],
   "source": [
    "import numpy as np\n",
    "import pandas as pd\n",
    "import matplotlib.pyplot as plt\n",
    "import os\n",
    "import os.path as osp\n",
    "from datetime import datetime\n",
    "import ipykernel"
   ]
  },
  {
   "cell_type": "code",
   "execution_count": 3,
   "metadata": {
    "jupyter": {
     "source_hidden": true
    },
    "papermill": {
     "duration": 1.006713,
     "end_time": "2019-11-24T03:39:04.876303",
     "exception": false,
     "start_time": "2019-11-24T03:39:03.869590",
     "status": "completed"
    },
    "tags": []
   },
   "outputs": [
    {
     "name": "stderr",
     "output_type": "stream",
     "text": [
      "Using TensorFlow backend.\n"
     ]
    }
   ],
   "source": [
    "import matplotlib.pyplot as plt\n",
    "%matplotlib inline\n",
    "from matplotlib import style\n",
    "style.use('ggplot')\n",
    "import keras.backend as K\n",
    "import keras as keras\n",
    "from keras.models import Sequential,Model\n",
    "# from keras.metrics import mae, categorical_accuracy\n",
    "\n",
    "from keras.layers import MaxPooling1D, Dense, Dropout, Flatten, Input, Conv1D, LeakyReLU, BatchNormalization, Softmax\n"
   ]
  },
  {
   "cell_type": "code",
   "execution_count": 4,
   "metadata": {
    "jupyter": {
     "source_hidden": true
    },
    "papermill": {
     "duration": 0.013319,
     "end_time": "2019-11-24T03:39:04.898332",
     "exception": false,
     "start_time": "2019-11-24T03:39:04.885013",
     "status": "completed"
    },
    "tags": []
   },
   "outputs": [],
   "source": [
    "# # curr_path = os.getcwd()\n",
    "# # curr_path\n",
    "# # lossfn = LeakyReLU(alpha=0.02)\n",
    "# optim = 'adam'\n",
    "# lossfn = 'relu'\n",
    "# BATCH = False\n",
    "# EPOCHS = 500\n",
    "# DROPRATE = 0.4\n",
    "# classes = 4"
   ]
  },
  {
   "cell_type": "code",
   "execution_count": 5,
   "metadata": {
    "jupyter": {
     "source_hidden": true
    },
    "papermill": {
     "duration": 0.013541,
     "end_time": "2019-11-24T03:39:04.919505",
     "exception": false,
     "start_time": "2019-11-24T03:39:04.905964",
     "status": "completed"
    },
    "tags": []
   },
   "outputs": [],
   "source": [
    "fold_dict = {}\n",
    "if classes == 4:\n",
    "    fold_dict = {\"O\":[0, 0,0,1],\"F\":[0, 0,1,0], 'S':[0, 1,0,0], \"N\":[1, 0,0,0]}\n",
    "elif classes == 3:\n",
    "    fold_dict = {\"O\":[0,0,1],\"F\":[0,1,0], 'S':[1,0,0]}\n",
    "# out_len = len(fold_dict.keys())"
   ]
  },
  {
   "cell_type": "code",
   "execution_count": 6,
   "metadata": {
    "jupyter": {
     "source_hidden": true
    },
    "papermill": {
     "duration": 0.014543,
     "end_time": "2019-11-24T03:39:04.941858",
     "exception": false,
     "start_time": "2019-11-24T03:39:04.927315",
     "status": "completed"
    },
    "tags": []
   },
   "outputs": [
    {
     "data": {
      "text/plain": [
       "'cls:3_loss:relu_bnm:False_drop:0.7_epo:400_opt:adam'"
      ]
     },
     "execution_count": 6,
     "metadata": {},
     "output_type": "execute_result"
    }
   ],
   "source": [
    "TEST_ID = \"cls:{}_loss:{}_bnm:{}_drop:{}_epo:{}_opt:{}\".format(classes, lossfn, BATCH, DROPRATE, EPOCHS, optim)\n",
    "TEST_ID"
   ]
  },
  {
   "cell_type": "code",
   "execution_count": 7,
   "metadata": {
    "jupyter": {
     "source_hidden": true
    },
    "papermill": {
     "duration": 0.013944,
     "end_time": "2019-11-24T03:39:04.963730",
     "exception": false,
     "start_time": "2019-11-24T03:39:04.949786",
     "status": "completed"
    },
    "tags": []
   },
   "outputs": [],
   "source": [
    "data_dir = 'data'\n",
    "chk_dir = 'checkpoints'\n",
    "plot_dir = 'plots'\n",
    "logdir = \"logs/scalars/\" + TEST_ID\n",
    "logdir = osp.join(logdir, datetime.now().strftime(\"%Y%m%d-%H%M%S\"))\n",
    "tb_callback = keras.callbacks.TensorBoard(log_dir=logdir)\n",
    "for dirn in [data_dir, chk_dir, plot_dir]:\n",
    "    os.makedirs(dirn, exist_ok=True)"
   ]
  },
  {
   "cell_type": "code",
   "execution_count": 8,
   "metadata": {
    "jupyter": {
     "source_hidden": true
    },
    "papermill": {
     "duration": 0.013878,
     "end_time": "2019-11-24T03:39:04.985438",
     "exception": false,
     "start_time": "2019-11-24T03:39:04.971560",
     "status": "completed"
    },
    "tags": []
   },
   "outputs": [],
   "source": [
    "def extract(fold,label):\n",
    "    fold_arr = []\n",
    "    labels_arr = []\n",
    "    files = []\n",
    "    for f in os.listdir(fold):\n",
    "        files.append(osp.join(fold, f))\n",
    "\n",
    "\n",
    "    for f in files:\n",
    "\n",
    "        lines = []\n",
    "        with open(f, 'r') as fw:\n",
    "            for i, line in enumerate(fw):\n",
    "                lines.append(int(line.split()[0]))\n",
    "        lines_arr = np.array(lines)\n",
    "        lines_arr=(lines_arr-np.mean(lines_arr))/np.var(lines_arr)\n",
    "        fold_arr.append(lines_arr)\n",
    "        labels_arr.append(label)\n",
    "    return fold_arr,labels_arr"
   ]
  },
  {
   "cell_type": "code",
   "execution_count": 9,
   "metadata": {
    "jupyter": {
     "source_hidden": true
    },
    "papermill": {
     "duration": 0.56418,
     "end_time": "2019-11-24T03:39:05.558556",
     "exception": false,
     "start_time": "2019-11-24T03:39:04.994376",
     "status": "completed"
    },
    "tags": []
   },
   "outputs": [],
   "source": [
    "fin_list = []\n",
    "train_X = []\n",
    "train_Y = []\n",
    "for key,val in fold_dict.items():\n",
    "    x,y = extract(osp.join(data_dir,key),val)\n",
    "    train_X.extend(x)\n",
    "    train_Y.extend(y)"
   ]
  },
  {
   "cell_type": "code",
   "execution_count": 10,
   "metadata": {
    "jupyter": {
     "source_hidden": true
    },
    "papermill": {
     "duration": 0.013395,
     "end_time": "2019-11-24T03:39:05.579980",
     "exception": false,
     "start_time": "2019-11-24T03:39:05.566585",
     "status": "completed"
    },
    "tags": []
   },
   "outputs": [
    {
     "data": {
      "text/plain": [
       "(300, 300)"
      ]
     },
     "execution_count": 10,
     "metadata": {},
     "output_type": "execute_result"
    }
   ],
   "source": [
    "len(train_X),len(train_Y)"
   ]
  },
  {
   "cell_type": "code",
   "execution_count": 11,
   "metadata": {
    "jupyter": {
     "source_hidden": true
    },
    "papermill": {
     "duration": 0.636058,
     "end_time": "2019-11-24T03:39:06.225949",
     "exception": false,
     "start_time": "2019-11-24T03:39:05.589891",
     "status": "completed"
    },
    "tags": []
   },
   "outputs": [
    {
     "name": "stdout",
     "output_type": "stream",
     "text": [
      "WARNING:tensorflow:Large dropout rate: 0.7 (>0.5). In TensorFlow 2.x, dropout() uses dropout rate instead of keep_prob. Please ensure that this is intended.\n"
     ]
    },
    {
     "name": "stdout",
     "output_type": "stream",
     "text": [
      "WARNING:tensorflow:Large dropout rate: 0.7 (>0.5). In TensorFlow 2.x, dropout() uses dropout rate instead of keep_prob. Please ensure that this is intended.\n"
     ]
    },
    {
     "name": "stdout",
     "output_type": "stream",
     "text": [
      "WARNING:tensorflow:Large dropout rate: 0.7 (>0.5). In TensorFlow 2.x, dropout() uses dropout rate instead of keep_prob. Please ensure that this is intended.\n"
     ]
    }
   ],
   "source": [
    "in_lay = Input((4097,1))\n",
    "\n",
    "\n",
    "l1 = Conv1D(4, kernel_size = 6, strides=1, padding = 'same',activation = lossfn)(in_lay)\n",
    "ml1 = MaxPooling1D(pool_size=2, strides=2)(l1)\n",
    "if BATCH: ml1 = BatchNormalization()(ml1)\n",
    "\n",
    "l1 = Conv1D(4, kernel_size = 5, strides=1, padding = 'same',activation = lossfn)(ml1)\n",
    "ml1 = MaxPooling1D(pool_size=2, strides=2)(l1)\n",
    "if BATCH: ml1 = BatchNormalization()(ml1)\n",
    "\n",
    "l1 = Conv1D(10, kernel_size = 4, strides=1, padding = 'same',activation = lossfn)(ml1)\n",
    "ml1 = MaxPooling1D(pool_size=2, strides=2)(l1)\n",
    "if BATCH: ml1 = BatchNormalization()(ml1)\n",
    "\n",
    "l1 = Conv1D(10, kernel_size = 4, strides=1, padding = 'same',activation = lossfn)(ml1)\n",
    "ml1 = MaxPooling1D(pool_size=2, strides=2)(l1)\n",
    "if BATCH: ml1 = BatchNormalization()(ml1)\n",
    "\n",
    "l1 = Conv1D(15, kernel_size = 4, strides=1, padding = 'same',activation = lossfn)(ml1)\n",
    "ml1 = MaxPooling1D(pool_size=2, strides=2)(l1)\n",
    "if BATCH: ml1 = BatchNormalization()(ml1)\n",
    "\n",
    "l1 = Conv1D(15, kernel_size = 4, strides=1, padding = 'same',activation = lossfn)(ml1)\n",
    "ml1 = MaxPooling1D(pool_size=2, strides=2)(l1)\n",
    "if BATCH: ml1 = BatchNormalization()(ml1)\n",
    "    \n",
    "l1 = Conv1D(20, kernel_size = 3, strides=1, padding = 'same',activation = lossfn)(ml1)\n",
    "ml1 = MaxPooling1D(pool_size=2, strides=2)(l1)\n",
    "if BATCH: ml1 = BatchNormalization()(ml1)\n",
    "\n",
    "flat = Flatten()(ml1)\n",
    "flat = Dropout(DROPRATE)(flat)\n",
    "\n",
    "flat = Dense(50)(flat)\n",
    "flat = Dropout(DROPRATE)(flat)\n",
    "\n",
    "flat = Dense(20)(flat)\n",
    "flat = Dropout(DROPRATE)(flat)\n",
    "\n",
    "flat = Dense(classes)(flat)\n",
    "\n",
    "flat = Softmax()(flat)\n",
    "\n",
    "model=Model(inputs = [in_lay], outputs = [flat])\n",
    "model.compile(optimizer = optim, \n",
    "              loss = 'categorical_crossentropy', \n",
    "              metrics=['accuracy'])\n",
    "#                                                                              , mae, categorical_accuracy])\n",
    "# model.summary()"
   ]
  },
  {
   "cell_type": "code",
   "execution_count": 12,
   "metadata": {
    "jupyter": {
     "source_hidden": true
    },
    "papermill": {
     "duration": 0.015412,
     "end_time": "2019-11-24T03:39:06.250414",
     "exception": false,
     "start_time": "2019-11-24T03:39:06.235002",
     "status": "completed"
    },
    "tags": []
   },
   "outputs": [],
   "source": [
    "from keras.callbacks import ModelCheckpoint, LearningRateScheduler, EarlyStopping, ReduceLROnPlateau\n",
    "weight_path = osp.join(chk_dir, \n",
    "                       \"{}_{}_weights.best.hdf5\".format('epilepsy', \n",
    "                                                        TEST_ID))\n",
    "\n",
    "checkpoint = ModelCheckpoint(weight_path, monitor='val_loss', verbose=1, \n",
    "                             save_best_only=True, mode='min', save_weights_only = True)\n",
    "\n",
    "\n",
    "reduceLROnPlat = ReduceLROnPlateau(monitor='val_loss', \n",
    "                                   factor=0.998, \n",
    "                                   patience=10, \n",
    "                                   verbose=1, \n",
    "                                   mode='auto', \n",
    "                                   min_delta=0.0001, \n",
    "                                   cooldown=5, \n",
    "                                   min_lr=0.0000001)\n",
    "early = EarlyStopping(monitor=\"val_loss\", \n",
    "                      mode=\"min\", \n",
    "                      patience=150)\n",
    "callbacks_list = [checkpoint, early, reduceLROnPlat, tb_callback]"
   ]
  },
  {
   "cell_type": "code",
   "execution_count": 13,
   "metadata": {
    "jupyter": {
     "source_hidden": true
    },
    "papermill": {
     "duration": 0.018146,
     "end_time": "2019-11-24T03:39:06.278885",
     "exception": false,
     "start_time": "2019-11-24T03:39:06.260739",
     "status": "completed"
    },
    "tags": []
   },
   "outputs": [],
   "source": [
    "DATA = np.array(train_X)\n",
    "LABEL = np.array(train_Y)\n",
    "\n",
    "DATA = DATA.reshape((DATA.shape[0], DATA.shape[1], 1))\n",
    "# LABEL = LABEL.reshape((LABEL.shape[0], LABEL.shape[1], 1))\n",
    "\n",
    "# DATA.shape, LABEL.shape"
   ]
  },
  {
   "cell_type": "code",
   "execution_count": 14,
   "metadata": {
    "jupyter": {
     "source_hidden": true
    },
    "papermill": {
     "duration": 14.878187,
     "end_time": "2019-11-24T03:39:21.165853",
     "exception": false,
     "start_time": "2019-11-24T03:39:06.287666",
     "status": "completed"
    },
    "tags": []
   },
   "outputs": [
    {
     "name": "stdout",
     "output_type": "stream",
     "text": [
      "\n",
      "Epoch 00001: val_loss improved from inf to 1.10738, saving model to checkpoints/epilepsy_cls:3_loss:relu_bnm:False_drop:0.7_epo:400_opt:adam_weights.best.hdf5\n",
      "\n",
      "Epoch 00002: val_loss did not improve from 1.10738\n",
      "\n",
      "Epoch 00003: val_loss did not improve from 1.10738\n"
     ]
    },
    {
     "name": "stdout",
     "output_type": "stream",
     "text": [
      "\n",
      "Epoch 00004: val_loss did not improve from 1.10738\n",
      "\n",
      "Epoch 00005: val_loss did not improve from 1.10738\n",
      "\n",
      "Epoch 00006: val_loss did not improve from 1.10738\n",
      "\n",
      "Epoch 00007: val_loss did not improve from 1.10738\n"
     ]
    },
    {
     "name": "stdout",
     "output_type": "stream",
     "text": [
      "\n",
      "Epoch 00008: val_loss did not improve from 1.10738\n",
      "\n",
      "Epoch 00009: val_loss did not improve from 1.10738\n",
      "\n",
      "Epoch 00010: val_loss did not improve from 1.10738\n",
      "\n",
      "Epoch 00011: val_loss did not improve from 1.10738\n",
      "\n",
      "Epoch 00011: ReduceLROnPlateau reducing learning rate to 0.0009980000474024565.\n"
     ]
    },
    {
     "name": "stdout",
     "output_type": "stream",
     "text": [
      "\n",
      "Epoch 00012: val_loss did not improve from 1.10738\n",
      "\n",
      "Epoch 00013: val_loss did not improve from 1.10738\n",
      "\n",
      "Epoch 00014: val_loss did not improve from 1.10738\n",
      "\n",
      "Epoch 00015: val_loss did not improve from 1.10738\n"
     ]
    },
    {
     "name": "stdout",
     "output_type": "stream",
     "text": [
      "\n",
      "Epoch 00016: val_loss did not improve from 1.10738\n",
      "\n",
      "Epoch 00017: val_loss did not improve from 1.10738\n",
      "\n",
      "Epoch 00018: val_loss did not improve from 1.10738\n",
      "\n",
      "Epoch 00019: val_loss did not improve from 1.10738\n"
     ]
    },
    {
     "name": "stdout",
     "output_type": "stream",
     "text": [
      "\n",
      "Epoch 00020: val_loss did not improve from 1.10738\n",
      "\n",
      "Epoch 00021: val_loss did not improve from 1.10738\n",
      "\n",
      "Epoch 00022: val_loss did not improve from 1.10738\n",
      "\n",
      "Epoch 00023: val_loss did not improve from 1.10738\n"
     ]
    },
    {
     "name": "stdout",
     "output_type": "stream",
     "text": [
      "\n",
      "Epoch 00024: val_loss did not improve from 1.10738\n",
      "\n",
      "Epoch 00025: val_loss did not improve from 1.10738\n",
      "\n",
      "Epoch 00025: ReduceLROnPlateau reducing learning rate to 0.0009960040322039277.\n",
      "\n",
      "Epoch 00026: val_loss did not improve from 1.10738\n",
      "\n",
      "Epoch 00027: val_loss did not improve from 1.10738\n"
     ]
    },
    {
     "name": "stdout",
     "output_type": "stream",
     "text": [
      "\n",
      "Epoch 00028: val_loss did not improve from 1.10738\n",
      "\n",
      "Epoch 00029: val_loss did not improve from 1.10738\n",
      "\n",
      "Epoch 00030: val_loss did not improve from 1.10738\n",
      "\n",
      "Epoch 00031: val_loss did not improve from 1.10738\n"
     ]
    },
    {
     "name": "stdout",
     "output_type": "stream",
     "text": [
      "\n",
      "Epoch 00032: val_loss did not improve from 1.10738\n",
      "\n",
      "Epoch 00033: val_loss did not improve from 1.10738\n",
      "\n",
      "Epoch 00034: val_loss improved from 1.10738 to 1.06775, saving model to checkpoints/epilepsy_cls:3_loss:relu_bnm:False_drop:0.7_epo:400_opt:adam_weights.best.hdf5\n",
      "\n",
      "Epoch 00035: val_loss improved from 1.06775 to 1.03501, saving model to checkpoints/epilepsy_cls:3_loss:relu_bnm:False_drop:0.7_epo:400_opt:adam_weights.best.hdf5\n"
     ]
    },
    {
     "name": "stdout",
     "output_type": "stream",
     "text": [
      "\n",
      "Epoch 00036: val_loss improved from 1.03501 to 1.01019, saving model to checkpoints/epilepsy_cls:3_loss:relu_bnm:False_drop:0.7_epo:400_opt:adam_weights.best.hdf5\n",
      "\n",
      "Epoch 00037: val_loss improved from 1.01019 to 1.00931, saving model to checkpoints/epilepsy_cls:3_loss:relu_bnm:False_drop:0.7_epo:400_opt:adam_weights.best.hdf5\n",
      "\n",
      "Epoch 00038: val_loss improved from 1.00931 to 0.96888, saving model to checkpoints/epilepsy_cls:3_loss:relu_bnm:False_drop:0.7_epo:400_opt:adam_weights.best.hdf5\n"
     ]
    },
    {
     "name": "stdout",
     "output_type": "stream",
     "text": [
      "\n",
      "Epoch 00039: val_loss improved from 0.96888 to 0.89855, saving model to checkpoints/epilepsy_cls:3_loss:relu_bnm:False_drop:0.7_epo:400_opt:adam_weights.best.hdf5\n",
      "\n",
      "Epoch 00040: val_loss improved from 0.89855 to 0.85416, saving model to checkpoints/epilepsy_cls:3_loss:relu_bnm:False_drop:0.7_epo:400_opt:adam_weights.best.hdf5\n",
      "\n",
      "Epoch 00041: val_loss improved from 0.85416 to 0.82228, saving model to checkpoints/epilepsy_cls:3_loss:relu_bnm:False_drop:0.7_epo:400_opt:adam_weights.best.hdf5\n",
      "\n",
      "Epoch 00042: val_loss improved from 0.82228 to 0.79538, saving model to checkpoints/epilepsy_cls:3_loss:relu_bnm:False_drop:0.7_epo:400_opt:adam_weights.best.hdf5\n"
     ]
    },
    {
     "name": "stdout",
     "output_type": "stream",
     "text": [
      "\n",
      "Epoch 00043: val_loss improved from 0.79538 to 0.76571, saving model to checkpoints/epilepsy_cls:3_loss:relu_bnm:False_drop:0.7_epo:400_opt:adam_weights.best.hdf5\n",
      "\n",
      "Epoch 00044: val_loss improved from 0.76571 to 0.69691, saving model to checkpoints/epilepsy_cls:3_loss:relu_bnm:False_drop:0.7_epo:400_opt:adam_weights.best.hdf5\n",
      "\n",
      "Epoch 00045: val_loss improved from 0.69691 to 0.65275, saving model to checkpoints/epilepsy_cls:3_loss:relu_bnm:False_drop:0.7_epo:400_opt:adam_weights.best.hdf5\n"
     ]
    },
    {
     "name": "stdout",
     "output_type": "stream",
     "text": [
      "\n",
      "Epoch 00046: val_loss improved from 0.65275 to 0.62859, saving model to checkpoints/epilepsy_cls:3_loss:relu_bnm:False_drop:0.7_epo:400_opt:adam_weights.best.hdf5\n",
      "\n",
      "Epoch 00047: val_loss did not improve from 0.62859\n",
      "\n",
      "Epoch 00048: val_loss improved from 0.62859 to 0.55863, saving model to checkpoints/epilepsy_cls:3_loss:relu_bnm:False_drop:0.7_epo:400_opt:adam_weights.best.hdf5\n",
      "\n",
      "Epoch 00049: val_loss improved from 0.55863 to 0.52619, saving model to checkpoints/epilepsy_cls:3_loss:relu_bnm:False_drop:0.7_epo:400_opt:adam_weights.best.hdf5\n"
     ]
    },
    {
     "name": "stdout",
     "output_type": "stream",
     "text": [
      "\n",
      "Epoch 00050: val_loss did not improve from 0.52619\n",
      "\n",
      "Epoch 00051: val_loss did not improve from 0.52619\n",
      "\n",
      "Epoch 00052: val_loss improved from 0.52619 to 0.48132, saving model to checkpoints/epilepsy_cls:3_loss:relu_bnm:False_drop:0.7_epo:400_opt:adam_weights.best.hdf5\n",
      "\n",
      "Epoch 00053: val_loss improved from 0.48132 to 0.45183, saving model to checkpoints/epilepsy_cls:3_loss:relu_bnm:False_drop:0.7_epo:400_opt:adam_weights.best.hdf5\n"
     ]
    },
    {
     "name": "stdout",
     "output_type": "stream",
     "text": [
      "\n",
      "Epoch 00054: val_loss did not improve from 0.45183\n",
      "\n",
      "Epoch 00055: val_loss did not improve from 0.45183\n",
      "\n",
      "Epoch 00056: val_loss improved from 0.45183 to 0.43294, saving model to checkpoints/epilepsy_cls:3_loss:relu_bnm:False_drop:0.7_epo:400_opt:adam_weights.best.hdf5\n",
      "\n",
      "Epoch 00057: val_loss did not improve from 0.43294\n"
     ]
    },
    {
     "name": "stdout",
     "output_type": "stream",
     "text": [
      "\n",
      "Epoch 00058: val_loss did not improve from 0.43294\n",
      "\n",
      "Epoch 00059: val_loss improved from 0.43294 to 0.40563, saving model to checkpoints/epilepsy_cls:3_loss:relu_bnm:False_drop:0.7_epo:400_opt:adam_weights.best.hdf5\n",
      "\n",
      "Epoch 00060: val_loss improved from 0.40563 to 0.36885, saving model to checkpoints/epilepsy_cls:3_loss:relu_bnm:False_drop:0.7_epo:400_opt:adam_weights.best.hdf5\n",
      "\n",
      "Epoch 00061: val_loss did not improve from 0.36885\n"
     ]
    },
    {
     "name": "stdout",
     "output_type": "stream",
     "text": [
      "\n",
      "Epoch 00062: val_loss did not improve from 0.36885\n",
      "\n",
      "Epoch 00063: val_loss did not improve from 0.36885\n",
      "\n",
      "Epoch 00064: val_loss did not improve from 0.36885\n",
      "\n",
      "Epoch 00065: val_loss did not improve from 0.36885\n"
     ]
    },
    {
     "name": "stdout",
     "output_type": "stream",
     "text": [
      "\n",
      "Epoch 00066: val_loss did not improve from 0.36885\n",
      "\n",
      "Epoch 00067: val_loss did not improve from 0.36885\n",
      "\n",
      "Epoch 00068: val_loss did not improve from 0.36885\n",
      "\n",
      "Epoch 00069: val_loss did not improve from 0.36885\n"
     ]
    },
    {
     "name": "stdout",
     "output_type": "stream",
     "text": [
      "\n",
      "Epoch 00070: val_loss did not improve from 0.36885\n",
      "\n",
      "Epoch 00070: ReduceLROnPlateau reducing learning rate to 0.000994011967210099.\n",
      "\n",
      "Epoch 00071: val_loss did not improve from 0.36885\n",
      "\n",
      "Epoch 00072: val_loss did not improve from 0.36885\n",
      "\n",
      "Epoch 00073: val_loss did not improve from 0.36885\n"
     ]
    },
    {
     "name": "stdout",
     "output_type": "stream",
     "text": [
      "\n",
      "Epoch 00074: val_loss did not improve from 0.36885\n",
      "\n",
      "Epoch 00075: val_loss did not improve from 0.36885\n",
      "\n",
      "Epoch 00076: val_loss did not improve from 0.36885\n",
      "\n",
      "Epoch 00077: val_loss did not improve from 0.36885\n"
     ]
    },
    {
     "name": "stdout",
     "output_type": "stream",
     "text": [
      "\n",
      "Epoch 00078: val_loss did not improve from 0.36885\n",
      "\n",
      "Epoch 00079: val_loss did not improve from 0.36885\n",
      "\n",
      "Epoch 00080: val_loss did not improve from 0.36885\n",
      "\n",
      "Epoch 00081: val_loss did not improve from 0.36885\n"
     ]
    },
    {
     "name": "stdout",
     "output_type": "stream",
     "text": [
      "\n",
      "Epoch 00082: val_loss did not improve from 0.36885\n",
      "\n",
      "Epoch 00083: val_loss did not improve from 0.36885\n",
      "\n",
      "Epoch 00084: val_loss did not improve from 0.36885\n",
      "\n",
      "Epoch 00084: ReduceLROnPlateau reducing learning rate to 0.000992023968603462.\n",
      "\n",
      "Epoch 00085: val_loss did not improve from 0.36885\n"
     ]
    },
    {
     "name": "stdout",
     "output_type": "stream",
     "text": [
      "\n",
      "Epoch 00086: val_loss did not improve from 0.36885\n",
      "\n",
      "Epoch 00087: val_loss did not improve from 0.36885\n",
      "\n",
      "Epoch 00088: val_loss did not improve from 0.36885\n",
      "\n",
      "Epoch 00089: val_loss did not improve from 0.36885\n"
     ]
    },
    {
     "name": "stdout",
     "output_type": "stream",
     "text": [
      "\n",
      "Epoch 00090: val_loss did not improve from 0.36885\n",
      "\n",
      "Epoch 00091: val_loss did not improve from 0.36885\n",
      "\n",
      "Epoch 00092: val_loss did not improve from 0.36885\n",
      "\n",
      "Epoch 00093: val_loss did not improve from 0.36885\n"
     ]
    },
    {
     "name": "stdout",
     "output_type": "stream",
     "text": [
      "\n",
      "Epoch 00094: val_loss did not improve from 0.36885\n",
      "\n",
      "Epoch 00095: val_loss did not improve from 0.36885\n",
      "\n",
      "Epoch 00096: val_loss did not improve from 0.36885\n",
      "\n",
      "Epoch 00097: val_loss did not improve from 0.36885\n"
     ]
    },
    {
     "name": "stdout",
     "output_type": "stream",
     "text": [
      "\n",
      "Epoch 00098: val_loss did not improve from 0.36885\n",
      "\n",
      "Epoch 00098: ReduceLROnPlateau reducing learning rate to 0.000990039920201525.\n",
      "\n",
      "Epoch 00099: val_loss did not improve from 0.36885\n",
      "\n",
      "Epoch 00100: val_loss did not improve from 0.36885\n",
      "\n",
      "Epoch 00101: val_loss did not improve from 0.36885\n"
     ]
    },
    {
     "name": "stdout",
     "output_type": "stream",
     "text": [
      "\n",
      "Epoch 00102: val_loss did not improve from 0.36885\n",
      "\n",
      "Epoch 00103: val_loss did not improve from 0.36885\n",
      "\n",
      "Epoch 00104: val_loss did not improve from 0.36885\n",
      "\n",
      "Epoch 00105: val_loss did not improve from 0.36885\n"
     ]
    },
    {
     "name": "stdout",
     "output_type": "stream",
     "text": [
      "\n",
      "Epoch 00106: val_loss did not improve from 0.36885\n",
      "\n",
      "Epoch 00107: val_loss did not improve from 0.36885\n",
      "\n",
      "Epoch 00108: val_loss did not improve from 0.36885\n",
      "\n",
      "Epoch 00109: val_loss did not improve from 0.36885\n"
     ]
    },
    {
     "name": "stdout",
     "output_type": "stream",
     "text": [
      "\n",
      "Epoch 00110: val_loss did not improve from 0.36885\n",
      "\n",
      "Epoch 00111: val_loss did not improve from 0.36885\n",
      "\n",
      "Epoch 00112: val_loss did not improve from 0.36885\n",
      "\n",
      "Epoch 00112: ReduceLROnPlateau reducing learning rate to 0.0009880598220042885.\n",
      "\n",
      "Epoch 00113: val_loss did not improve from 0.36885\n"
     ]
    },
    {
     "name": "stdout",
     "output_type": "stream",
     "text": [
      "\n",
      "Epoch 00114: val_loss did not improve from 0.36885\n",
      "\n",
      "Epoch 00115: val_loss did not improve from 0.36885\n",
      "\n",
      "Epoch 00116: val_loss did not improve from 0.36885\n",
      "\n",
      "Epoch 00117: val_loss did not improve from 0.36885\n"
     ]
    },
    {
     "name": "stdout",
     "output_type": "stream",
     "text": [
      "\n",
      "Epoch 00118: val_loss did not improve from 0.36885\n",
      "\n",
      "Epoch 00119: val_loss did not improve from 0.36885\n",
      "\n",
      "Epoch 00120: val_loss did not improve from 0.36885\n",
      "\n",
      "Epoch 00121: val_loss did not improve from 0.36885\n"
     ]
    },
    {
     "name": "stdout",
     "output_type": "stream",
     "text": [
      "\n",
      "Epoch 00122: val_loss did not improve from 0.36885\n",
      "\n",
      "Epoch 00123: val_loss did not improve from 0.36885\n",
      "\n",
      "Epoch 00124: val_loss did not improve from 0.36885\n",
      "\n",
      "Epoch 00125: val_loss did not improve from 0.36885\n"
     ]
    },
    {
     "name": "stdout",
     "output_type": "stream",
     "text": [
      "\n",
      "Epoch 00126: val_loss did not improve from 0.36885\n",
      "\n",
      "Epoch 00126: ReduceLROnPlateau reducing learning rate to 0.000986083674011752.\n",
      "\n",
      "Epoch 00127: val_loss did not improve from 0.36885\n",
      "\n",
      "Epoch 00128: val_loss did not improve from 0.36885\n",
      "\n",
      "Epoch 00129: val_loss did not improve from 0.36885\n"
     ]
    },
    {
     "name": "stdout",
     "output_type": "stream",
     "text": [
      "\n",
      "Epoch 00130: val_loss did not improve from 0.36885\n",
      "\n",
      "Epoch 00131: val_loss did not improve from 0.36885\n",
      "\n",
      "Epoch 00132: val_loss did not improve from 0.36885\n",
      "\n",
      "Epoch 00133: val_loss did not improve from 0.36885\n"
     ]
    },
    {
     "name": "stdout",
     "output_type": "stream",
     "text": [
      "\n",
      "Epoch 00134: val_loss did not improve from 0.36885\n",
      "\n",
      "Epoch 00135: val_loss did not improve from 0.36885\n",
      "\n",
      "Epoch 00136: val_loss did not improve from 0.36885\n",
      "\n",
      "Epoch 00137: val_loss did not improve from 0.36885\n"
     ]
    },
    {
     "name": "stdout",
     "output_type": "stream",
     "text": [
      "\n",
      "Epoch 00138: val_loss did not improve from 0.36885\n",
      "\n",
      "Epoch 00139: val_loss did not improve from 0.36885\n",
      "\n",
      "Epoch 00140: val_loss did not improve from 0.36885\n",
      "\n",
      "Epoch 00140: ReduceLROnPlateau reducing learning rate to 0.0009841114762239157.\n",
      "\n",
      "Epoch 00141: val_loss did not improve from 0.36885\n"
     ]
    },
    {
     "name": "stdout",
     "output_type": "stream",
     "text": [
      "\n",
      "Epoch 00142: val_loss did not improve from 0.36885\n",
      "\n",
      "Epoch 00143: val_loss did not improve from 0.36885\n",
      "\n",
      "Epoch 00144: val_loss did not improve from 0.36885\n",
      "\n",
      "Epoch 00145: val_loss did not improve from 0.36885\n"
     ]
    },
    {
     "name": "stdout",
     "output_type": "stream",
     "text": [
      "\n",
      "Epoch 00146: val_loss did not improve from 0.36885\n",
      "\n",
      "Epoch 00147: val_loss did not improve from 0.36885\n",
      "\n",
      "Epoch 00148: val_loss did not improve from 0.36885\n",
      "\n",
      "Epoch 00149: val_loss did not improve from 0.36885\n"
     ]
    },
    {
     "name": "stdout",
     "output_type": "stream",
     "text": [
      "\n",
      "Epoch 00150: val_loss did not improve from 0.36885\n",
      "\n",
      "Epoch 00151: val_loss did not improve from 0.36885\n",
      "\n",
      "Epoch 00152: val_loss did not improve from 0.36885\n",
      "\n",
      "Epoch 00153: val_loss did not improve from 0.36885\n"
     ]
    },
    {
     "name": "stdout",
     "output_type": "stream",
     "text": [
      "\n",
      "Epoch 00154: val_loss did not improve from 0.36885\n",
      "\n",
      "Epoch 00154: ReduceLROnPlateau reducing learning rate to 0.00098214322864078.\n",
      "\n",
      "Epoch 00155: val_loss did not improve from 0.36885\n",
      "\n",
      "Epoch 00156: val_loss did not improve from 0.36885\n",
      "\n",
      "Epoch 00157: val_loss did not improve from 0.36885\n"
     ]
    },
    {
     "name": "stdout",
     "output_type": "stream",
     "text": [
      "\n",
      "Epoch 00158: val_loss did not improve from 0.36885\n",
      "\n",
      "Epoch 00159: val_loss did not improve from 0.36885\n",
      "\n",
      "Epoch 00160: val_loss did not improve from 0.36885\n",
      "\n",
      "Epoch 00161: val_loss did not improve from 0.36885\n"
     ]
    },
    {
     "name": "stdout",
     "output_type": "stream",
     "text": [
      "\n",
      "Epoch 00162: val_loss did not improve from 0.36885\n",
      "\n",
      "Epoch 00163: val_loss did not improve from 0.36885\n",
      "\n",
      "Epoch 00164: val_loss did not improve from 0.36885\n",
      "\n",
      "Epoch 00165: val_loss did not improve from 0.36885\n"
     ]
    },
    {
     "name": "stdout",
     "output_type": "stream",
     "text": [
      "\n",
      "Epoch 00166: val_loss did not improve from 0.36885\n",
      "\n",
      "Epoch 00167: val_loss did not improve from 0.36885\n",
      "\n",
      "Epoch 00168: val_loss did not improve from 0.36885\n",
      "\n",
      "Epoch 00168: ReduceLROnPlateau reducing learning rate to 0.000980178931262344.\n",
      "\n",
      "Epoch 00169: val_loss did not improve from 0.36885\n"
     ]
    },
    {
     "name": "stdout",
     "output_type": "stream",
     "text": [
      "\n",
      "Epoch 00170: val_loss did not improve from 0.36885\n",
      "\n",
      "Epoch 00171: val_loss did not improve from 0.36885\n",
      "\n",
      "Epoch 00172: val_loss did not improve from 0.36885\n",
      "\n",
      "Epoch 00173: val_loss did not improve from 0.36885\n"
     ]
    },
    {
     "name": "stdout",
     "output_type": "stream",
     "text": [
      "\n",
      "Epoch 00174: val_loss did not improve from 0.36885\n",
      "\n",
      "Epoch 00175: val_loss did not improve from 0.36885\n",
      "\n",
      "Epoch 00176: val_loss did not improve from 0.36885\n",
      "\n",
      "Epoch 00177: val_loss did not improve from 0.36885\n"
     ]
    },
    {
     "name": "stdout",
     "output_type": "stream",
     "text": [
      "\n",
      "Epoch 00178: val_loss did not improve from 0.36885\n",
      "\n",
      "Epoch 00179: val_loss did not improve from 0.36885\n",
      "\n",
      "Epoch 00180: val_loss did not improve from 0.36885\n",
      "\n",
      "Epoch 00181: val_loss did not improve from 0.36885\n"
     ]
    },
    {
     "name": "stdout",
     "output_type": "stream",
     "text": [
      "\n",
      "Epoch 00182: val_loss did not improve from 0.36885\n",
      "\n",
      "Epoch 00182: ReduceLROnPlateau reducing learning rate to 0.0009782185840886085.\n",
      "\n",
      "Epoch 00183: val_loss did not improve from 0.36885\n",
      "\n",
      "Epoch 00184: val_loss did not improve from 0.36885\n",
      "\n",
      "Epoch 00185: val_loss did not improve from 0.36885\n"
     ]
    },
    {
     "name": "stdout",
     "output_type": "stream",
     "text": [
      "\n",
      "Epoch 00186: val_loss did not improve from 0.36885\n",
      "\n",
      "Epoch 00187: val_loss did not improve from 0.36885\n",
      "\n",
      "Epoch 00188: val_loss did not improve from 0.36885\n",
      "\n",
      "Epoch 00189: val_loss did not improve from 0.36885\n"
     ]
    },
    {
     "name": "stdout",
     "output_type": "stream",
     "text": [
      "\n",
      "Epoch 00190: val_loss did not improve from 0.36885\n",
      "\n",
      "Epoch 00191: val_loss did not improve from 0.36885\n",
      "\n",
      "Epoch 00192: val_loss did not improve from 0.36885\n",
      "\n",
      "Epoch 00193: val_loss did not improve from 0.36885\n"
     ]
    },
    {
     "name": "stdout",
     "output_type": "stream",
     "text": [
      "\n",
      "Epoch 00194: val_loss did not improve from 0.36885\n",
      "\n",
      "Epoch 00195: val_loss did not improve from 0.36885\n",
      "\n",
      "Epoch 00196: val_loss did not improve from 0.36885\n",
      "\n",
      "Epoch 00196: ReduceLROnPlateau reducing learning rate to 0.0009762621871195734.\n",
      "\n",
      "Epoch 00197: val_loss did not improve from 0.36885\n"
     ]
    },
    {
     "name": "stdout",
     "output_type": "stream",
     "text": [
      "\n",
      "Epoch 00198: val_loss did not improve from 0.36885\n",
      "\n",
      "Epoch 00199: val_loss did not improve from 0.36885\n",
      "\n",
      "Epoch 00200: val_loss did not improve from 0.36885\n",
      "\n",
      "Epoch 00201: val_loss did not improve from 0.36885\n"
     ]
    },
    {
     "name": "stdout",
     "output_type": "stream",
     "text": [
      "\n",
      "Epoch 00202: val_loss did not improve from 0.36885\n",
      "\n",
      "Epoch 00203: val_loss did not improve from 0.36885\n",
      "\n",
      "Epoch 00204: val_loss did not improve from 0.36885\n",
      "\n",
      "Epoch 00205: val_loss did not improve from 0.36885\n"
     ]
    },
    {
     "name": "stdout",
     "output_type": "stream",
     "text": [
      "\n",
      "Epoch 00206: val_loss did not improve from 0.36885\n",
      "\n",
      "Epoch 00207: val_loss did not improve from 0.36885\n",
      "\n",
      "Epoch 00208: val_loss did not improve from 0.36885\n",
      "\n",
      "Epoch 00209: val_loss did not improve from 0.36885\n"
     ]
    },
    {
     "name": "stdout",
     "output_type": "stream",
     "text": [
      "\n",
      "Epoch 00210: val_loss did not improve from 0.36885\n",
      "\n",
      "Epoch 00210: ReduceLROnPlateau reducing learning rate to 0.0009743096822639927.\n"
     ]
    }
   ],
   "source": [
    "hist=model.fit(DATA,LABEL, \n",
    "               batch_size=900,\n",
    "               validation_split=0.1,\n",
    "               callbacks = callbacks_list,\n",
    "               epochs=EPOCHS, \n",
    "               shuffle=True,\n",
    "               verbose=0\n",
    "              )"
   ]
  },
  {
   "cell_type": "code",
   "execution_count": 15,
   "metadata": {
    "jupyter": {
     "source_hidden": true
    },
    "papermill": {
     "duration": 0.207679,
     "end_time": "2019-11-24T03:39:21.395079",
     "exception": false,
     "start_time": "2019-11-24T03:39:21.187400",
     "status": "completed"
    },
    "tags": []
   },
   "outputs": [
    {
     "data": {
      "image/png": "[encoded data removed]",
      "text/plain": [
       "<Figure size 432x288 with 1 Axes>"
      ]
     },
     "metadata": {},
     "output_type": "display_data"
    }
   ],
   "source": [
    "plt.plot(hist.history['accuracy'])\n",
    "plt.plot(hist.history['val_accuracy'])\n",
    "plt.title('model accuracy')\n",
    "plt.ylabel('accuracy')\n",
    "plt.xlabel('epoch')\n",
    "plt.legend(['train', 'test'], loc='lower right')\n",
    "plt.savefig('{}/acc_{}.png'.format(plot_dir, TEST_ID))\n",
    "plt.show()"
   ]
  },
  {
   "cell_type": "code",
   "execution_count": 16,
   "metadata": {
    "jupyter": {
     "source_hidden": true
    },
    "papermill": {
     "duration": 0.185803,
     "end_time": "2019-11-24T03:39:21.604088",
     "exception": false,
     "start_time": "2019-11-24T03:39:21.418285",
     "status": "completed"
    },
    "tags": []
   },
   "outputs": [
    {
     "data": {
      "image/png": "[encoded data removed]",
      "text/plain": [
       "<Figure size 432x288 with 1 Axes>"
      ]
     },
     "metadata": {},
     "output_type": "display_data"
    }
   ],
   "source": [
    "plt.plot(hist.history['loss'])\n",
    "plt.plot(hist.history['val_loss'])\n",
    "plt.title('model loss')\n",
    "plt.ylabel('loss')\n",
    "plt.xlabel('epoch')\n",
    "plt.legend(['train', 'test'], loc='upper right')\n",
    "plt.savefig('{}/loss_{}.png'.format(plot_dir, TEST_ID))\n",
    "plt.show()"
   ]
  },
  {
   "cell_type": "code",
   "execution_count": 17,
   "metadata": {
    "jupyter": {
     "source_hidden": true
    },
    "papermill": {
     "duration": 0.028702,
     "end_time": "2019-11-24T03:39:21.655819",
     "exception": false,
     "start_time": "2019-11-24T03:39:21.627117",
     "status": "completed"
    },
    "tags": []
   },
   "outputs": [
    {
     "data": {
      "text/plain": [
       "(0.8296296, 1.0)"
      ]
     },
     "execution_count": 17,
     "metadata": {},
     "output_type": "execute_result"
    }
   ],
   "source": [
    "max(hist.history['accuracy']), max(hist.history['val_accuracy']) "
   ]
  },
  {
   "cell_type": "code",
   "execution_count": 18,
   "metadata": {
    "jupyter": {
     "source_hidden": true
    },
    "papermill": {
     "duration": 0.027912,
     "end_time": "2019-11-24T03:39:21.704224",
     "exception": false,
     "start_time": "2019-11-24T03:39:21.676312",
     "status": "completed"
    },
    "tags": []
   },
   "outputs": [
    {
     "data": {
      "text/plain": [
       "(0.3992424011230469, 0.36885103583335876)"
      ]
     },
     "execution_count": 18,
     "metadata": {},
     "output_type": "execute_result"
    }
   ],
   "source": [
    "min(hist.history['loss']), min(hist.history['val_loss']) "
   ]
  }
 ],
 "metadata": {
  "kernelspec": {
   "display_name": "Python 3",
   "language": "python",
   "name": "python3"
  },
  "language_info": {
   "codemirror_mode": {
    "name": "ipython",
    "version": 3
   },
   "file_extension": ".py",
   "mimetype": "text/x-python",
   "name": "python",
   "nbconvert_exporter": "python",
   "pygments_lexer": "ipython3",
   "version": "3.8.0"
  },
  "papermill": {
   "duration": 19.903944,
   "end_time": "2019-11-24T03:39:22.737144",
   "environment_variables": {},
   "exception": null,
   "input_path": "Train1.ipynb",
   "output_path": "nb_output/Train1_cls:3_loss:relu_bnm:False_drop:0.7_epo:400_opt:adam.ipynb",
   "parameters": {
    "BATCH": false,
    "DROPRATE": 0.7,
    "EPOCHS": 400,
    "classes": 3,
    "lossfn": "relu",
    "optim": "adam"
   },
   "start_time": "2019-11-24T03:39:02.833200",
   "version": "1.2.1"
  }
 },
 "nbformat": 4,
 "nbformat_minor": 4
}