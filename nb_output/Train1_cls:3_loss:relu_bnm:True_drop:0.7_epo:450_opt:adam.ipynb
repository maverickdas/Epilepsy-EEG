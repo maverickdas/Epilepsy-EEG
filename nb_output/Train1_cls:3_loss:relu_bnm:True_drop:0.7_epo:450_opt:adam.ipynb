{
 "cells": [
  {
   "cell_type": "code",
   "execution_count": 1,
   "metadata": {
    "jupyter": {
     "source_hidden": true
    },
    "papermill": {
     "duration": 0.017667,
     "end_time": "2019-11-24T02:55:29.771312",
     "exception": false,
     "start_time": "2019-11-24T02:55:29.753645",
     "status": "completed"
    },
    "tags": [
     "injected-parameters"
    ]
   },
   "outputs": [],
   "source": [
    "# Parameters\n",
    "classes = 3\n",
    "lossfn = \"relu\"\n",
    "BATCH = True\n",
    "EPOCHS = 450\n",
    "DROPRATE = 0.7\n",
    "optim = \"adam\"\n"
   ]
  },
  {
   "cell_type": "code",
   "execution_count": 2,
   "metadata": {
    "jupyter": {
     "source_hidden": true
    },
    "papermill": {
     "duration": 0.345769,
     "end_time": "2019-11-24T02:55:30.125813",
     "exception": false,
     "start_time": "2019-11-24T02:55:29.780044",
     "status": "completed"
    },
    "tags": []
   },
   "outputs": [],
   "source": [
    "import numpy as np\n",
    "import pandas as pd\n",
    "import matplotlib.pyplot as plt\n",
    "import os\n",
    "import os.path as osp\n",
    "from datetime import datetime"
   ]
  },
  {
   "cell_type": "code",
   "execution_count": 3,
   "metadata": {
    "jupyter": {
     "source_hidden": true
    },
    "papermill": {
     "duration": 1.036835,
     "end_time": "2019-11-24T02:55:31.177583",
     "exception": false,
     "start_time": "2019-11-24T02:55:30.140748",
     "status": "completed"
    },
    "tags": []
   },
   "outputs": [
    {
     "name": "stderr",
     "output_type": "stream",
     "text": [
      "Using TensorFlow backend.\n"
     ]
    }
   ],
   "source": [
    "import matplotlib.pyplot as plt\n",
    "%matplotlib inline\n",
    "from matplotlib import style\n",
    "style.use('ggplot')\n",
    "import keras.backend as K\n",
    "import keras as keras\n",
    "from keras.models import Sequential,Model\n",
    "from keras.metrics import mae, categorical_accuracy\n",
    "\n",
    "from keras.layers import MaxPooling1D, Dense, Dropout, Flatten, Input, Conv1D, LeakyReLU, BatchNormalization, Softmax\n"
   ]
  },
  {
   "cell_type": "code",
   "execution_count": 4,
   "metadata": {
    "jupyter": {
     "source_hidden": true
    },
    "papermill": {
     "duration": 0.013277,
     "end_time": "2019-11-24T02:55:31.200111",
     "exception": false,
     "start_time": "2019-11-24T02:55:31.186834",
     "status": "completed"
    },
    "tags": []
   },
   "outputs": [],
   "source": [
    "# # curr_path = os.getcwd()\n",
    "# # curr_path\n",
    "# # lossfn = LeakyReLU(alpha=0.02)\n",
    "# optim = 'adam'\n",
    "# lossfn = 'relu'\n",
    "# BATCH = False\n",
    "# EPOCHS = 500\n",
    "# DROPRATE = 0.4\n",
    "# classes = 4"
   ]
  },
  {
   "cell_type": "code",
   "execution_count": 5,
   "metadata": {
    "jupyter": {
     "source_hidden": true
    },
    "papermill": {
     "duration": 0.013896,
     "end_time": "2019-11-24T02:55:31.222218",
     "exception": false,
     "start_time": "2019-11-24T02:55:31.208322",
     "status": "completed"
    },
    "tags": []
   },
   "outputs": [],
   "source": [
    "fold_dict = {}\n",
    "if classes == 4:\n",
    "    fold_dict = {\"O\":[0, 0,0,1],\"F\":[0, 0,1,0], 'S':[0, 1,0,0], \"N\":[1, 0,0,0]}\n",
    "elif classes == 3:\n",
    "    fold_dict = {\"O\":[0,0,1],\"F\":[0,1,0], 'S':[1,0,0]}\n",
    "# out_len = len(fold_dict.keys())"
   ]
  },
  {
   "cell_type": "code",
   "execution_count": 6,
   "metadata": {
    "jupyter": {
     "source_hidden": true
    },
    "papermill": {
     "duration": 0.015418,
     "end_time": "2019-11-24T02:55:31.245928",
     "exception": false,
     "start_time": "2019-11-24T02:55:31.230510",
     "status": "completed"
    },
    "tags": []
   },
   "outputs": [
    {
     "data": {
      "text/plain": [
       "'cls:3_loss:relu_bnm:True_drop:0.7_epo:450_opt:adam'"
      ]
     },
     "execution_count": 6,
     "metadata": {},
     "output_type": "execute_result"
    }
   ],
   "source": [
    "TEST_ID = \"cls:{}_loss:{}_bnm:{}_drop:{}_epo:{}_opt:{}\".format(classes, lossfn, BATCH, DROPRATE, EPOCHS, optim)\n",
    "TEST_ID"
   ]
  },
  {
   "cell_type": "code",
   "execution_count": 7,
   "metadata": {
    "jupyter": {
     "source_hidden": true
    },
    "papermill": {
     "duration": 0.013055,
     "end_time": "2019-11-24T02:55:31.267079",
     "exception": false,
     "start_time": "2019-11-24T02:55:31.254024",
     "status": "completed"
    },
    "tags": []
   },
   "outputs": [],
   "source": [
    "data_dir = 'data'\n",
    "chk_dir = 'checkpoints'\n",
    "plot_dir = 'plots'\n",
    "logdir = \"logs/scalars/\" + TEST_ID\n",
    "logdir = osp.join(logdir, datetime.now().strftime(\"%Y%m%d-%H%M%S\"))\n",
    "tb_callback = keras.callbacks.TensorBoard(log_dir=logdir)"
   ]
  },
  {
   "cell_type": "code",
   "execution_count": 8,
   "metadata": {
    "jupyter": {
     "source_hidden": true
    },
    "papermill": {
     "duration": 0.014688,
     "end_time": "2019-11-24T02:55:31.289917",
     "exception": false,
     "start_time": "2019-11-24T02:55:31.275229",
     "status": "completed"
    },
    "tags": []
   },
   "outputs": [],
   "source": [
    "def extract(fold,label):\n",
    "    fold_arr = []\n",
    "    labels_arr = []\n",
    "    files = []\n",
    "    for f in os.listdir(fold):\n",
    "        files.append(osp.join(fold, f))\n",
    "\n",
    "\n",
    "    for f in files:\n",
    "\n",
    "        lines = []\n",
    "        with open(f, 'r') as fw:\n",
    "            for i, line in enumerate(fw):\n",
    "                lines.append(int(line.split()[0]))\n",
    "        lines_arr = np.array(lines)\n",
    "        lines_arr=(lines_arr-np.mean(lines_arr))/np.var(lines_arr)\n",
    "        fold_arr.append(lines_arr)\n",
    "        labels_arr.append(label)\n",
    "    return fold_arr,labels_arr"
   ]
  },
  {
   "cell_type": "code",
   "execution_count": 9,
   "metadata": {
    "jupyter": {
     "source_hidden": true
    },
    "papermill": {
     "duration": 0.545496,
     "end_time": "2019-11-24T02:55:31.844161",
     "exception": false,
     "start_time": "2019-11-24T02:55:31.298665",
     "status": "completed"
    },
    "tags": []
   },
   "outputs": [],
   "source": [
    "fin_list = []\n",
    "train_X = []\n",
    "train_Y = []\n",
    "for key,val in fold_dict.items():\n",
    "    x,y = extract(osp.join(data_dir,key),val)\n",
    "    train_X.extend(x)\n",
    "    train_Y.extend(y)"
   ]
  },
  {
   "cell_type": "code",
   "execution_count": 10,
   "metadata": {
    "jupyter": {
     "source_hidden": true
    },
    "papermill": {
     "duration": 0.015178,
     "end_time": "2019-11-24T02:55:31.868681",
     "exception": false,
     "start_time": "2019-11-24T02:55:31.853503",
     "status": "completed"
    },
    "tags": []
   },
   "outputs": [
    {
     "data": {
      "text/plain": [
       "(300, 300)"
      ]
     },
     "execution_count": 10,
     "metadata": {},
     "output_type": "execute_result"
    }
   ],
   "source": [
    "len(train_X),len(train_Y)"
   ]
  },
  {
   "cell_type": "code",
   "execution_count": 11,
   "metadata": {
    "jupyter": {
     "source_hidden": true
    },
    "papermill": {
     "duration": 0.887642,
     "end_time": "2019-11-24T02:55:32.765863",
     "exception": false,
     "start_time": "2019-11-24T02:55:31.878221",
     "status": "completed"
    },
    "tags": []
   },
   "outputs": [
    {
     "name": "stdout",
     "output_type": "stream",
     "text": [
      "WARNING:tensorflow:Large dropout rate: 0.7 (>0.5). In TensorFlow 2.x, dropout() uses dropout rate instead of keep_prob. Please ensure that this is intended.\n"
     ]
    },
    {
     "name": "stdout",
     "output_type": "stream",
     "text": [
      "WARNING:tensorflow:Large dropout rate: 0.7 (>0.5). In TensorFlow 2.x, dropout() uses dropout rate instead of keep_prob. Please ensure that this is intended.\n"
     ]
    },
    {
     "name": "stdout",
     "output_type": "stream",
     "text": [
      "WARNING:tensorflow:Large dropout rate: 0.7 (>0.5). In TensorFlow 2.x, dropout() uses dropout rate instead of keep_prob. Please ensure that this is intended.\n"
     ]
    }
   ],
   "source": [
    "in_lay = Input((4097,1))\n",
    "\n",
    "\n",
    "l1 = Conv1D(4, kernel_size = 6, strides=1, padding = 'same',activation = lossfn)(in_lay)\n",
    "ml1 = MaxPooling1D(pool_size=2, strides=2)(l1)\n",
    "if BATCH: ml1 = BatchNormalization()(ml1)\n",
    "\n",
    "l1 = Conv1D(4, kernel_size = 5, strides=1, padding = 'same',activation = lossfn)(ml1)\n",
    "ml1 = MaxPooling1D(pool_size=2, strides=2)(l1)\n",
    "if BATCH: ml1 = BatchNormalization()(ml1)\n",
    "\n",
    "l1 = Conv1D(10, kernel_size = 4, strides=1, padding = 'same',activation = lossfn)(ml1)\n",
    "ml1 = MaxPooling1D(pool_size=2, strides=2)(l1)\n",
    "if BATCH: ml1 = BatchNormalization()(ml1)\n",
    "\n",
    "l1 = Conv1D(10, kernel_size = 4, strides=1, padding = 'same',activation = lossfn)(ml1)\n",
    "ml1 = MaxPooling1D(pool_size=2, strides=2)(l1)\n",
    "if BATCH: ml1 = BatchNormalization()(ml1)\n",
    "\n",
    "l1 = Conv1D(15, kernel_size = 4, strides=1, padding = 'same',activation = lossfn)(ml1)\n",
    "ml1 = MaxPooling1D(pool_size=2, strides=2)(l1)\n",
    "if BATCH: ml1 = BatchNormalization()(ml1)\n",
    "\n",
    "l1 = Conv1D(15, kernel_size = 4, strides=1, padding = 'same',activation = lossfn)(ml1)\n",
    "ml1 = MaxPooling1D(pool_size=2, strides=2)(l1)\n",
    "if BATCH: ml1 = BatchNormalization()(ml1)\n",
    "    \n",
    "l1 = Conv1D(20, kernel_size = 3, strides=1, padding = 'same',activation = lossfn)(ml1)\n",
    "ml1 = MaxPooling1D(pool_size=2, strides=2)(l1)\n",
    "if BATCH: ml1 = BatchNormalization()(ml1)\n",
    "\n",
    "flat = Flatten()(ml1)\n",
    "flat = Dropout(DROPRATE)(flat)\n",
    "\n",
    "flat = Dense(50)(flat)\n",
    "flat = Dropout(DROPRATE)(flat)\n",
    "\n",
    "flat = Dense(20)(flat)\n",
    "flat = Dropout(DROPRATE)(flat)\n",
    "\n",
    "flat = Dense(classes)(flat)\n",
    "\n",
    "flat = Softmax()(flat)\n",
    "\n",
    "model=Model(inputs = [in_lay], outputs = [flat])\n",
    "model.compile(optimizer = optim, \n",
    "              loss = 'categorical_crossentropy', \n",
    "              metrics=['accuracy'])\n",
    "#                                                                              , mae, categorical_accuracy])\n",
    "# model.summary()"
   ]
  },
  {
   "cell_type": "code",
   "execution_count": 12,
   "metadata": {
    "jupyter": {
     "source_hidden": true
    },
    "papermill": {
     "duration": 0.015296,
     "end_time": "2019-11-24T02:55:32.790052",
     "exception": false,
     "start_time": "2019-11-24T02:55:32.774756",
     "status": "completed"
    },
    "tags": []
   },
   "outputs": [],
   "source": [
    "from keras.callbacks import ModelCheckpoint, LearningRateScheduler, EarlyStopping, ReduceLROnPlateau\n",
    "weight_path = osp.join(chk_dir, \n",
    "                       \"{}_{}_weights.best.hdf5\".format('epilepsy', \n",
    "                                                        TEST_ID))\n",
    "\n",
    "checkpoint = ModelCheckpoint(weight_path, monitor='val_loss', verbose=1, \n",
    "                             save_best_only=True, mode='min', save_weights_only = True)\n",
    "\n",
    "\n",
    "reduceLROnPlat = ReduceLROnPlateau(monitor='val_loss', \n",
    "                                   factor=0.998, \n",
    "                                   patience=10, \n",
    "                                   verbose=1, \n",
    "                                   mode='auto', \n",
    "                                   min_delta=0.0001, \n",
    "                                   cooldown=5, \n",
    "                                   min_lr=0.0000001)\n",
    "early = EarlyStopping(monitor=\"val_loss\", \n",
    "                      mode=\"min\", \n",
    "                      patience=150)\n",
    "callbacks_list = [checkpoint, early, reduceLROnPlat, tb_callback]"
   ]
  },
  {
   "cell_type": "code",
   "execution_count": 13,
   "metadata": {
    "jupyter": {
     "source_hidden": true
    },
    "papermill": {
     "duration": 0.018544,
     "end_time": "2019-11-24T02:55:32.818324",
     "exception": false,
     "start_time": "2019-11-24T02:55:32.799780",
     "status": "completed"
    },
    "tags": []
   },
   "outputs": [],
   "source": [
    "DATA = np.array(train_X)\n",
    "LABEL = np.array(train_Y)\n",
    "\n",
    "DATA = DATA.reshape((DATA.shape[0], DATA.shape[1], 1))\n",
    "# LABEL = LABEL.reshape((LABEL.shape[0], LABEL.shape[1], 1))\n",
    "\n",
    "# DATA.shape, LABEL.shape"
   ]
  },
  {
   "cell_type": "code",
   "execution_count": 14,
   "metadata": {
    "jupyter": {
     "source_hidden": true
    },
    "papermill": {
     "duration": 28.609793,
     "end_time": "2019-11-24T02:56:01.437020",
     "exception": false,
     "start_time": "2019-11-24T02:55:32.827227",
     "status": "completed"
    },
    "tags": []
   },
   "outputs": [
    {
     "name": "stdout",
     "output_type": "stream",
     "text": [
      "\n",
      "Epoch 00001: val_loss improved from inf to 1.11260, saving model to checkpoints/epilepsy_cls:3_loss:relu_bnm:True_drop:0.7_epo:450_opt:adam_weights.best.hdf5\n",
      "\n",
      "Epoch 00002: val_loss improved from 1.11260 to 1.11129, saving model to checkpoints/epilepsy_cls:3_loss:relu_bnm:True_drop:0.7_epo:450_opt:adam_weights.best.hdf5\n"
     ]
    },
    {
     "name": "stdout",
     "output_type": "stream",
     "text": [
      "\n",
      "Epoch 00003: val_loss improved from 1.11129 to 1.09429, saving model to checkpoints/epilepsy_cls:3_loss:relu_bnm:True_drop:0.7_epo:450_opt:adam_weights.best.hdf5\n",
      "\n",
      "Epoch 00004: val_loss improved from 1.09429 to 1.06626, saving model to checkpoints/epilepsy_cls:3_loss:relu_bnm:True_drop:0.7_epo:450_opt:adam_weights.best.hdf5\n",
      "\n",
      "Epoch 00005: val_loss improved from 1.06626 to 1.03017, saving model to checkpoints/epilepsy_cls:3_loss:relu_bnm:True_drop:0.7_epo:450_opt:adam_weights.best.hdf5\n"
     ]
    },
    {
     "name": "stdout",
     "output_type": "stream",
     "text": [
      "\n",
      "Epoch 00006: val_loss improved from 1.03017 to 0.99266, saving model to checkpoints/epilepsy_cls:3_loss:relu_bnm:True_drop:0.7_epo:450_opt:adam_weights.best.hdf5\n",
      "\n",
      "Epoch 00007: val_loss improved from 0.99266 to 0.95458, saving model to checkpoints/epilepsy_cls:3_loss:relu_bnm:True_drop:0.7_epo:450_opt:adam_weights.best.hdf5\n",
      "\n",
      "Epoch 00008: val_loss improved from 0.95458 to 0.91325, saving model to checkpoints/epilepsy_cls:3_loss:relu_bnm:True_drop:0.7_epo:450_opt:adam_weights.best.hdf5\n"
     ]
    },
    {
     "name": "stdout",
     "output_type": "stream",
     "text": [
      "\n",
      "Epoch 00009: val_loss improved from 0.91325 to 0.87572, saving model to checkpoints/epilepsy_cls:3_loss:relu_bnm:True_drop:0.7_epo:450_opt:adam_weights.best.hdf5\n",
      "\n",
      "Epoch 00010: val_loss improved from 0.87572 to 0.84022, saving model to checkpoints/epilepsy_cls:3_loss:relu_bnm:True_drop:0.7_epo:450_opt:adam_weights.best.hdf5\n",
      "\n",
      "Epoch 00011: val_loss improved from 0.84022 to 0.80609, saving model to checkpoints/epilepsy_cls:3_loss:relu_bnm:True_drop:0.7_epo:450_opt:adam_weights.best.hdf5\n"
     ]
    },
    {
     "name": "stdout",
     "output_type": "stream",
     "text": [
      "\n",
      "Epoch 00012: val_loss improved from 0.80609 to 0.77653, saving model to checkpoints/epilepsy_cls:3_loss:relu_bnm:True_drop:0.7_epo:450_opt:adam_weights.best.hdf5\n",
      "\n",
      "Epoch 00013: val_loss improved from 0.77653 to 0.75334, saving model to checkpoints/epilepsy_cls:3_loss:relu_bnm:True_drop:0.7_epo:450_opt:adam_weights.best.hdf5\n",
      "\n",
      "Epoch 00014: val_loss improved from 0.75334 to 0.73916, saving model to checkpoints/epilepsy_cls:3_loss:relu_bnm:True_drop:0.7_epo:450_opt:adam_weights.best.hdf5\n"
     ]
    },
    {
     "name": "stdout",
     "output_type": "stream",
     "text": [
      "\n",
      "Epoch 00015: val_loss improved from 0.73916 to 0.73117, saving model to checkpoints/epilepsy_cls:3_loss:relu_bnm:True_drop:0.7_epo:450_opt:adam_weights.best.hdf5\n",
      "\n",
      "Epoch 00016: val_loss improved from 0.73117 to 0.72803, saving model to checkpoints/epilepsy_cls:3_loss:relu_bnm:True_drop:0.7_epo:450_opt:adam_weights.best.hdf5\n",
      "\n",
      "Epoch 00017: val_loss improved from 0.72803 to 0.72605, saving model to checkpoints/epilepsy_cls:3_loss:relu_bnm:True_drop:0.7_epo:450_opt:adam_weights.best.hdf5\n"
     ]
    },
    {
     "name": "stdout",
     "output_type": "stream",
     "text": [
      "\n",
      "Epoch 00018: val_loss did not improve from 0.72605\n",
      "\n",
      "Epoch 00019: val_loss did not improve from 0.72605\n",
      "\n",
      "Epoch 00020: val_loss did not improve from 0.72605\n"
     ]
    },
    {
     "name": "stdout",
     "output_type": "stream",
     "text": [
      "\n",
      "Epoch 00021: val_loss did not improve from 0.72605\n",
      "\n",
      "Epoch 00022: val_loss did not improve from 0.72605\n",
      "\n",
      "Epoch 00023: val_loss did not improve from 0.72605\n",
      "\n",
      "Epoch 00024: val_loss did not improve from 0.72605\n"
     ]
    },
    {
     "name": "stdout",
     "output_type": "stream",
     "text": [
      "\n",
      "Epoch 00025: val_loss did not improve from 0.72605\n",
      "\n",
      "Epoch 00026: val_loss did not improve from 0.72605\n",
      "\n",
      "Epoch 00027: val_loss did not improve from 0.72605\n",
      "\n",
      "Epoch 00027: ReduceLROnPlateau reducing learning rate to 0.0009980000474024565.\n"
     ]
    },
    {
     "name": "stdout",
     "output_type": "stream",
     "text": [
      "\n",
      "Epoch 00028: val_loss did not improve from 0.72605\n",
      "\n",
      "Epoch 00029: val_loss did not improve from 0.72605\n",
      "\n",
      "Epoch 00030: val_loss did not improve from 0.72605\n",
      "\n",
      "Epoch 00031: val_loss did not improve from 0.72605\n"
     ]
    },
    {
     "name": "stdout",
     "output_type": "stream",
     "text": [
      "\n",
      "Epoch 00032: val_loss did not improve from 0.72605\n",
      "\n",
      "Epoch 00033: val_loss did not improve from 0.72605\n",
      "\n",
      "Epoch 00034: val_loss did not improve from 0.72605\n"
     ]
    },
    {
     "name": "stdout",
     "output_type": "stream",
     "text": [
      "\n",
      "Epoch 00035: val_loss did not improve from 0.72605\n",
      "\n",
      "Epoch 00036: val_loss did not improve from 0.72605\n",
      "\n",
      "Epoch 00037: val_loss did not improve from 0.72605\n",
      "\n",
      "Epoch 00038: val_loss did not improve from 0.72605\n"
     ]
    },
    {
     "name": "stdout",
     "output_type": "stream",
     "text": [
      "\n",
      "Epoch 00039: val_loss did not improve from 0.72605\n",
      "\n",
      "Epoch 00040: val_loss did not improve from 0.72605\n",
      "\n",
      "Epoch 00041: val_loss did not improve from 0.72605\n",
      "\n",
      "Epoch 00041: ReduceLROnPlateau reducing learning rate to 0.0009960040322039277.\n",
      "\n",
      "Epoch 00042: val_loss did not improve from 0.72605\n"
     ]
    },
    {
     "name": "stdout",
     "output_type": "stream",
     "text": [
      "\n",
      "Epoch 00043: val_loss improved from 0.72605 to 0.71631, saving model to checkpoints/epilepsy_cls:3_loss:relu_bnm:True_drop:0.7_epo:450_opt:adam_weights.best.hdf5\n",
      "\n",
      "Epoch 00044: val_loss improved from 0.71631 to 0.69441, saving model to checkpoints/epilepsy_cls:3_loss:relu_bnm:True_drop:0.7_epo:450_opt:adam_weights.best.hdf5\n",
      "\n",
      "Epoch 00045: val_loss improved from 0.69441 to 0.67525, saving model to checkpoints/epilepsy_cls:3_loss:relu_bnm:True_drop:0.7_epo:450_opt:adam_weights.best.hdf5\n"
     ]
    },
    {
     "name": "stdout",
     "output_type": "stream",
     "text": [
      "\n",
      "Epoch 00046: val_loss improved from 0.67525 to 0.65877, saving model to checkpoints/epilepsy_cls:3_loss:relu_bnm:True_drop:0.7_epo:450_opt:adam_weights.best.hdf5\n",
      "\n",
      "Epoch 00047: val_loss improved from 0.65877 to 0.63751, saving model to checkpoints/epilepsy_cls:3_loss:relu_bnm:True_drop:0.7_epo:450_opt:adam_weights.best.hdf5\n",
      "\n",
      "Epoch 00048: val_loss improved from 0.63751 to 0.61413, saving model to checkpoints/epilepsy_cls:3_loss:relu_bnm:True_drop:0.7_epo:450_opt:adam_weights.best.hdf5\n"
     ]
    },
    {
     "name": "stdout",
     "output_type": "stream",
     "text": [
      "\n",
      "Epoch 00049: val_loss improved from 0.61413 to 0.60027, saving model to checkpoints/epilepsy_cls:3_loss:relu_bnm:True_drop:0.7_epo:450_opt:adam_weights.best.hdf5\n",
      "\n",
      "Epoch 00050: val_loss improved from 0.60027 to 0.58885, saving model to checkpoints/epilepsy_cls:3_loss:relu_bnm:True_drop:0.7_epo:450_opt:adam_weights.best.hdf5\n",
      "\n",
      "Epoch 00051: val_loss improved from 0.58885 to 0.57154, saving model to checkpoints/epilepsy_cls:3_loss:relu_bnm:True_drop:0.7_epo:450_opt:adam_weights.best.hdf5\n"
     ]
    },
    {
     "name": "stdout",
     "output_type": "stream",
     "text": [
      "\n",
      "Epoch 00052: val_loss improved from 0.57154 to 0.57089, saving model to checkpoints/epilepsy_cls:3_loss:relu_bnm:True_drop:0.7_epo:450_opt:adam_weights.best.hdf5\n",
      "\n",
      "Epoch 00053: val_loss did not improve from 0.57089\n",
      "\n",
      "Epoch 00054: val_loss did not improve from 0.57089\n"
     ]
    },
    {
     "name": "stdout",
     "output_type": "stream",
     "text": [
      "\n",
      "Epoch 00055: val_loss improved from 0.57089 to 0.56900, saving model to checkpoints/epilepsy_cls:3_loss:relu_bnm:True_drop:0.7_epo:450_opt:adam_weights.best.hdf5\n",
      "\n",
      "Epoch 00056: val_loss did not improve from 0.56900\n",
      "\n",
      "Epoch 00057: val_loss improved from 0.56900 to 0.56508, saving model to checkpoints/epilepsy_cls:3_loss:relu_bnm:True_drop:0.7_epo:450_opt:adam_weights.best.hdf5\n"
     ]
    },
    {
     "name": "stdout",
     "output_type": "stream",
     "text": [
      "\n",
      "Epoch 00058: val_loss did not improve from 0.56508\n",
      "\n",
      "Epoch 00059: val_loss did not improve from 0.56508\n",
      "\n",
      "Epoch 00060: val_loss did not improve from 0.56508\n",
      "\n",
      "Epoch 00061: val_loss did not improve from 0.56508\n"
     ]
    },
    {
     "name": "stdout",
     "output_type": "stream",
     "text": [
      "\n",
      "Epoch 00062: val_loss improved from 0.56508 to 0.56068, saving model to checkpoints/epilepsy_cls:3_loss:relu_bnm:True_drop:0.7_epo:450_opt:adam_weights.best.hdf5\n",
      "\n",
      "Epoch 00063: val_loss improved from 0.56068 to 0.54145, saving model to checkpoints/epilepsy_cls:3_loss:relu_bnm:True_drop:0.7_epo:450_opt:adam_weights.best.hdf5\n"
     ]
    },
    {
     "name": "stdout",
     "output_type": "stream",
     "text": [
      "\n",
      "Epoch 00064: val_loss improved from 0.54145 to 0.53243, saving model to checkpoints/epilepsy_cls:3_loss:relu_bnm:True_drop:0.7_epo:450_opt:adam_weights.best.hdf5\n",
      "\n",
      "Epoch 00065: val_loss improved from 0.53243 to 0.51379, saving model to checkpoints/epilepsy_cls:3_loss:relu_bnm:True_drop:0.7_epo:450_opt:adam_weights.best.hdf5\n",
      "\n",
      "Epoch 00066: val_loss improved from 0.51379 to 0.48505, saving model to checkpoints/epilepsy_cls:3_loss:relu_bnm:True_drop:0.7_epo:450_opt:adam_weights.best.hdf5\n"
     ]
    },
    {
     "name": "stdout",
     "output_type": "stream",
     "text": [
      "\n",
      "Epoch 00067: val_loss improved from 0.48505 to 0.46337, saving model to checkpoints/epilepsy_cls:3_loss:relu_bnm:True_drop:0.7_epo:450_opt:adam_weights.best.hdf5\n",
      "\n",
      "Epoch 00068: val_loss improved from 0.46337 to 0.45518, saving model to checkpoints/epilepsy_cls:3_loss:relu_bnm:True_drop:0.7_epo:450_opt:adam_weights.best.hdf5\n",
      "\n",
      "Epoch 00069: val_loss improved from 0.45518 to 0.43529, saving model to checkpoints/epilepsy_cls:3_loss:relu_bnm:True_drop:0.7_epo:450_opt:adam_weights.best.hdf5\n"
     ]
    },
    {
     "name": "stdout",
     "output_type": "stream",
     "text": [
      "\n",
      "Epoch 00070: val_loss improved from 0.43529 to 0.40246, saving model to checkpoints/epilepsy_cls:3_loss:relu_bnm:True_drop:0.7_epo:450_opt:adam_weights.best.hdf5\n",
      "\n",
      "Epoch 00071: val_loss improved from 0.40246 to 0.38259, saving model to checkpoints/epilepsy_cls:3_loss:relu_bnm:True_drop:0.7_epo:450_opt:adam_weights.best.hdf5\n",
      "\n",
      "Epoch 00072: val_loss improved from 0.38259 to 0.36324, saving model to checkpoints/epilepsy_cls:3_loss:relu_bnm:True_drop:0.7_epo:450_opt:adam_weights.best.hdf5\n"
     ]
    },
    {
     "name": "stdout",
     "output_type": "stream",
     "text": [
      "\n",
      "Epoch 00073: val_loss improved from 0.36324 to 0.33900, saving model to checkpoints/epilepsy_cls:3_loss:relu_bnm:True_drop:0.7_epo:450_opt:adam_weights.best.hdf5\n",
      "\n",
      "Epoch 00074: val_loss improved from 0.33900 to 0.31424, saving model to checkpoints/epilepsy_cls:3_loss:relu_bnm:True_drop:0.7_epo:450_opt:adam_weights.best.hdf5\n",
      "\n",
      "Epoch 00075: val_loss improved from 0.31424 to 0.28617, saving model to checkpoints/epilepsy_cls:3_loss:relu_bnm:True_drop:0.7_epo:450_opt:adam_weights.best.hdf5\n"
     ]
    },
    {
     "name": "stdout",
     "output_type": "stream",
     "text": [
      "\n",
      "Epoch 00076: val_loss improved from 0.28617 to 0.25203, saving model to checkpoints/epilepsy_cls:3_loss:relu_bnm:True_drop:0.7_epo:450_opt:adam_weights.best.hdf5\n",
      "\n",
      "Epoch 00077: val_loss improved from 0.25203 to 0.22497, saving model to checkpoints/epilepsy_cls:3_loss:relu_bnm:True_drop:0.7_epo:450_opt:adam_weights.best.hdf5\n",
      "\n",
      "Epoch 00078: val_loss improved from 0.22497 to 0.20757, saving model to checkpoints/epilepsy_cls:3_loss:relu_bnm:True_drop:0.7_epo:450_opt:adam_weights.best.hdf5\n"
     ]
    },
    {
     "name": "stdout",
     "output_type": "stream",
     "text": [
      "\n",
      "Epoch 00079: val_loss improved from 0.20757 to 0.20089, saving model to checkpoints/epilepsy_cls:3_loss:relu_bnm:True_drop:0.7_epo:450_opt:adam_weights.best.hdf5\n",
      "\n",
      "Epoch 00080: val_loss improved from 0.20089 to 0.19978, saving model to checkpoints/epilepsy_cls:3_loss:relu_bnm:True_drop:0.7_epo:450_opt:adam_weights.best.hdf5\n",
      "\n",
      "Epoch 00081: val_loss improved from 0.19978 to 0.19829, saving model to checkpoints/epilepsy_cls:3_loss:relu_bnm:True_drop:0.7_epo:450_opt:adam_weights.best.hdf5\n"
     ]
    },
    {
     "name": "stdout",
     "output_type": "stream",
     "text": [
      "\n",
      "Epoch 00082: val_loss improved from 0.19829 to 0.19131, saving model to checkpoints/epilepsy_cls:3_loss:relu_bnm:True_drop:0.7_epo:450_opt:adam_weights.best.hdf5\n",
      "\n",
      "Epoch 00083: val_loss did not improve from 0.19131\n",
      "\n",
      "Epoch 00084: val_loss did not improve from 0.19131\n"
     ]
    },
    {
     "name": "stdout",
     "output_type": "stream",
     "text": [
      "\n",
      "Epoch 00085: val_loss did not improve from 0.19131\n",
      "\n",
      "Epoch 00086: val_loss improved from 0.19131 to 0.18264, saving model to checkpoints/epilepsy_cls:3_loss:relu_bnm:True_drop:0.7_epo:450_opt:adam_weights.best.hdf5\n",
      "\n",
      "Epoch 00087: val_loss improved from 0.18264 to 0.17662, saving model to checkpoints/epilepsy_cls:3_loss:relu_bnm:True_drop:0.7_epo:450_opt:adam_weights.best.hdf5\n"
     ]
    },
    {
     "name": "stdout",
     "output_type": "stream",
     "text": [
      "\n",
      "Epoch 00088: val_loss improved from 0.17662 to 0.17298, saving model to checkpoints/epilepsy_cls:3_loss:relu_bnm:True_drop:0.7_epo:450_opt:adam_weights.best.hdf5\n",
      "\n",
      "Epoch 00089: val_loss did not improve from 0.17298\n",
      "\n",
      "Epoch 00090: val_loss did not improve from 0.17298\n"
     ]
    },
    {
     "name": "stdout",
     "output_type": "stream",
     "text": [
      "\n",
      "Epoch 00091: val_loss did not improve from 0.17298\n",
      "\n",
      "Epoch 00092: val_loss did not improve from 0.17298\n",
      "\n",
      "Epoch 00093: val_loss did not improve from 0.17298\n",
      "\n",
      "Epoch 00094: val_loss did not improve from 0.17298\n"
     ]
    },
    {
     "name": "stdout",
     "output_type": "stream",
     "text": [
      "\n",
      "Epoch 00095: val_loss did not improve from 0.17298\n",
      "\n",
      "Epoch 00096: val_loss did not improve from 0.17298\n",
      "\n",
      "Epoch 00097: val_loss did not improve from 0.17298\n",
      "\n",
      "Epoch 00098: val_loss did not improve from 0.17298\n",
      "\n",
      "Epoch 00098: ReduceLROnPlateau reducing learning rate to 0.000994011967210099.\n"
     ]
    },
    {
     "name": "stdout",
     "output_type": "stream",
     "text": [
      "\n",
      "Epoch 00099: val_loss did not improve from 0.17298\n",
      "\n",
      "Epoch 00100: val_loss did not improve from 0.17298\n",
      "\n",
      "Epoch 00101: val_loss did not improve from 0.17298\n",
      "\n",
      "Epoch 00102: val_loss did not improve from 0.17298\n"
     ]
    },
    {
     "name": "stdout",
     "output_type": "stream",
     "text": [
      "\n",
      "Epoch 00103: val_loss did not improve from 0.17298\n",
      "\n",
      "Epoch 00104: val_loss did not improve from 0.17298\n",
      "\n",
      "Epoch 00105: val_loss did not improve from 0.17298\n",
      "\n",
      "Epoch 00106: val_loss did not improve from 0.17298\n"
     ]
    },
    {
     "name": "stdout",
     "output_type": "stream",
     "text": [
      "\n",
      "Epoch 00107: val_loss did not improve from 0.17298\n",
      "\n",
      "Epoch 00108: val_loss did not improve from 0.17298\n",
      "\n",
      "Epoch 00109: val_loss did not improve from 0.17298\n",
      "\n",
      "Epoch 00110: val_loss improved from 0.17298 to 0.14805, saving model to checkpoints/epilepsy_cls:3_loss:relu_bnm:True_drop:0.7_epo:450_opt:adam_weights.best.hdf5\n"
     ]
    },
    {
     "name": "stdout",
     "output_type": "stream",
     "text": [
      "\n",
      "Epoch 00111: val_loss improved from 0.14805 to 0.10974, saving model to checkpoints/epilepsy_cls:3_loss:relu_bnm:True_drop:0.7_epo:450_opt:adam_weights.best.hdf5\n",
      "\n",
      "Epoch 00112: val_loss improved from 0.10974 to 0.09194, saving model to checkpoints/epilepsy_cls:3_loss:relu_bnm:True_drop:0.7_epo:450_opt:adam_weights.best.hdf5\n",
      "\n",
      "Epoch 00113: val_loss improved from 0.09194 to 0.08359, saving model to checkpoints/epilepsy_cls:3_loss:relu_bnm:True_drop:0.7_epo:450_opt:adam_weights.best.hdf5\n"
     ]
    },
    {
     "name": "stdout",
     "output_type": "stream",
     "text": [
      "\n",
      "Epoch 00114: val_loss improved from 0.08359 to 0.07633, saving model to checkpoints/epilepsy_cls:3_loss:relu_bnm:True_drop:0.7_epo:450_opt:adam_weights.best.hdf5\n",
      "\n",
      "Epoch 00115: val_loss improved from 0.07633 to 0.07491, saving model to checkpoints/epilepsy_cls:3_loss:relu_bnm:True_drop:0.7_epo:450_opt:adam_weights.best.hdf5\n",
      "\n",
      "Epoch 00116: val_loss did not improve from 0.07491\n"
     ]
    },
    {
     "name": "stdout",
     "output_type": "stream",
     "text": [
      "\n",
      "Epoch 00117: val_loss did not improve from 0.07491\n",
      "\n",
      "Epoch 00118: val_loss did not improve from 0.07491\n",
      "\n",
      "Epoch 00119: val_loss did not improve from 0.07491\n",
      "\n",
      "Epoch 00120: val_loss did not improve from 0.07491\n"
     ]
    },
    {
     "name": "stdout",
     "output_type": "stream",
     "text": [
      "\n",
      "Epoch 00121: val_loss did not improve from 0.07491\n",
      "\n",
      "Epoch 00122: val_loss did not improve from 0.07491\n",
      "\n",
      "Epoch 00123: val_loss did not improve from 0.07491\n",
      "\n",
      "Epoch 00124: val_loss did not improve from 0.07491\n"
     ]
    },
    {
     "name": "stdout",
     "output_type": "stream",
     "text": [
      "\n",
      "Epoch 00125: val_loss did not improve from 0.07491\n",
      "\n",
      "Epoch 00125: ReduceLROnPlateau reducing learning rate to 0.000992023968603462.\n",
      "\n",
      "Epoch 00126: val_loss did not improve from 0.07491\n",
      "\n",
      "Epoch 00127: val_loss did not improve from 0.07491\n"
     ]
    },
    {
     "name": "stdout",
     "output_type": "stream",
     "text": [
      "\n",
      "Epoch 00128: val_loss did not improve from 0.07491\n",
      "\n",
      "Epoch 00129: val_loss did not improve from 0.07491\n",
      "\n",
      "Epoch 00130: val_loss did not improve from 0.07491\n",
      "\n",
      "Epoch 00131: val_loss did not improve from 0.07491\n"
     ]
    },
    {
     "name": "stdout",
     "output_type": "stream",
     "text": [
      "\n",
      "Epoch 00132: val_loss did not improve from 0.07491\n",
      "\n",
      "Epoch 00133: val_loss did not improve from 0.07491\n",
      "\n",
      "Epoch 00134: val_loss did not improve from 0.07491\n",
      "\n",
      "Epoch 00135: val_loss did not improve from 0.07491\n"
     ]
    },
    {
     "name": "stdout",
     "output_type": "stream",
     "text": [
      "\n",
      "Epoch 00136: val_loss did not improve from 0.07491\n",
      "\n",
      "Epoch 00137: val_loss did not improve from 0.07491\n",
      "\n",
      "Epoch 00138: val_loss did not improve from 0.07491\n",
      "\n",
      "Epoch 00139: val_loss did not improve from 0.07491\n",
      "\n",
      "Epoch 00139: ReduceLROnPlateau reducing learning rate to 0.000990039920201525.\n"
     ]
    },
    {
     "name": "stdout",
     "output_type": "stream",
     "text": [
      "\n",
      "Epoch 00140: val_loss did not improve from 0.07491\n",
      "\n",
      "Epoch 00141: val_loss did not improve from 0.07491\n",
      "\n",
      "Epoch 00142: val_loss did not improve from 0.07491\n",
      "\n",
      "Epoch 00143: val_loss did not improve from 0.07491\n"
     ]
    },
    {
     "name": "stdout",
     "output_type": "stream",
     "text": [
      "\n",
      "Epoch 00144: val_loss did not improve from 0.07491\n",
      "\n",
      "Epoch 00145: val_loss did not improve from 0.07491\n",
      "\n",
      "Epoch 00146: val_loss did not improve from 0.07491\n",
      "\n",
      "Epoch 00147: val_loss did not improve from 0.07491\n"
     ]
    },
    {
     "name": "stdout",
     "output_type": "stream",
     "text": [
      "\n",
      "Epoch 00148: val_loss did not improve from 0.07491\n",
      "\n",
      "Epoch 00149: val_loss did not improve from 0.07491\n",
      "\n",
      "Epoch 00150: val_loss did not improve from 0.07491\n",
      "\n",
      "Epoch 00151: val_loss did not improve from 0.07491\n"
     ]
    },
    {
     "name": "stdout",
     "output_type": "stream",
     "text": [
      "\n",
      "Epoch 00152: val_loss did not improve from 0.07491\n",
      "\n",
      "Epoch 00153: val_loss did not improve from 0.07491\n",
      "\n",
      "Epoch 00153: ReduceLROnPlateau reducing learning rate to 0.0009880598220042885.\n",
      "\n",
      "Epoch 00154: val_loss did not improve from 0.07491\n",
      "\n",
      "Epoch 00155: val_loss improved from 0.07491 to 0.05965, saving model to checkpoints/epilepsy_cls:3_loss:relu_bnm:True_drop:0.7_epo:450_opt:adam_weights.best.hdf5\n"
     ]
    },
    {
     "name": "stdout",
     "output_type": "stream",
     "text": [
      "\n",
      "Epoch 00156: val_loss improved from 0.05965 to 0.05489, saving model to checkpoints/epilepsy_cls:3_loss:relu_bnm:True_drop:0.7_epo:450_opt:adam_weights.best.hdf5\n",
      "\n",
      "Epoch 00157: val_loss did not improve from 0.05489\n",
      "\n",
      "Epoch 00158: val_loss did not improve from 0.05489\n"
     ]
    },
    {
     "name": "stdout",
     "output_type": "stream",
     "text": [
      "\n",
      "Epoch 00159: val_loss did not improve from 0.05489\n",
      "\n",
      "Epoch 00160: val_loss did not improve from 0.05489\n",
      "\n",
      "Epoch 00161: val_loss did not improve from 0.05489\n",
      "\n",
      "Epoch 00162: val_loss did not improve from 0.05489\n"
     ]
    },
    {
     "name": "stdout",
     "output_type": "stream",
     "text": [
      "\n",
      "Epoch 00163: val_loss did not improve from 0.05489\n",
      "\n",
      "Epoch 00164: val_loss did not improve from 0.05489\n",
      "\n",
      "Epoch 00165: val_loss did not improve from 0.05489\n",
      "\n",
      "Epoch 00166: val_loss did not improve from 0.05489\n"
     ]
    },
    {
     "name": "stdout",
     "output_type": "stream",
     "text": [
      "\n",
      "Epoch 00167: val_loss did not improve from 0.05489\n",
      "\n",
      "Epoch 00167: ReduceLROnPlateau reducing learning rate to 0.000986083674011752.\n",
      "\n",
      "Epoch 00168: val_loss did not improve from 0.05489\n",
      "\n",
      "Epoch 00169: val_loss did not improve from 0.05489\n",
      "\n",
      "Epoch 00170: val_loss did not improve from 0.05489\n"
     ]
    },
    {
     "name": "stdout",
     "output_type": "stream",
     "text": [
      "\n",
      "Epoch 00171: val_loss did not improve from 0.05489\n",
      "\n",
      "Epoch 00172: val_loss did not improve from 0.05489\n",
      "\n",
      "Epoch 00173: val_loss did not improve from 0.05489\n",
      "\n",
      "Epoch 00174: val_loss did not improve from 0.05489\n"
     ]
    },
    {
     "name": "stdout",
     "output_type": "stream",
     "text": [
      "\n",
      "Epoch 00175: val_loss did not improve from 0.05489\n",
      "\n",
      "Epoch 00176: val_loss did not improve from 0.05489\n",
      "\n",
      "Epoch 00177: val_loss did not improve from 0.05489\n",
      "\n",
      "Epoch 00178: val_loss did not improve from 0.05489\n"
     ]
    },
    {
     "name": "stdout",
     "output_type": "stream",
     "text": [
      "\n",
      "Epoch 00179: val_loss did not improve from 0.05489\n",
      "\n",
      "Epoch 00180: val_loss did not improve from 0.05489\n",
      "\n",
      "Epoch 00181: val_loss did not improve from 0.05489\n",
      "\n",
      "Epoch 00181: ReduceLROnPlateau reducing learning rate to 0.0009841114762239157.\n",
      "\n",
      "Epoch 00182: val_loss did not improve from 0.05489\n"
     ]
    },
    {
     "name": "stdout",
     "output_type": "stream",
     "text": [
      "\n",
      "Epoch 00183: val_loss did not improve from 0.05489\n",
      "\n",
      "Epoch 00184: val_loss did not improve from 0.05489\n",
      "\n",
      "Epoch 00185: val_loss did not improve from 0.05489\n",
      "\n",
      "Epoch 00186: val_loss did not improve from 0.05489\n"
     ]
    },
    {
     "name": "stdout",
     "output_type": "stream",
     "text": [
      "\n",
      "Epoch 00187: val_loss did not improve from 0.05489\n",
      "\n",
      "Epoch 00188: val_loss did not improve from 0.05489\n",
      "\n",
      "Epoch 00189: val_loss did not improve from 0.05489\n",
      "\n",
      "Epoch 00190: val_loss did not improve from 0.05489\n"
     ]
    },
    {
     "name": "stdout",
     "output_type": "stream",
     "text": [
      "\n",
      "Epoch 00191: val_loss did not improve from 0.05489\n",
      "\n",
      "Epoch 00192: val_loss did not improve from 0.05489\n",
      "\n",
      "Epoch 00193: val_loss did not improve from 0.05489\n",
      "\n",
      "Epoch 00194: val_loss did not improve from 0.05489\n"
     ]
    },
    {
     "name": "stdout",
     "output_type": "stream",
     "text": [
      "\n",
      "Epoch 00195: val_loss did not improve from 0.05489\n",
      "\n",
      "Epoch 00195: ReduceLROnPlateau reducing learning rate to 0.00098214322864078.\n",
      "\n",
      "Epoch 00196: val_loss did not improve from 0.05489\n",
      "\n",
      "Epoch 00197: val_loss did not improve from 0.05489\n",
      "\n",
      "Epoch 00198: val_loss did not improve from 0.05489\n"
     ]
    },
    {
     "name": "stdout",
     "output_type": "stream",
     "text": [
      "\n",
      "Epoch 00199: val_loss did not improve from 0.05489\n",
      "\n",
      "Epoch 00200: val_loss did not improve from 0.05489\n",
      "\n",
      "Epoch 00201: val_loss did not improve from 0.05489\n"
     ]
    },
    {
     "name": "stdout",
     "output_type": "stream",
     "text": [
      "\n",
      "Epoch 00202: val_loss did not improve from 0.05489\n",
      "\n",
      "Epoch 00203: val_loss did not improve from 0.05489\n",
      "\n",
      "Epoch 00204: val_loss did not improve from 0.05489\n",
      "\n",
      "Epoch 00205: val_loss did not improve from 0.05489\n"
     ]
    },
    {
     "name": "stdout",
     "output_type": "stream",
     "text": [
      "\n",
      "Epoch 00206: val_loss did not improve from 0.05489\n",
      "\n",
      "Epoch 00207: val_loss did not improve from 0.05489\n",
      "\n",
      "Epoch 00208: val_loss did not improve from 0.05489\n",
      "\n",
      "Epoch 00209: val_loss did not improve from 0.05489\n",
      "\n",
      "Epoch 00209: ReduceLROnPlateau reducing learning rate to 0.000980178931262344.\n"
     ]
    },
    {
     "name": "stdout",
     "output_type": "stream",
     "text": [
      "\n",
      "Epoch 00210: val_loss did not improve from 0.05489\n",
      "\n",
      "Epoch 00211: val_loss did not improve from 0.05489\n",
      "\n",
      "Epoch 00212: val_loss did not improve from 0.05489\n",
      "\n",
      "Epoch 00213: val_loss did not improve from 0.05489\n"
     ]
    },
    {
     "name": "stdout",
     "output_type": "stream",
     "text": [
      "\n",
      "Epoch 00214: val_loss did not improve from 0.05489\n",
      "\n",
      "Epoch 00215: val_loss did not improve from 0.05489\n",
      "\n",
      "Epoch 00216: val_loss did not improve from 0.05489\n",
      "\n",
      "Epoch 00217: val_loss did not improve from 0.05489\n"
     ]
    },
    {
     "name": "stdout",
     "output_type": "stream",
     "text": [
      "\n",
      "Epoch 00218: val_loss did not improve from 0.05489\n",
      "\n",
      "Epoch 00219: val_loss did not improve from 0.05489\n",
      "\n",
      "Epoch 00220: val_loss did not improve from 0.05489\n",
      "\n",
      "Epoch 00221: val_loss did not improve from 0.05489\n"
     ]
    },
    {
     "name": "stdout",
     "output_type": "stream",
     "text": [
      "\n",
      "Epoch 00222: val_loss did not improve from 0.05489\n",
      "\n",
      "Epoch 00223: val_loss did not improve from 0.05489\n",
      "\n",
      "Epoch 00223: ReduceLROnPlateau reducing learning rate to 0.0009782185840886085.\n",
      "\n",
      "Epoch 00224: val_loss did not improve from 0.05489\n",
      "\n",
      "Epoch 00225: val_loss did not improve from 0.05489\n"
     ]
    },
    {
     "name": "stdout",
     "output_type": "stream",
     "text": [
      "\n",
      "Epoch 00226: val_loss did not improve from 0.05489\n",
      "\n",
      "Epoch 00227: val_loss did not improve from 0.05489\n",
      "\n",
      "Epoch 00228: val_loss did not improve from 0.05489\n",
      "\n",
      "Epoch 00229: val_loss did not improve from 0.05489\n"
     ]
    },
    {
     "name": "stdout",
     "output_type": "stream",
     "text": [
      "\n",
      "Epoch 00230: val_loss did not improve from 0.05489\n",
      "\n",
      "Epoch 00231: val_loss did not improve from 0.05489\n",
      "\n",
      "Epoch 00232: val_loss did not improve from 0.05489\n",
      "\n",
      "Epoch 00233: val_loss did not improve from 0.05489\n"
     ]
    },
    {
     "name": "stdout",
     "output_type": "stream",
     "text": [
      "\n",
      "Epoch 00234: val_loss did not improve from 0.05489\n",
      "\n",
      "Epoch 00235: val_loss did not improve from 0.05489\n",
      "\n",
      "Epoch 00236: val_loss did not improve from 0.05489\n",
      "\n",
      "Epoch 00237: val_loss did not improve from 0.05489\n",
      "\n",
      "Epoch 00237: ReduceLROnPlateau reducing learning rate to 0.0009762621871195734.\n"
     ]
    },
    {
     "name": "stdout",
     "output_type": "stream",
     "text": [
      "\n",
      "Epoch 00238: val_loss did not improve from 0.05489\n",
      "\n",
      "Epoch 00239: val_loss did not improve from 0.05489\n",
      "\n",
      "Epoch 00240: val_loss did not improve from 0.05489\n",
      "\n",
      "Epoch 00241: val_loss did not improve from 0.05489\n"
     ]
    },
    {
     "name": "stdout",
     "output_type": "stream",
     "text": [
      "\n",
      "Epoch 00242: val_loss did not improve from 0.05489\n",
      "\n",
      "Epoch 00243: val_loss did not improve from 0.05489\n",
      "\n",
      "Epoch 00244: val_loss did not improve from 0.05489\n",
      "\n",
      "Epoch 00245: val_loss did not improve from 0.05489\n"
     ]
    },
    {
     "name": "stdout",
     "output_type": "stream",
     "text": [
      "\n",
      "Epoch 00246: val_loss did not improve from 0.05489\n",
      "\n",
      "Epoch 00247: val_loss did not improve from 0.05489\n",
      "\n",
      "Epoch 00248: val_loss did not improve from 0.05489\n",
      "\n",
      "Epoch 00249: val_loss did not improve from 0.05489\n"
     ]
    },
    {
     "name": "stdout",
     "output_type": "stream",
     "text": [
      "\n",
      "Epoch 00250: val_loss did not improve from 0.05489\n",
      "\n",
      "Epoch 00251: val_loss did not improve from 0.05489\n",
      "\n",
      "Epoch 00251: ReduceLROnPlateau reducing learning rate to 0.0009743096822639927.\n",
      "\n",
      "Epoch 00252: val_loss did not improve from 0.05489\n",
      "\n",
      "Epoch 00253: val_loss did not improve from 0.05489\n"
     ]
    },
    {
     "name": "stdout",
     "output_type": "stream",
     "text": [
      "\n",
      "Epoch 00254: val_loss did not improve from 0.05489\n",
      "\n",
      "Epoch 00255: val_loss did not improve from 0.05489\n",
      "\n",
      "Epoch 00256: val_loss did not improve from 0.05489\n",
      "\n",
      "Epoch 00257: val_loss did not improve from 0.05489\n"
     ]
    },
    {
     "name": "stdout",
     "output_type": "stream",
     "text": [
      "\n",
      "Epoch 00258: val_loss did not improve from 0.05489\n",
      "\n",
      "Epoch 00259: val_loss did not improve from 0.05489\n",
      "\n",
      "Epoch 00260: val_loss did not improve from 0.05489\n",
      "\n",
      "Epoch 00261: val_loss did not improve from 0.05489\n"
     ]
    },
    {
     "name": "stdout",
     "output_type": "stream",
     "text": [
      "\n",
      "Epoch 00262: val_loss did not improve from 0.05489\n",
      "\n",
      "Epoch 00263: val_loss did not improve from 0.05489\n",
      "\n",
      "Epoch 00264: val_loss did not improve from 0.05489\n",
      "\n",
      "Epoch 00265: val_loss did not improve from 0.05489\n",
      "\n",
      "Epoch 00265: ReduceLROnPlateau reducing learning rate to 0.0009723610695218667.\n"
     ]
    },
    {
     "name": "stdout",
     "output_type": "stream",
     "text": [
      "\n",
      "Epoch 00266: val_loss did not improve from 0.05489\n",
      "\n",
      "Epoch 00267: val_loss did not improve from 0.05489\n",
      "\n",
      "Epoch 00268: val_loss did not improve from 0.05489\n",
      "\n",
      "Epoch 00269: val_loss did not improve from 0.05489\n"
     ]
    },
    {
     "name": "stdout",
     "output_type": "stream",
     "text": [
      "\n",
      "Epoch 00270: val_loss did not improve from 0.05489\n",
      "\n",
      "Epoch 00271: val_loss did not improve from 0.05489\n",
      "\n",
      "Epoch 00272: val_loss did not improve from 0.05489\n",
      "\n",
      "Epoch 00273: val_loss did not improve from 0.05489\n"
     ]
    },
    {
     "name": "stdout",
     "output_type": "stream",
     "text": [
      "\n",
      "Epoch 00274: val_loss did not improve from 0.05489\n",
      "\n",
      "Epoch 00275: val_loss did not improve from 0.05489\n",
      "\n",
      "Epoch 00276: val_loss did not improve from 0.05489\n"
     ]
    },
    {
     "name": "stdout",
     "output_type": "stream",
     "text": [
      "\n",
      "Epoch 00277: val_loss did not improve from 0.05489\n",
      "\n",
      "Epoch 00278: val_loss did not improve from 0.05489\n",
      "\n",
      "Epoch 00279: val_loss did not improve from 0.05489\n",
      "\n",
      "Epoch 00279: ReduceLROnPlateau reducing learning rate to 0.0009704163488931954.\n",
      "\n",
      "Epoch 00280: val_loss did not improve from 0.05489\n"
     ]
    },
    {
     "name": "stdout",
     "output_type": "stream",
     "text": [
      "\n",
      "Epoch 00281: val_loss did not improve from 0.05489\n",
      "\n",
      "Epoch 00282: val_loss did not improve from 0.05489\n",
      "\n",
      "Epoch 00283: val_loss did not improve from 0.05489\n",
      "\n",
      "Epoch 00284: val_loss did not improve from 0.05489\n"
     ]
    },
    {
     "name": "stdout",
     "output_type": "stream",
     "text": [
      "\n",
      "Epoch 00285: val_loss did not improve from 0.05489\n",
      "\n",
      "Epoch 00286: val_loss did not improve from 0.05489\n",
      "\n",
      "Epoch 00287: val_loss did not improve from 0.05489\n",
      "\n",
      "Epoch 00288: val_loss did not improve from 0.05489\n"
     ]
    },
    {
     "name": "stdout",
     "output_type": "stream",
     "text": [
      "\n",
      "Epoch 00289: val_loss did not improve from 0.05489\n",
      "\n",
      "Epoch 00290: val_loss did not improve from 0.05489\n",
      "\n",
      "Epoch 00291: val_loss did not improve from 0.05489\n",
      "\n",
      "Epoch 00292: val_loss did not improve from 0.05489\n"
     ]
    },
    {
     "name": "stdout",
     "output_type": "stream",
     "text": [
      "\n",
      "Epoch 00293: val_loss did not improve from 0.05489\n",
      "\n",
      "Epoch 00293: ReduceLROnPlateau reducing learning rate to 0.0009684755203779787.\n",
      "\n",
      "Epoch 00294: val_loss did not improve from 0.05489\n",
      "\n",
      "Epoch 00295: val_loss did not improve from 0.05489\n",
      "\n",
      "Epoch 00296: val_loss did not improve from 0.05489\n"
     ]
    },
    {
     "name": "stdout",
     "output_type": "stream",
     "text": [
      "\n",
      "Epoch 00297: val_loss did not improve from 0.05489\n",
      "\n",
      "Epoch 00298: val_loss did not improve from 0.05489\n",
      "\n",
      "Epoch 00299: val_loss did not improve from 0.05489\n",
      "\n",
      "Epoch 00300: val_loss did not improve from 0.05489\n"
     ]
    },
    {
     "name": "stdout",
     "output_type": "stream",
     "text": [
      "\n",
      "Epoch 00301: val_loss did not improve from 0.05489\n",
      "\n",
      "Epoch 00302: val_loss did not improve from 0.05489\n",
      "\n",
      "Epoch 00303: val_loss did not improve from 0.05489\n",
      "\n",
      "Epoch 00304: val_loss did not improve from 0.05489\n"
     ]
    },
    {
     "name": "stdout",
     "output_type": "stream",
     "text": [
      "\n",
      "Epoch 00305: val_loss did not improve from 0.05489\n",
      "\n",
      "Epoch 00306: val_loss did not improve from 0.05489\n"
     ]
    }
   ],
   "source": [
    "hist=model.fit(DATA,LABEL, \n",
    "               batch_size=900,\n",
    "               validation_split=0.1,\n",
    "               callbacks = callbacks_list,\n",
    "               epochs=EPOCHS, \n",
    "               shuffle=True,\n",
    "               verbose=0\n",
    "              )"
   ]
  },
  {
   "cell_type": "code",
   "execution_count": 15,
   "metadata": {
    "jupyter": {
     "source_hidden": true
    },
    "papermill": {
     "duration": 0.226954,
     "end_time": "2019-11-24T02:56:01.692417",
     "exception": false,
     "start_time": "2019-11-24T02:56:01.465463",
     "status": "completed"
    },
    "tags": []
   },
   "outputs": [
    {
     "data": {
      "image/png": "[encoded data removed]",
      "text/plain": [
       "<Figure size 432x288 with 1 Axes>"
      ]
     },
     "metadata": {},
     "output_type": "display_data"
    }
   ],
   "source": [
    "plt.plot(hist.history['accuracy'])\n",
    "plt.plot(hist.history['val_accuracy'])\n",
    "plt.title('model accuracy')\n",
    "plt.ylabel('accuracy')\n",
    "plt.xlabel('epoch')\n",
    "plt.legend(['train', 'test'], loc='lower right')\n",
    "plt.savefig('{}/acc_{}.png'.format(plot_dir, TEST_ID))\n",
    "plt.show()"
   ]
  },
  {
   "cell_type": "code",
   "execution_count": 16,
   "metadata": {
    "jupyter": {
     "source_hidden": true
    },
    "papermill": {
     "duration": 0.205078,
     "end_time": "2019-11-24T02:56:01.924450",
     "exception": false,
     "start_time": "2019-11-24T02:56:01.719372",
     "status": "completed"
    },
    "tags": []
   },
   "outputs": [
    {
     "data": {
      "image/png": "[encoded data removed]",
      "text/plain": [
       "<Figure size 432x288 with 1 Axes>"
      ]
     },
     "metadata": {},
     "output_type": "display_data"
    }
   ],
   "source": [
    "plt.plot(hist.history['loss'])\n",
    "plt.plot(hist.history['val_loss'])\n",
    "plt.title('model loss')\n",
    "plt.ylabel('loss')\n",
    "plt.xlabel('epoch')\n",
    "plt.legend(['train', 'test'], loc='upper right')\n",
    "plt.savefig('{}/loss_{}.png'.format(plot_dir, TEST_ID))\n",
    "plt.show()"
   ]
  },
  {
   "cell_type": "code",
   "execution_count": 17,
   "metadata": {
    "jupyter": {
     "source_hidden": true
    },
    "papermill": {
     "duration": 0.035693,
     "end_time": "2019-11-24T02:56:01.989001",
     "exception": false,
     "start_time": "2019-11-24T02:56:01.953308",
     "status": "completed"
    },
    "tags": []
   },
   "outputs": [
    {
     "data": {
      "text/plain": [
       "(0.962963, 1.0)"
      ]
     },
     "execution_count": 17,
     "metadata": {},
     "output_type": "execute_result"
    }
   ],
   "source": [
    "max(hist.history['accuracy']), max(hist.history['val_accuracy']) "
   ]
  },
  {
   "cell_type": "code",
   "execution_count": 18,
   "metadata": {
    "jupyter": {
     "source_hidden": true
    },
    "papermill": {
     "duration": 0.037656,
     "end_time": "2019-11-24T02:56:02.056425",
     "exception": false,
     "start_time": "2019-11-24T02:56:02.018769",
     "status": "completed"
    },
    "tags": []
   },
   "outputs": [
    {
     "data": {
      "text/plain": [
       "(0.10442755371332169, 0.054894160479307175)"
      ]
     },
     "execution_count": 18,
     "metadata": {},
     "output_type": "execute_result"
    }
   ],
   "source": [
    "min(hist.history['loss']), min(hist.history['val_loss']) "
   ]
  }
 ],
 "metadata": {
  "kernelspec": {
   "display_name": "Python 3",
   "language": "python",
   "name": "python3"
  },
  "language_info": {
   "codemirror_mode": {
    "name": "ipython",
    "version": 3
   },
   "file_extension": ".py",
   "mimetype": "text/x-python",
   "name": "python",
   "nbconvert_exporter": "python",
   "pygments_lexer": "ipython3",
   "version": "3.8.0"
  },
  "papermill": {
   "duration": 34.093065,
   "end_time": "2019-11-24T02:56:03.294017",
   "environment_variables": {},
   "exception": null,
   "input_path": "Train1.ipynb",
   "output_path": "nb_output/Train1_cls:3_loss:relu_bnm:True_drop:0.7_epo:450_opt:adam.ipynb",
   "parameters": {
    "BATCH": true,
    "DROPRATE": 0.7,
    "EPOCHS": 450,
    "classes": 3,
    "lossfn": "relu",
    "optim": "adam"
   },
   "start_time": "2019-11-24T02:55:29.200952",
   "version": "1.2.1"
  }
 },
 "nbformat": 4,
 "nbformat_minor": 4
}